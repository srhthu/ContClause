{
 "cells": [
  {
   "cell_type": "markdown",
   "metadata": {},
   "source": [
    "# Exploring LEDGAR Dataset\n",
    "\n",
    "The LEDGAR dataset is introduced by the [paper](https://aclanthology.org/2020.lrec-1.155.pdf) *LEDGAR: A Large-Scale Multilabel Corpus for\n",
    "Text Classification of Legal Provisions in Contracts* \n",
    "\n",
    "The dataset is available at https://drive.switch.ch/index.php/s/j9S0GRMAbGZKa1A\n",
    "\n",
    "## Background\n",
    "\n",
    "This dataset provides **contract provisions and their labels**. The labels are parsed from the provision titles.\n",
    "\n",
    "The contract corpus is from the **U.S. Securities and Exchange Commission**(SEC). The paper claims \"12,000 labels\n",
    "annotated in almost 100,000 provisions in over 60,000 contracts\".\n",
    "\n",
    "## Download\n",
    "\n",
    "Download the whole dataset\n",
    "```Bash\n",
    "wget https://drive.switch.ch/index.php/s/j9S0GRMAbGZKa1A/download?path=%2F&files=LEDGAR_2016-2019_clean.jsonl.zip\n",
    "\n",
    "# unzip the file\n",
    "unzip 'download?path=%2F'\n",
    "\n",
    "# Then get the LEDGAR folder\n",
    "# There are four files: LEDGAR_2016-2019_clean.jsonl.zip  LEDGAR_2016-2019.jsonl.zip  README.txt  sec_crawl_data.tgz\n",
    "\n",
    "unzip LEDGAR_2016-2019.jsonl.zip\n",
    "# get sec_corpus_2016-2019.jsonl\n",
    "\n",
    "unzip LEDGAR_2016-2019_clean.jsonl.zip\n",
    "# get LEDGAR_2016-2019_clean.jsonl\n",
    "```\n"
   ]
  },
  {
   "cell_type": "markdown",
   "metadata": {},
   "source": [
    "## Statistics"
   ]
  },
  {
   "cell_type": "code",
   "execution_count": 34,
   "metadata": {},
   "outputs": [],
   "source": [
    "import json\n",
    "from pathlib import Path\n",
    "import pandas as pd\n",
    "import numpy as np\n",
    "import matplotlib.pyplot as plt\n",
    "from collections import Counter\n",
    "from IPython.display import display"
   ]
  },
  {
   "cell_type": "code",
   "execution_count": 24,
   "metadata": {},
   "outputs": [],
   "source": [
    "def load_json(fname):\n",
    "    return json.load(open(fname, encoding = 'utf8'))\n",
    "def load_jsonl(fname):\n",
    "    return [json.loads(k) for k in open(fname, encoding = 'utf8')]\n",
    "\n",
    "# Functions of statistics and visualization\n",
    "def count_labs(labs, no_print = False):\n",
    "    \"\"\"Statistics of a list of labels, including n_unique and most common\"\"\"\n",
    "    TOP_K = 5\n",
    "    ct = Counter(labs)\n",
    "    most_comm = list(ct.items())[:TOP_K]\n",
    "    if not no_print:\n",
    "        print(f'Number of unique: {len(ct)}')\n",
    "        print(f'{most_comm}')\n",
    "    return ct"
   ]
  },
  {
   "cell_type": "code",
   "execution_count": 26,
   "metadata": {},
   "outputs": [],
   "source": [
    "ds_folder = Path(\"/storage/rhshui/workspace/datasets/ledgar/LEDGAR\")\n",
    "\n",
    "clean_data = load_jsonl(ds_folder / 'LEDGAR_2016-2019_clean.jsonl')\n",
    "\n",
    "raw_data = load_jsonl(ds_folder / 'sec_corpus_2016-2019.jsonl')"
   ]
  },
  {
   "cell_type": "markdown",
   "metadata": {},
   "source": [
    "### Overview\n",
    "\n",
    "There are two versions: *raw* and *clean*.\n",
    "\n",
    "The *raw* version is described in Section 3.2 in the paper, including 1,850,284 labeled provisions in\n",
    "72,605 contracts and a labelset of size 183,622.\n",
    "\n",
    "The *clean* version is described in Section 3.3, including 846,274 provision and 12,608 labels.\n",
    "- The cleanup consists of label split, e.g., by connections & and comma, pruning, et al.\n",
    "\n",
    "**Format**: each sample consists of three fields: \n",
    "- `provision`: string of the provision text\n",
    "- `label`: a list of provision labels\n",
    "- `source`: SEC ID of the contracts"
   ]
  },
  {
   "cell_type": "code",
   "execution_count": 39,
   "metadata": {},
   "outputs": [
    {
     "name": "stdout",
     "output_type": "stream",
     "text": [
      "******************** Raw ********************\n"
     ]
    },
    {
     "data": {
      "text/html": [
       "<div>\n",
       "<style scoped>\n",
       "    .dataframe tbody tr th:only-of-type {\n",
       "        vertical-align: middle;\n",
       "    }\n",
       "\n",
       "    .dataframe tbody tr th {\n",
       "        vertical-align: top;\n",
       "    }\n",
       "\n",
       "    .dataframe thead th {\n",
       "        text-align: right;\n",
       "    }\n",
       "</style>\n",
       "<table border=\"1\" class=\"dataframe\">\n",
       "  <thead>\n",
       "    <tr style=\"text-align: right;\">\n",
       "      <th></th>\n",
       "      <th>provision</th>\n",
       "      <th>label</th>\n",
       "      <th>source</th>\n",
       "    </tr>\n",
       "  </thead>\n",
       "  <tbody>\n",
       "    <tr>\n",
       "      <th>0</th>\n",
       "      <td>Section and Subsection headings in this Amendm...</td>\n",
       "      <td>[headings]</td>\n",
       "      <td>2019/QTR1/000119312519044328/d691151dex101.htm</td>\n",
       "    </tr>\n",
       "    <tr>\n",
       "      <th>1</th>\n",
       "      <td>THIS AMENDMENT AND THE RIGHTS AND OBLIGATIONS ...</td>\n",
       "      <td>[applicable law]</td>\n",
       "      <td>2019/QTR1/000119312519044328/d691151dex101.htm</td>\n",
       "    </tr>\n",
       "    <tr>\n",
       "      <th>2</th>\n",
       "      <td>This Amendment may be executed in any number o...</td>\n",
       "      <td>[counterparts]</td>\n",
       "      <td>2019/QTR1/000119312519044328/d691151dex101.htm</td>\n",
       "    </tr>\n",
       "  </tbody>\n",
       "</table>\n",
       "</div>"
      ],
      "text/plain": [
       "                                           provision             label   \n",
       "0  Section and Subsection headings in this Amendm...        [headings]  \\\n",
       "1  THIS AMENDMENT AND THE RIGHTS AND OBLIGATIONS ...  [applicable law]   \n",
       "2  This Amendment may be executed in any number o...    [counterparts]   \n",
       "\n",
       "                                           source  \n",
       "0  2019/QTR1/000119312519044328/d691151dex101.htm  \n",
       "1  2019/QTR1/000119312519044328/d691151dex101.htm  \n",
       "2  2019/QTR1/000119312519044328/d691151dex101.htm  "
      ]
     },
     "metadata": {},
     "output_type": "display_data"
    },
    {
     "name": "stdout",
     "output_type": "stream",
     "text": [
      "Number of provisions: 1850284\n",
      "Num of labels: 183622\n",
      "Num of contracts: 72605\n",
      "******************** Clean ********************\n"
     ]
    },
    {
     "data": {
      "text/html": [
       "<div>\n",
       "<style scoped>\n",
       "    .dataframe tbody tr th:only-of-type {\n",
       "        vertical-align: middle;\n",
       "    }\n",
       "\n",
       "    .dataframe tbody tr th {\n",
       "        vertical-align: top;\n",
       "    }\n",
       "\n",
       "    .dataframe thead th {\n",
       "        text-align: right;\n",
       "    }\n",
       "</style>\n",
       "<table border=\"1\" class=\"dataframe\">\n",
       "  <thead>\n",
       "    <tr style=\"text-align: right;\">\n",
       "      <th></th>\n",
       "      <th>provision</th>\n",
       "      <th>label</th>\n",
       "      <th>source</th>\n",
       "    </tr>\n",
       "  </thead>\n",
       "  <tbody>\n",
       "    <tr>\n",
       "      <th>0</th>\n",
       "      <td>Section and Subsection headings in this Amendm...</td>\n",
       "      <td>[headings]</td>\n",
       "      <td>2019/QTR1/000119312519044328/d691151dex101.htm</td>\n",
       "    </tr>\n",
       "    <tr>\n",
       "      <th>1</th>\n",
       "      <td>THIS AMENDMENT AND THE RIGHTS AND OBLIGATIONS ...</td>\n",
       "      <td>[applicable laws]</td>\n",
       "      <td>2019/QTR1/000119312519044328/d691151dex101.htm</td>\n",
       "    </tr>\n",
       "    <tr>\n",
       "      <th>2</th>\n",
       "      <td>This Amendment may be executed in any number o...</td>\n",
       "      <td>[counterparts]</td>\n",
       "      <td>2019/QTR1/000119312519044328/d691151dex101.htm</td>\n",
       "    </tr>\n",
       "  </tbody>\n",
       "</table>\n",
       "</div>"
      ],
      "text/plain": [
       "                                           provision              label   \n",
       "0  Section and Subsection headings in this Amendm...         [headings]  \\\n",
       "1  THIS AMENDMENT AND THE RIGHTS AND OBLIGATIONS ...  [applicable laws]   \n",
       "2  This Amendment may be executed in any number o...     [counterparts]   \n",
       "\n",
       "                                           source  \n",
       "0  2019/QTR1/000119312519044328/d691151dex101.htm  \n",
       "1  2019/QTR1/000119312519044328/d691151dex101.htm  \n",
       "2  2019/QTR1/000119312519044328/d691151dex101.htm  "
      ]
     },
     "metadata": {},
     "output_type": "display_data"
    },
    {
     "name": "stdout",
     "output_type": "stream",
     "text": [
      "Number of provisions: 846274\n",
      "Num of labels: 12608\n",
      "Num of contracts: 60540\n"
     ]
    }
   ],
   "source": [
    "# Show this statistics\n",
    "# For raw version\n",
    "raw_df = pd.DataFrame(raw_data)\n",
    "print('*'*20 + ' Raw ' + '*'*20)\n",
    "display(raw_df.head(3))\n",
    "print(f'Number of provisions: {len(raw_df)}')\n",
    "print(f'Num of labels: {raw_df[\"label\"].explode().nunique()}')\n",
    "print(f'Num of contracts: {raw_df.source.nunique()}')\n",
    "\n",
    "# For clean version\n",
    "clean_df = pd.DataFrame(clean_data)\n",
    "print('*'*20 + ' Clean ' + '*'*20)\n",
    "display(clean_df.head(3))\n",
    "print(f'Number of provisions: {len(clean_df)}')\n",
    "print(f'Num of labels: {clean_df[\"label\"].explode().nunique()}')\n",
    "print(f'Num of contracts: {clean_df.source.nunique()}')"
   ]
  },
  {
   "cell_type": "markdown",
   "metadata": {},
   "source": [
    "### Label Sub-sampling\n",
    "\n",
    "Section 4.1 of the paper discuss the selection of labels. We replicate these selections.\n",
    "\n",
    "**Prototypical** refers to top 13 most common labels, shown as follows:"
   ]
  },
  {
   "cell_type": "code",
   "execution_count": 51,
   "metadata": {},
   "outputs": [
    {
     "name": "stdout",
     "output_type": "stream",
     "text": [
      "[('amendments', 13262), ('assignments', 6246), ('assigns', 6363), ('compliance with laws', 4991), ('counterparts', 11708), ('entire agreements', 11825), ('expenses', 9066), ('fees', 4504), ('governing laws', 17377), ('insurances', 4677), ('notices', 10359), ('representations', 6082), ('severability', 9023), ('successors', 8508), ('survival', 6226), ('taxes', 5376), ('terminations', 5436), ('terms', 4840), ('waivers', 9354), ('warranties', 5894)]\n"
     ]
    }
   ],
   "source": [
    "lab_counts = clean_df.label.explode().value_counts()\n",
    "proto_labels = list(lab_counts.items())[:14]\n",
    "# uncomment the following line to sort alphabetically\n",
    "# proto_labels.sort(key = lambda k: k[0])\n",
    "print(proto_labels)"
   ]
  },
  {
   "cell_type": "code",
   "execution_count": 52,
   "metadata": {},
   "outputs": [
    {
     "data": {
      "text/plain": [
       "label\n",
       "governing laws          17377\n",
       "amendments              13262\n",
       "entire agreements       11825\n",
       "counterparts            11708\n",
       "notices                 10359\n",
       "waivers                  9354\n",
       "expenses                 9066\n",
       "severability             9023\n",
       "successors               8508\n",
       "assigns                  6363\n",
       "assignments              6246\n",
       "survival                 6226\n",
       "representations          6082\n",
       "warranties               5894\n",
       "terminations             5436\n",
       "taxes                    5376\n",
       "compliance with laws     4991\n",
       "terms                    4840\n",
       "insurances               4677\n",
       "fees                     4504\n",
       "Name: count, dtype: int64"
      ]
     },
     "execution_count": 52,
     "metadata": {},
     "output_type": "execute_result"
    }
   ],
   "source": [
    "top_counts"
   ]
  },
  {
   "cell_type": "code",
   "execution_count": 42,
   "metadata": {},
   "outputs": [
    {
     "data": {
      "text/plain": [
       "label\n",
       "governing law             36106\n",
       "counterparts              30665\n",
       "severability              30196\n",
       "entire agreement          21805\n",
       "headings                  16053\n",
       "notices                   14923\n",
       "successors and assigns    12748\n",
       "survival                  11968\n",
       "waiver of jury trial       8602\n",
       "further assurances         8321\n",
       "waiver                     8003\n",
       "amendment                  7920\n",
       "amendments                 7557\n",
       "Name: count, dtype: int64"
      ]
     },
     "execution_count": 42,
     "metadata": {},
     "output_type": "execute_result"
    }
   ],
   "source": [
    "raw_df.label.explode().value_counts().head(13)"
   ]
  },
  {
   "cell_type": "code",
   "execution_count": null,
   "metadata": {},
   "outputs": [],
   "source": []
  }
 ],
 "metadata": {
  "kernelspec": {
   "display_name": "llm",
   "language": "python",
   "name": "python3"
  },
  "language_info": {
   "codemirror_mode": {
    "name": "ipython",
    "version": 3
   },
   "file_extension": ".py",
   "mimetype": "text/x-python",
   "name": "python",
   "nbconvert_exporter": "python",
   "pygments_lexer": "ipython3",
   "version": "3.9.16"
  }
 },
 "nbformat": 4,
 "nbformat_minor": 2
}
