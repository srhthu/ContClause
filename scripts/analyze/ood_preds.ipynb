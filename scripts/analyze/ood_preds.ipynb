{
 "cells": [
  {
   "cell_type": "markdown",
   "metadata": {},
   "source": [
    "# Model Performance Analyze"
   ]
  },
  {
   "cell_type": "code",
   "execution_count": 133,
   "metadata": {},
   "outputs": [],
   "source": [
    "import sys\n",
    "import os\n",
    "sys.path.insert(0, '../../')\n",
    "import numpy as np\n",
    "import pandas as pd\n",
    "from pathlib import Path\n",
    "from ast import literal_eval\n",
    "from collections import Counter\n",
    "from IPython.display import display\n",
    "from typing import List, Union, Callable\n",
    "\n",
    "from cont_gen.utils.io import load_json, load_jsonl, load_pickle\n",
    "from cont_gen.evaluate.token_metrics import get_point_counts\n",
    "from cont_gen.evaluate.cal_metrics import safe_p_r_f1_iou_score"
   ]
  },
  {
   "cell_type": "code",
   "execution_count": 127,
   "metadata": {},
   "outputs": [],
   "source": [
    "# Define some helpfule functions\n",
    "class Helper:\n",
    "    def __init__(self, clause_info = None, para_data = None):\n",
    "        self.helpers:List[Union[ClauseInfoHelper, ParaDataHelper]] = []\n",
    "        if clause_info is not None:\n",
    "            self.helpers.append(ClauseInfoHelper(clause_info))\n",
    "        if para_data is not None:\n",
    "            self.helpers.append(ParaDataHelper(para_data))\n",
    "    \n",
    "    def __getattr__(self, name) -> Callable:\n",
    "        for helper in self.helpers:\n",
    "            if hasattr(helper, name):\n",
    "                return getattr(helper, name)\n",
    "        raise AttributeError\n",
    "\n",
    "class ClauseInfoHelper:\n",
    "    \"\"\"Basic functions0. to show clause information\"\"\"\n",
    "    def __init__(self, clause_info):\n",
    "        self.clause_info = clause_info\n",
    "    \n",
    "    def get_cla_name(self, cla_id):\n",
    "        \"\"\"Return clause name based on clause id\"\"\"\n",
    "        return self.clause_info.iloc[cla_id, 0]\n",
    "\n",
    "class ParaDataHelper:\n",
    "    \"\"\"Retrieve based on contract title and para_idx for clean data format\"\"\"\n",
    "    def __init__(self, para_data):\n",
    "        self.para_data = para_data\n",
    "        \n",
    "        meta2para = {}\n",
    "        for doc in para_data:\n",
    "            title = doc['title']\n",
    "            for pi, para in enumerate(doc['paras']):\n",
    "                meta2para[(title, pi)] = para\n",
    "        self.meta2para = meta2para\n",
    "    \n",
    "    def get_text(self, title, para_idx):\n",
    "        return self.meta2para.get((title, para_idx), {}).get('text')\n",
    "    \n",
    "    def get_para(self, title, para_idx):\n",
    "        return self.meta2para.get((title, para_idx), {})"
   ]
  },
  {
   "cell_type": "code",
   "execution_count": 2,
   "metadata": {},
   "outputs": [],
   "source": [
    "# Load original data\n",
    "seed = 42\n",
    "proj_dir = Path.resolve(Path('../../'))"
   ]
  },
  {
   "cell_type": "code",
   "execution_count": 3,
   "metadata": {},
   "outputs": [],
   "source": [
    "split_dir = proj_dir / f'data/ood_split/seed{seed}_tr29/llama3'\n",
    "train_meta = pd.read_csv(split_dir / 'train_meta.csv', converters={'answers': literal_eval})\n",
    "test_meta_id = pd.read_csv(split_dir / 'test_meta_id.csv', converters={'answers': literal_eval})\n",
    "test_meta_ood = pd.read_csv(split_dir / 'test_meta_ood.csv', converters={'answers': literal_eval})"
   ]
  },
  {
   "cell_type": "code",
   "execution_count": 7,
   "metadata": {},
   "outputs": [],
   "source": [
    "all_paras = load_jsonl(proj_dir / 'data/cuad_clean/merge_split/paras_llama3_512.jsonl')\n",
    "raw_cuad = load_json(proj_dir / 'data/cuad_split/CUADv1.json')\n",
    "clause_info = pd.read_csv(proj_dir / 'data/clause/all_info.csv')"
   ]
  },
  {
   "cell_type": "code",
   "execution_count": 128,
   "metadata": {},
   "outputs": [],
   "source": [
    "helper = Helper(clause_info ,all_paras)"
   ]
  },
  {
   "cell_type": "code",
   "execution_count": 6,
   "metadata": {},
   "outputs": [
    {
     "data": {
      "text/plain": [
       "array([ 2,  3,  4,  9, 10, 11, 12, 13, 16, 18, 19, 20, 21, 22, 23, 24, 25,\n",
       "       26, 28, 29, 30, 31, 32, 33, 34, 35, 36, 37, 39])"
      ]
     },
     "execution_count": 6,
     "metadata": {},
     "output_type": "execute_result"
    }
   ],
   "source": [
    "test_meta_id['q_id'].unique()"
   ]
  },
  {
   "cell_type": "code",
   "execution_count": 9,
   "metadata": {},
   "outputs": [],
   "source": [
    "# Get predictions\n",
    "id_preds = load_jsonl(proj_dir / 'runs/ood/llama3/seed42_tr29/pmt_01_all_lr1e-5_bs16_wd0.0/checkpoint-78460/predictions_id_sampled.jsonl')\n",
    "ood_preds = load_jsonl(proj_dir / 'runs/ood/llama3/seed42_tr29/pmt_01_all_lr1e-5_bs16_wd0.0/checkpoint-78460/predictions_ood_sampled.jsonl')"
   ]
  },
  {
   "cell_type": "code",
   "execution_count": 11,
   "metadata": {},
   "outputs": [
    {
     "name": "stdout",
     "output_type": "stream",
     "text": [
      "41731\n",
      "162371\n"
     ]
    }
   ],
   "source": [
    "print(len(id_preds))\n",
    "print(len(test_meta_id))\n",
    "# The sampled test samples are thoes with type 1,2 and 3 in meta data."
   ]
  },
  {
   "cell_type": "markdown",
   "metadata": {},
   "source": [
    "## Analyze for each clause type"
   ]
  },
  {
   "cell_type": "markdown",
   "metadata": {},
   "source": [
    "### Get Metrics for Each Sample"
   ]
  },
  {
   "cell_type": "code",
   "execution_count": 80,
   "metadata": {},
   "outputs": [],
   "source": [
    "def parse_pred(text: str):\n",
    "    if text == 'No' or text == 'No.':\n",
    "        return ''\n",
    "    else:\n",
    "        text = text.removeprefix('Yes.')\n",
    "        lines = [k for k in text.split('\\n') if k]\n",
    "        lines = [k.removeprefix('- ') for k in lines]\n",
    "        return ' '.join(lines)\n",
    "\n",
    "def get_point_metrics(row):\n",
    "    pred = parse_pred(row['prediction'])\n",
    "    ground = ' '.join(row['answers'])\n",
    "    counts = get_point_counts(ground, pred)\n",
    "    p, r, f1, iou = safe_p_r_f1_iou_score(*counts)\n",
    "    return {'p': p, 'r': r, 'f1': f1, 'iou': iou}\n",
    "\n",
    "def add_metrics(df: pd.DataFrame)->pd.DataFrame:\n",
    "    met_df = pd.DataFrame(df.apply(get_point_metrics, axis = 1).tolist())\n",
    "    return pd.concat([df, met_df], axis = 1)"
   ]
  },
  {
   "cell_type": "code",
   "execution_count": 81,
   "metadata": {},
   "outputs": [
    {
     "name": "stdout",
     "output_type": "stream",
     "text": [
      "Index(['title', 'para_idx', 'q_id', 'answers', 'type'], dtype='object')\n",
      "dict_keys(['title', 'para_idx', 'q_id', 'type', 'prediction'])\n",
      "41731\n",
      "41731\n"
     ]
    },
    {
     "data": {
      "text/html": [
       "<div>\n",
       "<style scoped>\n",
       "    .dataframe tbody tr th:only-of-type {\n",
       "        vertical-align: middle;\n",
       "    }\n",
       "\n",
       "    .dataframe tbody tr th {\n",
       "        vertical-align: top;\n",
       "    }\n",
       "\n",
       "    .dataframe thead th {\n",
       "        text-align: right;\n",
       "    }\n",
       "</style>\n",
       "<table border=\"1\" class=\"dataframe\">\n",
       "  <thead>\n",
       "    <tr style=\"text-align: right;\">\n",
       "      <th></th>\n",
       "      <th>title</th>\n",
       "      <th>para_idx</th>\n",
       "      <th>q_id</th>\n",
       "      <th>answers</th>\n",
       "      <th>type</th>\n",
       "      <th>prediction</th>\n",
       "      <th>p</th>\n",
       "      <th>r</th>\n",
       "      <th>f1</th>\n",
       "      <th>iou</th>\n",
       "    </tr>\n",
       "  </thead>\n",
       "  <tbody>\n",
       "    <tr>\n",
       "      <th>0</th>\n",
       "      <td>LohaCompanyltd_20191209_F-1_EX-10.16_11917878_...</td>\n",
       "      <td>3</td>\n",
       "      <td>2</td>\n",
       "      <td>[]</td>\n",
       "      <td>2</td>\n",
       "      <td>No</td>\n",
       "      <td>1.0</td>\n",
       "      <td>1.0</td>\n",
       "      <td>1.0</td>\n",
       "      <td>1.0</td>\n",
       "    </tr>\n",
       "    <tr>\n",
       "      <th>1</th>\n",
       "      <td>LohaCompanyltd_20191209_F-1_EX-10.16_11917878_...</td>\n",
       "      <td>3</td>\n",
       "      <td>3</td>\n",
       "      <td>[]</td>\n",
       "      <td>2</td>\n",
       "      <td>No</td>\n",
       "      <td>1.0</td>\n",
       "      <td>1.0</td>\n",
       "      <td>1.0</td>\n",
       "      <td>1.0</td>\n",
       "    </tr>\n",
       "  </tbody>\n",
       "</table>\n",
       "</div>"
      ],
      "text/plain": [
       "                                               title  para_idx  q_id answers   \n",
       "0  LohaCompanyltd_20191209_F-1_EX-10.16_11917878_...         3     2      []  \\\n",
       "1  LohaCompanyltd_20191209_F-1_EX-10.16_11917878_...         3     3      []   \n",
       "\n",
       "   type prediction    p    r   f1  iou  \n",
       "0     2         No  1.0  1.0  1.0  1.0  \n",
       "1     2         No  1.0  1.0  1.0  1.0  "
      ]
     },
     "execution_count": 81,
     "metadata": {},
     "output_type": "execute_result"
    }
   ],
   "source": [
    "print(test_meta_id.columns)\n",
    "print(id_preds[0].keys())\n",
    "\n",
    "# Merge samples and their predictions\n",
    "id_preds_df = pd.DataFrame(id_preds)\n",
    "print(len(id_preds_df))\n",
    "id_comb = pd.merge(test_meta_id, id_preds_df, how = 'inner', on = ['title', 'para_idx', 'q_id', 'type'])\n",
    "print(len(id_comb))\n",
    "id_comb.head(2)\n",
    "\n",
    "id_comb = add_metrics(id_comb)\n",
    "id_comb.head(2)"
   ]
  },
  {
   "cell_type": "markdown",
   "metadata": {},
   "source": [
    "### Clause Type Performance"
   ]
  },
  {
   "cell_type": "code",
   "execution_count": 125,
   "metadata": {},
   "outputs": [],
   "source": [
    "def show_para_quests(df: pd.DataFrame, title, para_idx):\n",
    "    \"\"\"\n",
    "    Print the positive question and negative questions with positive predictions.\n",
    "    \"\"\"\n",
    "    part = df[(df['title'] == title) & (df['para_idx'] == para_idx)]\n",
    "    def ft_func(row):\n",
    "        return row['type'] == 1 or (row['type'] == 2 and row['iou'] < 0.99)\n",
    "    display(part[part.apply(ft_func, axis = 1)])"
   ]
  },
  {
   "cell_type": "code",
   "execution_count": 60,
   "metadata": {},
   "outputs": [],
   "source": [
    "# Map from meta data to paragraph data\n",
    "meta2para = {}\n",
    "meta2text = {}\n",
    "for doc in all_paras:\n",
    "    title = doc['title']\n",
    "    for pi, para in enumerate(doc['paras']):\n",
    "        meta2para[(title, pi)] = para\n",
    "        meta2text[(title, pi)] = para['text']"
   ]
  },
  {
   "cell_type": "code",
   "execution_count": 59,
   "metadata": {},
   "outputs": [
    {
     "data": {
      "text/plain": [
       "dict_keys(['text', 'offset', 'qas', 'old_para_idx'])"
      ]
     },
     "execution_count": 59,
     "metadata": {},
     "output_type": "execute_result"
    }
   ],
   "source": [
    "all_paras[0]['paras'][0].keys()"
   ]
  },
  {
   "cell_type": "code",
   "execution_count": 105,
   "metadata": {},
   "outputs": [
    {
     "name": "stdout",
     "output_type": "stream",
     "text": [
      "Effective Date\n",
      "Total IOU: 0.9573\n",
      "True Pos: 0.5842, Confuse: 0.9692, Rand Neg: 0.9980\n"
     ]
    }
   ],
   "source": [
    "comb_df = id_comb # specify the metric-combined dataframe\n",
    "q_ids = test_meta_id['q_id'].unique().tolist()\n",
    "\n",
    "q_id = q_ids[1]\n",
    "cla_name = clause_info.iloc[q_id,0]\n",
    "print(cla_name)\n",
    "\n",
    "part = comb_df[comb_df['q_id'] == q_id]\n",
    "ave_iou = part['iou'].mean()\n",
    "\n",
    "# IOU on splits: TP, tp_other (has other clause), Neg_rand\n",
    "iou_tp = part[part['type'] == 1]['iou'].mean()\n",
    "iou_ot = part[part['type'] == 2]['iou'].mean()\n",
    "iou_rd = part[part['type'] == 3]['iou'].mean()\n",
    "\n",
    "print(f'Total IOU: {ave_iou:.4f}\\nTrue Pos: {iou_tp:.4f}, Confuse: {iou_ot:.4f}, Rand Neg: {iou_rd:.4f}')"
   ]
  },
  {
   "cell_type": "code",
   "execution_count": 106,
   "metadata": {},
   "outputs": [
    {
     "name": "stdout",
     "output_type": "stream",
     "text": [
      "36\n"
     ]
    }
   ],
   "source": [
    "# Bad performance on true positive\n",
    "part_up_tp = part[(part['type'] == 1) & (part['iou'] < 0.9)]\n",
    "print(len(part_up_tp))"
   ]
  },
  {
   "cell_type": "code",
   "execution_count": 122,
   "metadata": {},
   "outputs": [
    {
     "name": "stdout",
     "output_type": "stream",
     "text": [
      " (Signature Pages Follow)\n",
      " -8-\n",
      " CITY OF FORT STOCKTON:\n",
      " CITY OF FORT STOCKTON\n",
      "By: _ (Printed Name) Title: Date:\n",
      " STATE OF TEXAS § COUNTY OF PECOS §\n",
      "This instrument was acknowledged before me on the day of , 2014, by Raul B. Rodriguez, City Manager of the City of Fort Stockton.\n",
      " Notary Public, State of Texas My Commission Expires\n",
      "answers: ['day of , 2014']\n",
      "prediction: No\n",
      "iou: 0.0\n"
     ]
    }
   ],
   "source": [
    "idx = 8\n",
    "row = part_up_tp.iloc[idx].to_dict()\n",
    "p_text = meta2text[(row['title'], row['para_idx'])]\n",
    "print(p_text)\n",
    "print(f'answers: {row[\"answers\"]}')\n",
    "print(f'prediction: {row[\"prediction\"]}')\n",
    "print(f'iou: {row[\"iou\"]}')"
   ]
  },
  {
   "cell_type": "code",
   "execution_count": 126,
   "metadata": {},
   "outputs": [
    {
     "data": {
      "text/html": [
       "<div>\n",
       "<style scoped>\n",
       "    .dataframe tbody tr th:only-of-type {\n",
       "        vertical-align: middle;\n",
       "    }\n",
       "\n",
       "    .dataframe tbody tr th {\n",
       "        vertical-align: top;\n",
       "    }\n",
       "\n",
       "    .dataframe thead th {\n",
       "        text-align: right;\n",
       "    }\n",
       "</style>\n",
       "<table border=\"1\" class=\"dataframe\">\n",
       "  <thead>\n",
       "    <tr style=\"text-align: right;\">\n",
       "      <th></th>\n",
       "      <th>title</th>\n",
       "      <th>para_idx</th>\n",
       "      <th>q_id</th>\n",
       "      <th>answers</th>\n",
       "      <th>type</th>\n",
       "      <th>prediction</th>\n",
       "      <th>p</th>\n",
       "      <th>r</th>\n",
       "      <th>f1</th>\n",
       "      <th>iou</th>\n",
       "    </tr>\n",
       "  </thead>\n",
       "  <tbody>\n",
       "    <tr>\n",
       "      <th>6753</th>\n",
       "      <td>STWRESOURCESHOLDINGCORP_08_06_2014-EX-10.1-COO...</td>\n",
       "      <td>17</td>\n",
       "      <td>2</td>\n",
       "      <td>[day of , 2014]</td>\n",
       "      <td>1</td>\n",
       "      <td>No</td>\n",
       "      <td>1.0</td>\n",
       "      <td>0.0</td>\n",
       "      <td>0.0</td>\n",
       "      <td>0.0</td>\n",
       "    </tr>\n",
       "    <tr>\n",
       "      <th>6754</th>\n",
       "      <td>STWRESOURCESHOLDINGCORP_08_06_2014-EX-10.1-COO...</td>\n",
       "      <td>17</td>\n",
       "      <td>3</td>\n",
       "      <td>[day of , 2014]</td>\n",
       "      <td>1</td>\n",
       "      <td>No</td>\n",
       "      <td>1.0</td>\n",
       "      <td>0.0</td>\n",
       "      <td>0.0</td>\n",
       "      <td>0.0</td>\n",
       "    </tr>\n",
       "  </tbody>\n",
       "</table>\n",
       "</div>"
      ],
      "text/plain": [
       "                                                  title  para_idx  q_id   \n",
       "6753  STWRESOURCESHOLDINGCORP_08_06_2014-EX-10.1-COO...        17     2  \\\n",
       "6754  STWRESOURCESHOLDINGCORP_08_06_2014-EX-10.1-COO...        17     3   \n",
       "\n",
       "              answers  type prediction    p    r   f1  iou  \n",
       "6753  [day of , 2014]     1         No  1.0  0.0  0.0  0.0  \n",
       "6754  [day of , 2014]     1         No  1.0  0.0  0.0  0.0  "
      ]
     },
     "metadata": {},
     "output_type": "display_data"
    }
   ],
   "source": [
    "show_para_quests(comb_df, row['title'], row['para_idx'])"
   ]
  },
  {
   "cell_type": "code",
   "execution_count": 66,
   "metadata": {},
   "outputs": [
    {
     "name": "stdout",
     "output_type": "stream",
     "text": [
      "0 Document Name\n",
      "1 Parties\n",
      "2 Agreement Date\n",
      "3 Effective Date\n",
      "4 Expiration Date\n",
      "5 Renewal Term\n",
      "6 Notice Period To Terminate Renewal\n",
      "7 Governing Law\n",
      "8 Most Favored Nation\n",
      "9 Non-Compete\n",
      "10 Exclusivity\n",
      "11 No-Solicit Of Customers\n",
      "12 Competitive Restriction Exception\n",
      "13 No-Solicit Of Employees\n",
      "14 Non-Disparagement\n",
      "15 Termination For Convenience\n",
      "16 Rofr/Rofo/Rofn\n",
      "17 Change Of Control\n",
      "18 Anti-Assignment\n",
      "19 Revenue/Profit Sharing\n",
      "20 Price Restrictions\n",
      "21 Minimum Commitment\n",
      "22 Volume Restriction\n",
      "23 Ip Ownership Assignment\n",
      "24 Joint Ip Ownership\n",
      "25 License Grant\n",
      "26 Non-Transferable License\n",
      "27 Affiliate License-Licensor\n",
      "28 Affiliate License-Licensee\n",
      "29 Unlimited/All-You-Can-Eat-License\n",
      "30 Irrevocable Or Perpetual License\n",
      "31 Source Code Escrow\n",
      "32 Post-Termination Services\n",
      "33 Audit Rights\n",
      "34 Uncapped Liability\n",
      "35 Cap On Liability\n",
      "36 Liquidated Damages\n",
      "37 Warranty Duration\n",
      "38 Insurance\n",
      "39 Covenant Not To Sue\n",
      "40 Third Party Beneficiary\n"
     ]
    }
   ],
   "source": [
    "for i, row in clause_info.iterrows():\n",
    "    print(i, row['clause_type'])"
   ]
  },
  {
   "cell_type": "code",
   "execution_count": 120,
   "metadata": {},
   "outputs": [
    {
     "data": {
      "text/html": [
       "<div>\n",
       "<style scoped>\n",
       "    .dataframe tbody tr th:only-of-type {\n",
       "        vertical-align: middle;\n",
       "    }\n",
       "\n",
       "    .dataframe tbody tr th {\n",
       "        vertical-align: top;\n",
       "    }\n",
       "\n",
       "    .dataframe thead th {\n",
       "        text-align: right;\n",
       "    }\n",
       "</style>\n",
       "<table border=\"1\" class=\"dataframe\">\n",
       "  <thead>\n",
       "    <tr style=\"text-align: right;\">\n",
       "      <th></th>\n",
       "      <th>title</th>\n",
       "      <th>para_idx</th>\n",
       "      <th>q_id</th>\n",
       "      <th>answers</th>\n",
       "      <th>type</th>\n",
       "    </tr>\n",
       "  </thead>\n",
       "  <tbody>\n",
       "    <tr>\n",
       "      <th>4</th>\n",
       "      <td>LIMEENERGYCO_09_09_1999-EX-10-DISTRIBUTOR AGRE...</td>\n",
       "      <td>5</td>\n",
       "      <td>3</td>\n",
       "      <td>[The term of this Agreement shall be ten (10) ...</td>\n",
       "      <td>0</td>\n",
       "    </tr>\n",
       "    <tr>\n",
       "      <th>14</th>\n",
       "      <td>LIMEENERGYCO_09_09_1999-EX-10-DISTRIBUTOR AGRE...</td>\n",
       "      <td>29</td>\n",
       "      <td>3</td>\n",
       "      <td>[Unless earlier terminated otherwise provided ...</td>\n",
       "      <td>0</td>\n",
       "    </tr>\n",
       "    <tr>\n",
       "      <th>27</th>\n",
       "      <td>WHITESMOKE,INC_11_08_2011-EX-10.26-PROMOTION A...</td>\n",
       "      <td>0</td>\n",
       "      <td>3</td>\n",
       "      <td>[1 August 2011]</td>\n",
       "      <td>0</td>\n",
       "    </tr>\n",
       "    <tr>\n",
       "      <th>40</th>\n",
       "      <td>ADAMSGOLFINC_03_21_2005-EX-10.17-ENDORSEMENT A...</td>\n",
       "      <td>2</td>\n",
       "      <td>3</td>\n",
       "      <td>[The Term of this Agreement shall be for a per...</td>\n",
       "      <td>0</td>\n",
       "    </tr>\n",
       "    <tr>\n",
       "      <th>63</th>\n",
       "      <td>KIROMICBIOPHARMA,INC_05_11_2020-EX-10.23-CONSU...</td>\n",
       "      <td>21</td>\n",
       "      <td>3</td>\n",
       "      <td>[This letter agreement will be effective as of...</td>\n",
       "      <td>0</td>\n",
       "    </tr>\n",
       "    <tr>\n",
       "      <th>66</th>\n",
       "      <td>VEONEER,INC_02_21_2020-EX-10.11-JOINT VENTURE ...</td>\n",
       "      <td>0</td>\n",
       "      <td>3</td>\n",
       "      <td>[October 30, 2019]</td>\n",
       "      <td>0</td>\n",
       "    </tr>\n",
       "    <tr>\n",
       "      <th>67</th>\n",
       "      <td>VEONEER,INC_02_21_2020-EX-10.11-JOINT VENTURE ...</td>\n",
       "      <td>10</td>\n",
       "      <td>3</td>\n",
       "      <td>[This Amendment shall only become effective up...</td>\n",
       "      <td>0</td>\n",
       "    </tr>\n",
       "    <tr>\n",
       "      <th>74</th>\n",
       "      <td>FTENETWORKS,INC_02_18_2016-EX-99.4-STRATEGIC A...</td>\n",
       "      <td>0</td>\n",
       "      <td>3</td>\n",
       "      <td>[17t h day of February 2016]</td>\n",
       "      <td>0</td>\n",
       "    </tr>\n",
       "    <tr>\n",
       "      <th>86</th>\n",
       "      <td>DOMINIADVISORTRUST_02_18_2005-EX-99.(H)(2)-SPO...</td>\n",
       "      <td>0</td>\n",
       "      <td>3</td>\n",
       "      <td>[February 4, 2005]</td>\n",
       "      <td>0</td>\n",
       "    </tr>\n",
       "    <tr>\n",
       "      <th>89</th>\n",
       "      <td>DOMINIADVISORTRUST_02_18_2005-EX-99.(H)(2)-SPO...</td>\n",
       "      <td>8</td>\n",
       "      <td>3</td>\n",
       "      <td>[This Agreement shall become effective as of t...</td>\n",
       "      <td>0</td>\n",
       "    </tr>\n",
       "    <tr>\n",
       "      <th>127</th>\n",
       "      <td>CerenceInc_20191002_8-K_EX-10.4_11827494_EX-10...</td>\n",
       "      <td>70</td>\n",
       "      <td>3</td>\n",
       "      <td>[This Agreement may be executed in one or more...</td>\n",
       "      <td>0</td>\n",
       "    </tr>\n",
       "    <tr>\n",
       "      <th>129</th>\n",
       "      <td>ReynoldsConsumerProductsInc_20191115_S-1_EX-10...</td>\n",
       "      <td>0</td>\n",
       "      <td>3</td>\n",
       "      <td>[November 1, 2019]</td>\n",
       "      <td>0</td>\n",
       "    </tr>\n",
       "    <tr>\n",
       "      <th>143</th>\n",
       "      <td>PREMIERBIOMEDICALINC_05_14_2020-EX-10.2-INTELL...</td>\n",
       "      <td>0</td>\n",
       "      <td>3</td>\n",
       "      <td>[May 12, 2020]</td>\n",
       "      <td>0</td>\n",
       "    </tr>\n",
       "    <tr>\n",
       "      <th>159</th>\n",
       "      <td>INTRICONCORP_03_10_2009-EX-10.22-Strategic All...</td>\n",
       "      <td>0</td>\n",
       "      <td>3</td>\n",
       "      <td>[1st day of October, 2008]</td>\n",
       "      <td>0</td>\n",
       "    </tr>\n",
       "    <tr>\n",
       "      <th>190</th>\n",
       "      <td>ON2TECHNOLOGIES,INC_11_17_2006-EX-10.3-SUPPORT...</td>\n",
       "      <td>0</td>\n",
       "      <td>3</td>\n",
       "      <td>[April __, 2005]</td>\n",
       "      <td>0</td>\n",
       "    </tr>\n",
       "    <tr>\n",
       "      <th>203</th>\n",
       "      <td>OPERALTD_04_30_2020-EX-4.14-SERVICE AGREEMENT</td>\n",
       "      <td>0</td>\n",
       "      <td>3</td>\n",
       "      <td>[April. 1st 2019]</td>\n",
       "      <td>0</td>\n",
       "    </tr>\n",
       "    <tr>\n",
       "      <th>217</th>\n",
       "      <td>BORROWMONEYCOM,INC_06_11_2020-EX-10.1-JOINT VE...</td>\n",
       "      <td>1</td>\n",
       "      <td>3</td>\n",
       "      <td>[The duration of this Venture (the \"Term\") wil...</td>\n",
       "      <td>0</td>\n",
       "    </tr>\n",
       "    <tr>\n",
       "      <th>222</th>\n",
       "      <td>ZEBRATECHNOLOGIESCORP_04_16_2014-EX-10.1-INTEL...</td>\n",
       "      <td>0</td>\n",
       "      <td>3</td>\n",
       "      <td>[April 14, 2014]</td>\n",
       "      <td>0</td>\n",
       "    </tr>\n",
       "    <tr>\n",
       "      <th>234</th>\n",
       "      <td>ChinaRealEstateInformationCorp_20090929_F-1_EX...</td>\n",
       "      <td>10</td>\n",
       "      <td>3</td>\n",
       "      <td>[\"Effective Date\" means the Closing Date as se...</td>\n",
       "      <td>0</td>\n",
       "    </tr>\n",
       "    <tr>\n",
       "      <th>249</th>\n",
       "      <td>GLOBALTECHNOLOGIESLTD_06_08_2020-EX-10.16-CONS...</td>\n",
       "      <td>0</td>\n",
       "      <td>3</td>\n",
       "      <td>[2nd day of January 2020]</td>\n",
       "      <td>0</td>\n",
       "    </tr>\n",
       "  </tbody>\n",
       "</table>\n",
       "</div>"
      ],
      "text/plain": [
       "                                                 title  para_idx  q_id   \n",
       "4    LIMEENERGYCO_09_09_1999-EX-10-DISTRIBUTOR AGRE...         5     3  \\\n",
       "14   LIMEENERGYCO_09_09_1999-EX-10-DISTRIBUTOR AGRE...        29     3   \n",
       "27   WHITESMOKE,INC_11_08_2011-EX-10.26-PROMOTION A...         0     3   \n",
       "40   ADAMSGOLFINC_03_21_2005-EX-10.17-ENDORSEMENT A...         2     3   \n",
       "63   KIROMICBIOPHARMA,INC_05_11_2020-EX-10.23-CONSU...        21     3   \n",
       "66   VEONEER,INC_02_21_2020-EX-10.11-JOINT VENTURE ...         0     3   \n",
       "67   VEONEER,INC_02_21_2020-EX-10.11-JOINT VENTURE ...        10     3   \n",
       "74   FTENETWORKS,INC_02_18_2016-EX-99.4-STRATEGIC A...         0     3   \n",
       "86   DOMINIADVISORTRUST_02_18_2005-EX-99.(H)(2)-SPO...         0     3   \n",
       "89   DOMINIADVISORTRUST_02_18_2005-EX-99.(H)(2)-SPO...         8     3   \n",
       "127  CerenceInc_20191002_8-K_EX-10.4_11827494_EX-10...        70     3   \n",
       "129  ReynoldsConsumerProductsInc_20191115_S-1_EX-10...         0     3   \n",
       "143  PREMIERBIOMEDICALINC_05_14_2020-EX-10.2-INTELL...         0     3   \n",
       "159  INTRICONCORP_03_10_2009-EX-10.22-Strategic All...         0     3   \n",
       "190  ON2TECHNOLOGIES,INC_11_17_2006-EX-10.3-SUPPORT...         0     3   \n",
       "203      OPERALTD_04_30_2020-EX-4.14-SERVICE AGREEMENT         0     3   \n",
       "217  BORROWMONEYCOM,INC_06_11_2020-EX-10.1-JOINT VE...         1     3   \n",
       "222  ZEBRATECHNOLOGIESCORP_04_16_2014-EX-10.1-INTEL...         0     3   \n",
       "234  ChinaRealEstateInformationCorp_20090929_F-1_EX...        10     3   \n",
       "249  GLOBALTECHNOLOGIESLTD_06_08_2020-EX-10.16-CONS...         0     3   \n",
       "\n",
       "                                               answers  type  \n",
       "4    [The term of this Agreement shall be ten (10) ...     0  \n",
       "14   [Unless earlier terminated otherwise provided ...     0  \n",
       "27                                     [1 August 2011]     0  \n",
       "40   [The Term of this Agreement shall be for a per...     0  \n",
       "63   [This letter agreement will be effective as of...     0  \n",
       "66                                  [October 30, 2019]     0  \n",
       "67   [This Amendment shall only become effective up...     0  \n",
       "74                        [17t h day of February 2016]     0  \n",
       "86                                  [February 4, 2005]     0  \n",
       "89   [This Agreement shall become effective as of t...     0  \n",
       "127  [This Agreement may be executed in one or more...     0  \n",
       "129                                 [November 1, 2019]     0  \n",
       "143                                     [May 12, 2020]     0  \n",
       "159                         [1st day of October, 2008]     0  \n",
       "190                                   [April __, 2005]     0  \n",
       "203                                  [April. 1st 2019]     0  \n",
       "217  [The duration of this Venture (the \"Term\") wil...     0  \n",
       "222                                   [April 14, 2014]     0  \n",
       "234  [\"Effective Date\" means the Closing Date as se...     0  \n",
       "249                          [2nd day of January 2020]     0  "
      ]
     },
     "execution_count": 120,
     "metadata": {},
     "output_type": "execute_result"
    }
   ],
   "source": [
    "train_meta[(train_meta['q_id'] == 3) & (train_meta['type'] == 0)].iloc[0:20]"
   ]
  },
  {
   "cell_type": "code",
   "execution_count": 92,
   "metadata": {},
   "outputs": [
    {
     "data": {
      "text/plain": [
       "['This Consulting Agreement (the \"Agreement\") is made and entered into as of this 2nd day of January 2020,']"
      ]
     },
     "execution_count": 92,
     "metadata": {},
     "output_type": "execute_result"
    }
   ],
   "source": [
    "train_meta.iloc[248]['answers']"
   ]
  },
  {
   "cell_type": "code",
   "execution_count": 100,
   "metadata": {},
   "outputs": [],
   "source": [
    "class RawCUAD:\n",
    "    def __init__(self, path = proj_dir / 'data/cuad_split/CUADv1.json'):\n",
    "        self.raw = load_json(path)['data']\n",
    "        self.title2para = {d['title']: d['paragraphs'][0] for d in self.raw}\n",
    "    \n",
    "    def get_answers(self, title, cla_id):\n",
    "        para = self.title2para[title]\n",
    "        text = para['context']\n",
    "        qa = para['qas'][cla_id]\n",
    "        return text, qa\n"
   ]
  },
  {
   "cell_type": "code",
   "execution_count": 101,
   "metadata": {},
   "outputs": [],
   "source": [
    "rcuad = RawCUAD()"
   ]
  },
  {
   "cell_type": "code",
   "execution_count": 102,
   "metadata": {},
   "outputs": [],
   "source": [
    "text, qa = rcuad.get_answers(row['title'], q_id)"
   ]
  },
  {
   "cell_type": "code",
   "execution_count": 103,
   "metadata": {},
   "outputs": [
    {
     "data": {
      "text/plain": [
       "{'answers': [{'text': '1st day of April, 2018 (', 'answer_start': 78}],\n",
       " 'id': 'EcoScienceSolutionsInc_20180406_8-K_EX-10.1_11135398_EX-10.1_Sponsorship Agreement__Agreement Date',\n",
       " 'question': 'Highlight the parts (if any) of this contract related to \"Agreement Date\" that should be reviewed by a lawyer. Details: The date of the contract',\n",
       " 'is_impossible': False}"
      ]
     },
     "execution_count": 103,
     "metadata": {},
     "output_type": "execute_result"
    }
   ],
   "source": [
    "qa"
   ]
  },
  {
   "cell_type": "code",
   "execution_count": null,
   "metadata": {},
   "outputs": [],
   "source": []
  }
 ],
 "metadata": {
  "kernelspec": {
   "display_name": "llm",
   "language": "python",
   "name": "python3"
  },
  "language_info": {
   "codemirror_mode": {
    "name": "ipython",
    "version": 3
   },
   "file_extension": ".py",
   "mimetype": "text/x-python",
   "name": "python",
   "nbconvert_exporter": "python",
   "pygments_lexer": "ipython3",
   "version": "3.9.16"
  }
 },
 "nbformat": 4,
 "nbformat_minor": 2
}
