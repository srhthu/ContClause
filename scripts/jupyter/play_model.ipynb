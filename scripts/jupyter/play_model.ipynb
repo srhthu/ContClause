{
 "cells": [
  {
   "cell_type": "code",
   "execution_count": 4,
   "metadata": {},
   "outputs": [],
   "source": [
    "from pathlib import Path\n",
    "import sys\n",
    "import os\n",
    "os.environ['CUDA_VISIBLE_DEVICES'] = '2,3'\n",
    "os.environ['HF_HUB_CACHE'] = '/next_share/hf_cache/hub'\n",
    "import json\n",
    "import numpy as np\n",
    "from tqdm import tqdm\n",
    "import torch\n",
    "from transformers import AutoTokenizer, BitsAndBytesConfig, AutoModelForCausalLM, LlamaForCausalLM, PreTrainedModel, AutoModelForSeq2SeqLM\n",
    "from peft import get_peft_model, LoraConfig, get_peft_model_state_dict, AutoPeftModelForCausalLM, load_peft_weights\n",
    "import importlib\n",
    "import difflib\n",
    "from collections import defaultdict\n",
    "\n",
    "import context\n",
    "os.chdir(context.proj_dir)\n",
    "\n",
    "import cont_gen\n",
    "import cont_gen.data_process.pre_process.split_long_para\n",
    "import cont_gen.utils.model_utils\n",
    "_ = importlib.reload(cont_gen.data_process.pre_process.split_long_para)\n",
    "importlib.reload(cont_gen.utils.model_utils)\n",
    "from cont_gen.data_loader.cuad_sft import CUAD_SFT_Cached\n",
    "from cont_gen.utils.model_utils import load_hf_model_from_checkpoint"
   ]
  },
  {
   "cell_type": "markdown",
   "metadata": {},
   "source": [
    "# Overview\n",
    "\n",
    "1. [Link](#model-initialize) Explore model initialize.\n",
    "   1. Q-lora\n",
    "   2. Device map\n",
    "   3. Show dataset\n",
    "   4. [Link](#lora-demo) Lora demo\n",
    "2. [Link](#explore-memory-usage) Explore the memory usage\n",
    "3. [Link](#gradient-checkpointing) Explore gradient checkpointing\n",
    "4. Explore how to adapt to chat model, e.g., llama2-chat and llama3-instruct."
   ]
  },
  {
   "cell_type": "markdown",
   "metadata": {},
   "source": [
    "## Model Initialize"
   ]
  },
  {
   "cell_type": "code",
   "execution_count": 2,
   "metadata": {},
   "outputs": [],
   "source": [
    "def get_device_map(model_name):\n",
    "    if torch.cuda.device_count() == 2:\n",
    "        if any([k in model_name for k in ['llama', 'mistral']]):\n",
    "            device_map = {\n",
    "                'model.embed_tokens': 0,\n",
    "                'model.norm': 1,\n",
    "                'lm_head': 1\n",
    "            }\n",
    "            device_map.update({f'model.layers.{i}': 0 if i < 16 else 1 for i in range(32)})\n",
    "        else:\n",
    "            device_map = 'auto'\n",
    "    elif torch.cuda.device_count() == 1:\n",
    "        device_map = {\"\":0}\n",
    "    else:\n",
    "        device_map = 'auto'\n",
    "    return device_map\n",
    "\n",
    "model_names = {'llama3': 'meta-llama/Meta-Llama-3-8B',\n",
    "               'mistral': 'mistralai/Mistral-7B-v0.1',\n",
    "               'llama2': 'meta-llama/Llama-2-7b-hf',\n",
    "               'flan-t5-xl': 'google/flan-t5-xl'}"
   ]
  },
  {
   "cell_type": "code",
   "execution_count": 3,
   "metadata": {},
   "outputs": [
    {
     "data": {
      "application/vnd.jupyter.widget-view+json": {
       "model_id": "f2e89f38d801407a9f814d0cf3027702",
       "version_major": 2,
       "version_minor": 0
      },
      "text/plain": [
       "Loading checkpoint shards:   0%|          | 0/4 [00:00<?, ?it/s]"
      ]
     },
     "metadata": {},
     "output_type": "display_data"
    }
   ],
   "source": [
    "# This quantization config is for QLora\n",
    "quant_config = BitsAndBytesConfig(\n",
    "    load_in_4bit=True,\n",
    "    bnb_4bit_quant_type=\"nf4\",\n",
    "    bnb_4bit_use_double_quant=True,\n",
    "    bnb_4bit_compute_dtype=torch.bfloat16,\n",
    ")\n",
    "\n",
    "model_name = model_names['llama3']\n",
    "# model_name = 'bert-base-uncased'\n",
    "mod_cls = AutoModelForSeq2SeqLM if 't5' in model_name else AutoModelForCausalLM\n",
    "model = mod_cls.from_pretrained(\n",
    "    model_name,\n",
    "    cache_dir = '/next_share/hf_cache/hub',\n",
    "    device_map = get_device_map(model_name),\n",
    "    torch_dtype = torch.bfloat16,\n",
    "    # quantization_config = quant_config\n",
    ")"
   ]
  },
  {
   "cell_type": "code",
   "execution_count": 5,
   "metadata": {},
   "outputs": [],
   "source": [
    "del model"
   ]
  },
  {
   "cell_type": "markdown",
   "metadata": {},
   "source": [
    "### Model Device Map\n",
    "\n",
    "**Mistral**:\n",
    "- modules (GB):\n",
    "  - 'model.embed_tokens': 0.1311\n",
    "  - 'model.layers.{0..31}': 0.2181\n",
    "  - 'model.norm': 0\n",
    "  - 'lm_head': 0.1311\n",
    "- Tie: False\n",
    "- Device map:\n",
    "  - emb: 0\n",
    "  - layers 0-15: 0\n",
    "  - layers 16-31: 1\n",
    "  - norm, lm_head: 1\n",
    "\n",
    "**LLaMA 3**:\n",
    "- modules:\n",
    "  - 'model.embed_tokens': 0.5253\n",
    "  - 'model.layers.{0..31}': 0.2181\n",
    "  - 'model.norm': 0\n",
    "  - 'lm_head': 0.5253\n",
    "- Tie: False\n",
    "- Device map:\n",
    "  - emb: 0\n",
    "  - layers 0-13: 0\n",
    "  - layers 14-31: 1\n",
    "  - norm, lm_head: 1\n",
    "- Difference: 4 layers, 0.88B, 1.8GB, Real: 7777 vs 9457 MB\n",
    "\n",
    "**LLaMA2**:\n",
    "- modules:\n",
    "  - 'model.embed_tokens': 0.1311\n",
    "  - 'model.layers.{0..31}': 0.2024\n",
    "- Device map: same as mistral. layers are equally divided."
   ]
  },
  {
   "cell_type": "code",
   "execution_count": 8,
   "metadata": {},
   "outputs": [],
   "source": [
    "# model.hf_device_map"
   ]
  },
  {
   "cell_type": "code",
   "execution_count": 4,
   "metadata": {},
   "outputs": [],
   "source": [
    "def num_el(mod, exp = 3):\n",
    "    \"\"\"get number of parameters. exp=3 means returning in Billion\"\"\"\n",
    "    tot_p = sum(p.numel() for p in mod.parameters())\n",
    "    # print(tot_p)\n",
    "    return tot_p / (1000**exp)"
   ]
  },
  {
   "cell_type": "code",
   "execution_count": 5,
   "metadata": {},
   "outputs": [
    {
     "name": "stdout",
     "output_type": "stream",
     "text": [
      "2.849757184\n"
     ]
    }
   ],
   "source": [
    "print(num_el(model))"
   ]
  },
  {
   "cell_type": "code",
   "execution_count": 6,
   "metadata": {},
   "outputs": [
    {
     "name": "stdout",
     "output_type": "stream",
     "text": [
      "['0.1311', '0.2024', '0.0000', '0.1311']\n",
      "False\n"
     ]
    }
   ],
   "source": [
    "# Print the parameter number of sub modules\n",
    "n2mod = {k:v for k,v in model.named_modules()}\n",
    "np_emb = num_el(n2mod['model.embed_tokens'])\n",
    "np_layer = num_el(n2mod['model.layers.0'])\n",
    "np_norm = num_el(n2mod['model.norm'])\n",
    "np_head = num_el(n2mod['lm_head'])\n",
    "print([f'{k:.4f}' for k in [np_emb, np_layer, np_norm, np_head]])\n",
    "print(model.get_output_embeddings() is model.get_input_embeddings())"
   ]
  },
  {
   "cell_type": "code",
   "execution_count": 7,
   "metadata": {},
   "outputs": [
    {
     "name": "stdout",
     "output_type": "stream",
     "text": [
      "6.73841152\n",
      "6.738415616\n"
     ]
    }
   ],
   "source": [
    "# Validate total parameter number\n",
    "tot_add = np_emb + np_layer * 32 + np_head\n",
    "print(tot_add)\n",
    "print(num_el(model))"
   ]
  },
  {
   "cell_type": "markdown",
   "metadata": {},
   "source": [
    "### Lora Demo"
   ]
  },
  {
   "cell_type": "code",
   "execution_count": 4,
   "metadata": {},
   "outputs": [
    {
     "name": "stdout",
     "output_type": "stream",
     "text": [
      "trainable params: 41,943,040 || all params: 8,072,204,288 || trainable%: 0.5195983464188562\n"
     ]
    }
   ],
   "source": [
    "peft_config = LoraConfig(\n",
    "    r = 16, lora_alpha = 16,\n",
    "    # target_modules = None,\n",
    "    target_modules = 'all-linear',\n",
    "    lora_dropout= 0.1,\n",
    "    bias = \"none\"\n",
    ")\n",
    "\n",
    "lora_model = get_peft_model(model, peft_config)\n",
    "lora_model.print_trainable_parameters()"
   ]
  },
  {
   "cell_type": "code",
   "execution_count": 9,
   "metadata": {},
   "outputs": [],
   "source": [
    "# lora_model.save_pretrained('runs/debug/lora_ckpt')"
   ]
  },
  {
   "cell_type": "markdown",
   "metadata": {},
   "source": [
    "### Dataset"
   ]
  },
  {
   "cell_type": "code",
   "execution_count": 8,
   "metadata": {},
   "outputs": [
    {
     "name": "stderr",
     "output_type": "stream",
     "text": [
      "Special tokens have been added in the vocabulary, make sure the associated word embeddings are fine-tuned or trained.\n"
     ]
    }
   ],
   "source": [
    "tk_mistral = AutoTokenizer.from_pretrained(model_names['mistral'], cache_dir = '/next_share/hf_cache/hub')\n",
    "tk_llama3 = AutoTokenizer.from_pretrained(model_names['llama3'], cache_dir = '/next_share/hf_cache/hub')"
   ]
  },
  {
   "cell_type": "code",
   "execution_count": 15,
   "metadata": {},
   "outputs": [
    {
     "name": "stdout",
     "output_type": "stream",
     "text": [
      "Load from cache: data/ood_split/seed128_tr29/mistral/pmt_01_yes_no/cache/cached_train_data.jsonl_Mistral-7B-v0.1_v1.0.pkl\n"
     ]
    }
   ],
   "source": [
    "data_path = 'data/ood_split/seed128_tr29/mistral/pmt_01_yes_no/train_data.jsonl'\n",
    "dataset = CUAD_SFT_Cached(\n",
    "    data_path,\n",
    "    tk_mistral,\n",
    "    is_seq2seq = False,\n",
    "    cache_dir = Path(data_path).parent / 'cache',\n",
    "    max_src_length = None,\n",
    "    max_tgt_length = None,\n",
    "    labels_on_full = False,\n",
    "    is_test = False,\n",
    "    small = False\n",
    ")"
   ]
  },
  {
   "cell_type": "code",
   "execution_count": 16,
   "metadata": {},
   "outputs": [
    {
     "name": "stdout",
     "output_type": "stream",
     "text": [
      "1117\n"
     ]
    }
   ],
   "source": [
    "ipt_lens = [len(k['input_ids']) for k in dataset]\n",
    "print(max(ipt_lens))"
   ]
  },
  {
   "cell_type": "code",
   "execution_count": 19,
   "metadata": {},
   "outputs": [],
   "source": [
    "max_i = np.argmax(ipt_lens)\n",
    "d = dataset.data[max_i]\n",
    "# print(d['source'])"
   ]
  },
  {
   "cell_type": "code",
   "execution_count": 21,
   "metadata": {},
   "outputs": [
    {
     "data": {
      "text/plain": [
       "[28723, 387, 12751, 4572, 23148, 1017, 14778, 8472, 7178, 2]"
      ]
     },
     "execution_count": 21,
     "metadata": {},
     "output_type": "execute_result"
    }
   ],
   "source": [
    "dataset[0]['input_ids'][-10:]"
   ]
  },
  {
   "cell_type": "code",
   "execution_count": 25,
   "metadata": {},
   "outputs": [
    {
     "data": {
      "text/plain": [
       "0"
      ]
     },
     "execution_count": 25,
     "metadata": {},
     "output_type": "execute_result"
    }
   ],
   "source": [
    "tk_mistral.unk_token_id"
   ]
  },
  {
   "cell_type": "markdown",
   "metadata": {},
   "source": [
    "## Explore Memory Usage"
   ]
  },
  {
   "cell_type": "code",
   "execution_count": 23,
   "metadata": {},
   "outputs": [
    {
     "data": {
      "application/vnd.jupyter.widget-view+json": {
       "model_id": "911b309cece0425094069d4c15088231",
       "version_major": 2,
       "version_minor": 0
      },
      "text/plain": [
       "config.json:   0%|          | 0.00/665 [00:00<?, ?B/s]"
      ]
     },
     "metadata": {},
     "output_type": "display_data"
    },
    {
     "data": {
      "application/vnd.jupyter.widget-view+json": {
       "model_id": "5c92582b16c145e4bea0d719651564f9",
       "version_major": 2,
       "version_minor": 0
      },
      "text/plain": [
       "model.safetensors:   0%|          | 0.00/548M [00:00<?, ?B/s]"
      ]
     },
     "metadata": {},
     "output_type": "display_data"
    },
    {
     "data": {
      "application/vnd.jupyter.widget-view+json": {
       "model_id": "67b9de2b3b2940c5b0a6a93389a4a3e7",
       "version_major": 2,
       "version_minor": 0
      },
      "text/plain": [
       "generation_config.json:   0%|          | 0.00/124 [00:00<?, ?B/s]"
      ]
     },
     "metadata": {},
     "output_type": "display_data"
    }
   ],
   "source": [
    "model = AutoModelForCausalLM.from_pretrained('gpt2', cache_dir = '/next_share/hf_cache/hub').cuda()"
   ]
  },
  {
   "cell_type": "code",
   "execution_count": 5,
   "metadata": {},
   "outputs": [],
   "source": [
    "from pynvml import *\n",
    "\n",
    "class NVML_Mem:\n",
    "    def __init__(self, gpu_indexes = None):\n",
    "        self.gpu_indexes = gpu_indexes if gpu_indexes is not None else \\\n",
    "                    [int(k) for k in os.environ['CUDA_VISIBLE_DEVICES'].split(',')]\n",
    "        nvmlInit()\n",
    "    \n",
    "    def __call__(self):\n",
    "        return [self.get_mem_by_id(k) for k in self.gpu_indexes]\n",
    "    \n",
    "    def get_mem_by_id(self, index):\n",
    "        h = nvmlDeviceGetHandleByIndex(index)\n",
    "        info = nvmlDeviceGetMemoryInfo(h)\n",
    "        return info.used / 1024**3\n",
    "    \n",
    "\n",
    "def get_mem_of_len(ipt_len, model, gpu_ids, optimizer):\n",
    "    \"\"\"Return Memory of all gpus in GiB\"\"\"\n",
    "    input_ids = torch.tensor([1]*ipt_len).cuda().unsqueeze(0)\n",
    "    optimizer.zero_grad()\n",
    "    loss = model(input_ids, labels = input_ids).loss\n",
    "    loss.backward()\n",
    "    optimizer.step()\n",
    "    return NVML_Mem(gpu_ids)()\n",
    "\n",
    "def get_infer_mem_of_len(ipt_len, model, gpu_ids):\n",
    "    \"\"\"Return Memory of all gpus in GiB\"\"\"\n",
    "    input_ids = torch.tensor([1]*ipt_len).cuda().unsqueeze(0)\n",
    "    with torch.no_grad():\n",
    "        loss = model(input_ids, labels = input_ids).loss\n",
    "    \n",
    "    return NVML_Mem(gpu_ids)()\n",
    "\n",
    "def scan_mem(step, num_steps, model, gpu_ids):\n",
    "    optimizer = torch.optim.AdamW(model.parameters())\n",
    "    memorys = [NVML_Mem(gpu_ids)()]\n",
    "    for step_i in range(1, num_steps + 1):\n",
    "        memorys.append(get_mem_of_len(step * step_i, model, gpu_ids, optimizer))\n",
    "    return memorys\n",
    "\n",
    "def scan_mem_infer(step, num_steps, model, gpu_ids = None):\n",
    "    memorys = [NVML_Mem(gpu_ids)()]\n",
    "    for step_i in range(1, num_steps + 1):\n",
    "        memorys.append(get_infer_mem_of_len(step * step_i, model, gpu_ids))\n",
    "    return memorys"
   ]
  },
  {
   "cell_type": "code",
   "execution_count": 7,
   "metadata": {},
   "outputs": [
    {
     "name": "stdout",
     "output_type": "stream",
     "text": [
      "[[15.52020263671875, 15.65301513671875], [15.52020263671875, 15.65301513671875], [15.52020263671875, 15.65301513671875], [15.52020263671875, 15.65301513671875], [15.52020263671875, 15.65301513671875], [15.52020263671875, 15.65301513671875], [15.88739013671875, 15.65301513671875]]\n"
     ]
    }
   ],
   "source": [
    "lora_model.gradient_checkpointing_disable()\n",
    "n_steps = 6\n",
    "memory_list = scan_mem(128, n_steps, model, [int(k) for k in os.environ['CUDA_VISIBLE_DEVICES'].split(',')])\n",
    "print(memory_list)"
   ]
  },
  {
   "cell_type": "code",
   "execution_count": 6,
   "metadata": {},
   "outputs": [],
   "source": [
    "lora_model.enable_input_require_grads()\n",
    "lora_model.gradient_checkpointing_enable()"
   ]
  },
  {
   "cell_type": "code",
   "execution_count": 8,
   "metadata": {},
   "outputs": [
    {
     "name": "stdout",
     "output_type": "stream",
     "text": [
      "1\n"
     ]
    }
   ],
   "source": [
    "res = []\n",
    "for k,v in lora_model.named_modules():\n",
    "    if hasattr(v, \"gradient_checkpointing\"):\n",
    "        res.append((v, v.gradient_checkpointing))\n",
    "print(len(res))"
   ]
  },
  {
   "cell_type": "code",
   "execution_count": 10,
   "metadata": {},
   "outputs": [
    {
     "name": "stdout",
     "output_type": "stream",
     "text": [
      "[[8.46356201171875, 8.46356201171875], [9.55535888671875, 9.73114013671875], [10.45965576171875, 10.76824951171875], [11.42840576171875, 11.89520263671875], [12.36395263671875, 12.97528076171875], [13.53387451171875, 14.24481201171875], [15.55340576171875, 15.65301513671875]]\n"
     ]
    }
   ],
   "source": [
    "# Memory for Gradient Checkpointing\n",
    "\n",
    "n_steps = 6\n",
    "memory_list = scan_mem(128, n_steps, lora_model, [int(k) for k in os.environ['CUDA_VISIBLE_DEVICES'].split(',')])\n",
    "print(memory_list)"
   ]
  },
  {
   "cell_type": "code",
   "execution_count": 15,
   "metadata": {},
   "outputs": [],
   "source": [
    "torch.cuda.empty_cache()"
   ]
  },
  {
   "cell_type": "code",
   "execution_count": 16,
   "metadata": {},
   "outputs": [
    {
     "data": {
      "text/plain": [
       "[9.04168701171875, 8.99871826171875]"
      ]
     },
     "execution_count": 16,
     "metadata": {},
     "output_type": "execute_result"
    }
   ],
   "source": [
    "NVML_Mem()()"
   ]
  },
  {
   "cell_type": "code",
   "execution_count": 14,
   "metadata": {},
   "outputs": [
    {
     "data": {
      "text/plain": [
       "<matplotlib.legend.Legend at 0x7f06ac33fd30>"
      ]
     },
     "execution_count": 14,
     "metadata": {},
     "output_type": "execute_result"
    },
    {
     "data": {
      "image/png": "[encoded data removed]",
      "text/plain": [
       "<Figure size 640x480 with 1 Axes>"
      ]
     },
     "metadata": {},
     "output_type": "display_data"
    }
   ],
   "source": [
    "import matplotlib.pyplot as plt\n",
    "\n",
    "x = np.arange(n_steps + 1)\n",
    "mems = np.array(memory_list)\n",
    "for col in range(mems.shape[1]):\n",
    "    plt.plot(x, mems[:,col], color = f'C{col}', label = f'GPU {col}')\n",
    "# plt.plot(x, mems[:,1], color = 'g')\n",
    "plt.legend()"
   ]
  },
  {
   "cell_type": "code",
   "execution_count": 12,
   "metadata": {},
   "outputs": [
    {
     "name": "stdout",
     "output_type": "stream",
     "text": [
      "1.3583984375\n"
     ]
    }
   ],
   "source": [
    "k = (mems[-1,0] - mems[0, 0]) / n_steps\n",
    "print(k)"
   ]
  },
  {
   "cell_type": "code",
   "execution_count": 10,
   "metadata": {},
   "outputs": [
    {
     "name": "stdout",
     "output_type": "stream",
     "text": [
      "[0.73828125 0.8515625  0.95117188 0.84765625 1.23242188 2.13867188\n",
      " 1.734375   2.37304688]\n"
     ]
    }
   ],
   "source": [
    "incre = mems[1:,0] - mems[:-1,0]\n",
    "print(incre)"
   ]
  },
  {
   "cell_type": "code",
   "execution_count": 7,
   "metadata": {},
   "outputs": [
    {
     "name": "stdout",
     "output_type": "stream",
     "text": [
      "[[15.709716796875], [15.947998046875], [16.199951171875], [16.600341796875], [17.092529296875], [17.705810546875], [18.440185546875], [19.297607421875], [20.278076171875]]\n"
     ]
    },
    {
     "data": {
      "image/png": "[encoded data removed]",
      "text/plain": [
       "<Figure size 640x480 with 1 Axes>"
      ]
     },
     "metadata": {},
     "output_type": "display_data"
    }
   ],
   "source": [
    "# inference mem\n",
    "n_steps = 8\n",
    "infer_memory_list = scan_mem_infer(128, n_steps, model, [int(k) for k in os.environ['CUDA_VISIBLE_DEVICES'].split(',')])\n",
    "print(infer_memory_list)\n",
    "\n",
    "import matplotlib.pyplot as plt\n",
    "\n",
    "x = np.arange(n_steps + 1)\n",
    "mems = np.array(infer_memory_list)\n",
    "for col in range(mems.shape[1]):\n",
    "    plt.plot(x, mems[:,col], color = f'C{col}')"
   ]
  },
  {
   "cell_type": "code",
   "execution_count": 9,
   "metadata": {},
   "outputs": [
    {
     "name": "stderr",
     "output_type": "stream",
     "text": [
      "The attention mask and the pad token id were not set. As a consequence, you may observe unexpected behavior. Please pass your input's `attention_mask` to obtain reliable results.\n",
      "Setting `pad_token_id` to `eos_token_id`:-1 for open-end generation.\n"
     ]
    }
   ],
   "source": [
    "r = model.generate(input_ids = torch.tensor([1]*512).cuda().unsqueeze(0),max_new_tokens = 512, eos_token_id = -1)"
   ]
  },
  {
   "cell_type": "code",
   "execution_count": 10,
   "metadata": {},
   "outputs": [
    {
     "data": {
      "text/plain": [
       "'\"\"\"\"\"\"\"\"\"\"\"\"\"\"\"\"\"\"\"\"\"\"\"\"\"\"\"\"\"\"\"\"\"\"\"\"\"\"\"\"\"\"\"\"\"\"\"\"\"\"\"\"\"\"\"\"\"\"\"\"\"\"\"\"\"\"\"\"\"\"\"\"\"\"\"\"\"\"\"\"\"\"\"\"\"\"\"\"\"\"\"\"\"\"\"\"\"\"\"\"\"\"\"\"\"\"\"\"\"\"\"\"\"\"\"\"\"\"\"\"\"\"\"\"\"\"\"\"\"\"\"\"\"\"\"\"\"\"\"\"\"\"\"\"\"\"\"\"\"\"\"\"\"\"\"\"\"\"\"\"\"\"\"\"\"\"\"\"\"\"\"\"\"\"\"\"\"\"\"\"\"\"\"\"\"\"\"\"\"\"\"\"\"\"\"\"\"\"\"\"\"\"\"\"\"\"\"\"\"\"\"\"\"\"\"\"\"\"\"\"\"\"\"\"\"\"\"\"\"\"\"\"\"\"\"\"\"\"\"\"\"\"\"\"\"\"\"\"\"\"\"\"\"\"\"\"\"\"\"\"\"\"\"\"\"\"\"\"\"\"\"\"\"\"\"\"\"\"\"\"\"\"\"\"\"\"\"\"\"\"\"\"\"\"\"\"\"\"\"\"\"\"\"\"\"\"\"\"\"\"\"\"\"\"\"\"\"\"\"\"\"\"\"\"\"\"\"\"\"\"\"\"\"\"\"\"\"\"\"\"\"\"\"\"\"\"\"\"\"\"\"\"\"\"\"\"\"\"\"\"\"\"\"\"\"\"\"\"\"\"\"\"\"\"\"\"\"\"\"\"\"\"\"\"\"\"\"\"\"\"\"\"\"\"\"\"\"\"\"\"\"\"\"\"\"\"\"\"\"\"\"\"\"\"\"\"\"\"\"\"\"\"\"\"\"\"\"\"\"\"\"\"\"\"\"\"\"\"\"\"\"\"\"\"\"\"\"\"\"\"\"\"\"\"\"\"\"\"\"\"\"\"\"\"\"\"\"\"\"\"\"\"\"\"\"\"\"\"\"\"\"\"\"\"\"\"\"\"\"\"\"\"\"\"\"\"\"\"\"\"\"\"\"\"\"\"\"\"\"\"\"\" ( =>000 (r\\\\def\\\\def\\\\def\\\\def\\\\def\\\\def\\\\def\\\\def\\\\def\\\\def\\\\def\\\\def\\\\def\\\\def\\\\def\\\\def\\\\def\\\\def\\\\def\\\\def\\\\def\\\\def\\\\def\\\\def\\\\def\\\\def\\\\def\\\\def\\\\def\\\\def\\\\def\\\\def\\\\def\\\\def\\\\def\\\\def\\\\def\\\\def\\\\def\\\\def\\\\def\\\\def\\\\def\\\\def\\\\def\\\\def\\\\def\\\\def\\\\def\\\\def\\\\def\\\\def\\\\def\\\\def\\\\def\\\\def\\\\def\\\\def\\\\def\\\\def\\\\def\\\\def\\\\def\\\\def\\\\def\\\\def\\\\def\\\\def\\\\def\\\\def\\\\def\\\\def\\\\def\\\\def\\\\def\\\\def\\\\def\\\\def\\\\def\\\\def\\\\def\\\\def\\\\def\\\\def\\\\def\\\\def\\\\def\\\\def\\\\def\\\\def\\\\def\\\\def\\\\def\\\\def\\\\def\\\\def\\\\def\\\\def\\\\def\\\\def\\\\def\\\\def\\\\def\\\\def\\\\def\\\\def\\\\def\\\\def\\\\def\\\\def\\\\def\\\\def\\\\def\\\\def\\\\def\\\\def\\\\def\\\\def\\\\def\\\\def\\\\def\\\\def\\\\def\\\\def\\\\def\\\\def\\\\def\\\\def\\\\def\\\\def\\\\def\\\\def\\\\def\\\\def\\\\def\\\\def\\\\def\\\\def\\\\def\\\\def\\\\def\\\\def\\\\def\\\\def\\\\def\\\\def\\\\def\\\\def\\\\def\\\\def\\\\def\\\\def\\\\def\\\\def\\\\def\\\\def\\\\def\\\\def\\\\def\\\\def\\\\def\\\\def\\\\def\\\\def\\\\def\\\\def\\\\def\\\\def\\\\def\\\\def\\\\def\\\\def\\\\def\\\\def\\\\def\\\\def\\\\def\\\\def\\\\def\\\\def\\\\def\\\\def\\\\def\\\\def\\\\def\\\\def\\\\def\\\\def\\\\def\\\\def\\\\def\\\\def\\\\def\\\\def\\\\def\\\\def\\\\def\\\\def\\\\def\\\\def\\\\def\\\\def\\\\def\\\\def\\\\def\\\\def\\\\def\\\\def\\\\def\\\\def\\\\def\\\\def\\\\def\\\\def\\\\def\\\\def\\\\def\\\\def\\\\def\\\\def\\\\def\\\\def\\\\def\\\\def\\\\def\\\\def\\\\def\\\\def\\\\def\\\\def\\\\def\\\\def\\\\def\\\\def\\\\def\\\\def\\\\def\\\\def\\\\def\\\\def\\\\def\\\\def\\\\def\\\\def\\\\def\\\\def\\\\def\\\\def\\\\def\\\\def\\\\def\\\\def\\\\def\\\\'"
      ]
     },
     "execution_count": 10,
     "metadata": {},
     "output_type": "execute_result"
    }
   ],
   "source": [
    "tk_llama3.batch_decode(r)[0]"
   ]
  },
  {
   "cell_type": "code",
   "execution_count": 11,
   "metadata": {},
   "outputs": [
    {
     "data": {
      "text/plain": [
       "1024"
      ]
     },
     "execution_count": 11,
     "metadata": {},
     "output_type": "execute_result"
    }
   ],
   "source": [
    "len(r[0])"
   ]
  },
  {
   "cell_type": "markdown",
   "metadata": {},
   "source": [
    "## Gradient Checkpointing"
   ]
  },
  {
   "cell_type": "code",
   "execution_count": 5,
   "metadata": {},
   "outputs": [],
   "source": [
    "def train_loop(model, steps, input_len = 1024):\n",
    "    input_ids = torch.tensor([1]*input_len).cuda().unsqueeze(0)\n",
    "    optimizer = torch.optim.AdamW(model.parameters())\n",
    "    for _ in tqdm(list(range(steps))):\n",
    "        optimizer.zero_grad()\n",
    "        loss = model(input_ids, labels = input_ids).loss\n",
    "        loss.backward()\n",
    "    optimizer.step()"
   ]
  },
  {
   "cell_type": "code",
   "execution_count": 8,
   "metadata": {},
   "outputs": [
    {
     "name": "stdout",
     "output_type": "stream",
     "text": [
      "[8.129638671875, 8.129638671875]\n"
     ]
    },
    {
     "name": "stderr",
     "output_type": "stream",
     "text": [
      "  0%|          | 0/20 [00:00<?, ?it/s]"
     ]
    },
    {
     "name": "stderr",
     "output_type": "stream",
     "text": [
      "100%|██████████| 20/20 [00:16<00:00,  1.18it/s]\n"
     ]
    },
    {
     "data": {
      "text/plain": [
       "[17.697998046875, 19.094482421875]"
      ]
     },
     "execution_count": 8,
     "metadata": {},
     "output_type": "execute_result"
    }
   ],
   "source": [
    "print(NVML_Mem()())\n",
    "lora_model.gradient_checkpointing_enable()\n",
    "train_loop(model, 20, input_len = 1122)\n",
    "NVML_Mem()()"
   ]
  },
  {
   "cell_type": "code",
   "execution_count": 7,
   "metadata": {},
   "outputs": [
    {
     "name": "stderr",
     "output_type": "stream",
     "text": [
      "  0%|          | 0/20 [00:00<?, ?it/s]"
     ]
    },
    {
     "name": "stderr",
     "output_type": "stream",
     "text": [
      "100%|██████████| 20/20 [00:19<00:00,  1.01it/s]\n"
     ]
    },
    {
     "ename": "OutOfMemoryError",
     "evalue": "CUDA out of memory. Tried to allocate 112.00 MiB (GPU 0; 22.19 GiB total capacity; 20.73 GiB already allocated; 77.31 MiB free; 21.17 GiB reserved in total by PyTorch) If reserved memory is >> allocated memory try setting max_split_size_mb to avoid fragmentation.  See documentation for Memory Management and PYTORCH_CUDA_ALLOC_CONF",
     "output_type": "error",
     "traceback": [
      "\u001b[0;31m---------------------------------------------------------------------------\u001b[0m",
      "\u001b[0;31mOutOfMemoryError\u001b[0m                          Traceback (most recent call last)",
      "\u001b[1;32m/storage/rhshui/workspace/contract_review/scripts/jupyter/play_model.ipynb Cell 37\u001b[0m line \u001b[0;36m2\n\u001b[1;32m      <a href='vscode-notebook-cell://ssh-remote%2Bnext-asus-2/storage/rhshui/workspace/contract_review/scripts/jupyter/play_model.ipynb#X51sdnNjb2RlLXJlbW90ZQ%3D%3D?line=0'>1</a>\u001b[0m model\u001b[39m.\u001b[39mgradient_checkpointing_disable()\n\u001b[0;32m----> <a href='vscode-notebook-cell://ssh-remote%2Bnext-asus-2/storage/rhshui/workspace/contract_review/scripts/jupyter/play_model.ipynb#X51sdnNjb2RlLXJlbW90ZQ%3D%3D?line=1'>2</a>\u001b[0m train_loop(model, \u001b[39m20\u001b[39;49m, input_len \u001b[39m=\u001b[39;49m \u001b[39m1122\u001b[39;49m)\n\u001b[1;32m      <a href='vscode-notebook-cell://ssh-remote%2Bnext-asus-2/storage/rhshui/workspace/contract_review/scripts/jupyter/play_model.ipynb#X51sdnNjb2RlLXJlbW90ZQ%3D%3D?line=2'>3</a>\u001b[0m NVML_Mem()()\n",
      "\u001b[1;32m/storage/rhshui/workspace/contract_review/scripts/jupyter/play_model.ipynb Cell 37\u001b[0m line \u001b[0;36m8\n\u001b[1;32m      <a href='vscode-notebook-cell://ssh-remote%2Bnext-asus-2/storage/rhshui/workspace/contract_review/scripts/jupyter/play_model.ipynb#X51sdnNjb2RlLXJlbW90ZQ%3D%3D?line=5'>6</a>\u001b[0m     loss \u001b[39m=\u001b[39m model(input_ids, labels \u001b[39m=\u001b[39m input_ids)\u001b[39m.\u001b[39mloss\n\u001b[1;32m      <a href='vscode-notebook-cell://ssh-remote%2Bnext-asus-2/storage/rhshui/workspace/contract_review/scripts/jupyter/play_model.ipynb#X51sdnNjb2RlLXJlbW90ZQ%3D%3D?line=6'>7</a>\u001b[0m     loss\u001b[39m.\u001b[39mbackward()\n\u001b[0;32m----> <a href='vscode-notebook-cell://ssh-remote%2Bnext-asus-2/storage/rhshui/workspace/contract_review/scripts/jupyter/play_model.ipynb#X51sdnNjb2RlLXJlbW90ZQ%3D%3D?line=7'>8</a>\u001b[0m optimizer\u001b[39m.\u001b[39;49mstep()\n",
      "File \u001b[0;32m/storage_fast/rhshui/lib/anaconda3/envs/llm/lib/python3.9/site-packages/torch/optim/optimizer.py:280\u001b[0m, in \u001b[0;36mOptimizer.profile_hook_step.<locals>.wrapper\u001b[0;34m(*args, **kwargs)\u001b[0m\n\u001b[1;32m    276\u001b[0m         \u001b[39melse\u001b[39;00m:\n\u001b[1;32m    277\u001b[0m             \u001b[39mraise\u001b[39;00m \u001b[39mRuntimeError\u001b[39;00m(\u001b[39mf\u001b[39m\u001b[39m\"\u001b[39m\u001b[39m{\u001b[39;00mfunc\u001b[39m}\u001b[39;00m\u001b[39m must return None or a tuple of (new_args, new_kwargs),\u001b[39m\u001b[39m\"\u001b[39m\n\u001b[1;32m    278\u001b[0m                                \u001b[39mf\u001b[39m\u001b[39m\"\u001b[39m\u001b[39mbut got \u001b[39m\u001b[39m{\u001b[39;00mresult\u001b[39m}\u001b[39;00m\u001b[39m.\u001b[39m\u001b[39m\"\u001b[39m)\n\u001b[0;32m--> 280\u001b[0m out \u001b[39m=\u001b[39m func(\u001b[39m*\u001b[39;49margs, \u001b[39m*\u001b[39;49m\u001b[39m*\u001b[39;49mkwargs)\n\u001b[1;32m    281\u001b[0m \u001b[39mself\u001b[39m\u001b[39m.\u001b[39m_optimizer_step_code()\n\u001b[1;32m    283\u001b[0m \u001b[39m# call optimizer step post hooks\u001b[39;00m\n",
      "File \u001b[0;32m/storage_fast/rhshui/lib/anaconda3/envs/llm/lib/python3.9/site-packages/torch/optim/optimizer.py:33\u001b[0m, in \u001b[0;36m_use_grad_for_differentiable.<locals>._use_grad\u001b[0;34m(self, *args, **kwargs)\u001b[0m\n\u001b[1;32m     31\u001b[0m \u001b[39mtry\u001b[39;00m:\n\u001b[1;32m     32\u001b[0m     torch\u001b[39m.\u001b[39mset_grad_enabled(\u001b[39mself\u001b[39m\u001b[39m.\u001b[39mdefaults[\u001b[39m'\u001b[39m\u001b[39mdifferentiable\u001b[39m\u001b[39m'\u001b[39m])\n\u001b[0;32m---> 33\u001b[0m     ret \u001b[39m=\u001b[39m func(\u001b[39mself\u001b[39;49m, \u001b[39m*\u001b[39;49margs, \u001b[39m*\u001b[39;49m\u001b[39m*\u001b[39;49mkwargs)\n\u001b[1;32m     34\u001b[0m \u001b[39mfinally\u001b[39;00m:\n\u001b[1;32m     35\u001b[0m     torch\u001b[39m.\u001b[39mset_grad_enabled(prev_grad)\n",
      "File \u001b[0;32m/storage_fast/rhshui/lib/anaconda3/envs/llm/lib/python3.9/site-packages/torch/optim/adamw.py:160\u001b[0m, in \u001b[0;36mAdamW.step\u001b[0;34m(self, closure)\u001b[0m\n\u001b[1;32m    157\u001b[0m     amsgrad \u001b[39m=\u001b[39m group[\u001b[39m\"\u001b[39m\u001b[39mamsgrad\u001b[39m\u001b[39m\"\u001b[39m]\n\u001b[1;32m    158\u001b[0m     beta1, beta2 \u001b[39m=\u001b[39m group[\u001b[39m\"\u001b[39m\u001b[39mbetas\u001b[39m\u001b[39m\"\u001b[39m]\n\u001b[0;32m--> 160\u001b[0m     \u001b[39mself\u001b[39;49m\u001b[39m.\u001b[39;49m_init_group(\n\u001b[1;32m    161\u001b[0m         group,\n\u001b[1;32m    162\u001b[0m         params_with_grad,\n\u001b[1;32m    163\u001b[0m         grads,\n\u001b[1;32m    164\u001b[0m         amsgrad,\n\u001b[1;32m    165\u001b[0m         exp_avgs,\n\u001b[1;32m    166\u001b[0m         exp_avg_sqs,\n\u001b[1;32m    167\u001b[0m         max_exp_avg_sqs,\n\u001b[1;32m    168\u001b[0m         state_steps,\n\u001b[1;32m    169\u001b[0m     )\n\u001b[1;32m    171\u001b[0m     adamw(\n\u001b[1;32m    172\u001b[0m         params_with_grad,\n\u001b[1;32m    173\u001b[0m         grads,\n\u001b[0;32m   (...)\u001b[0m\n\u001b[1;32m    190\u001b[0m         found_inf\u001b[39m=\u001b[39m\u001b[39mgetattr\u001b[39m(\u001b[39mself\u001b[39m, \u001b[39m\"\u001b[39m\u001b[39mfound_inf\u001b[39m\u001b[39m\"\u001b[39m, \u001b[39mNone\u001b[39;00m),\n\u001b[1;32m    191\u001b[0m     )\n\u001b[1;32m    193\u001b[0m \u001b[39mreturn\u001b[39;00m loss\n",
      "File \u001b[0;32m/storage_fast/rhshui/lib/anaconda3/envs/llm/lib/python3.9/site-packages/torch/optim/adamw.py:118\u001b[0m, in \u001b[0;36mAdamW._init_group\u001b[0;34m(self, group, params_with_grad, grads, amsgrad, exp_avgs, exp_avg_sqs, max_exp_avg_sqs, state_steps)\u001b[0m\n\u001b[1;32m    114\u001b[0m state[\u001b[39m\"\u001b[39m\u001b[39mexp_avg\u001b[39m\u001b[39m\"\u001b[39m] \u001b[39m=\u001b[39m torch\u001b[39m.\u001b[39mzeros_like(\n\u001b[1;32m    115\u001b[0m     p, memory_format\u001b[39m=\u001b[39mtorch\u001b[39m.\u001b[39mpreserve_format\n\u001b[1;32m    116\u001b[0m )\n\u001b[1;32m    117\u001b[0m \u001b[39m# Exponential moving average of squared gradient values\u001b[39;00m\n\u001b[0;32m--> 118\u001b[0m state[\u001b[39m\"\u001b[39m\u001b[39mexp_avg_sq\u001b[39m\u001b[39m\"\u001b[39m] \u001b[39m=\u001b[39m torch\u001b[39m.\u001b[39;49mzeros_like(\n\u001b[1;32m    119\u001b[0m     p, memory_format\u001b[39m=\u001b[39;49mtorch\u001b[39m.\u001b[39;49mpreserve_format\n\u001b[1;32m    120\u001b[0m )\n\u001b[1;32m    121\u001b[0m \u001b[39mif\u001b[39;00m amsgrad:\n\u001b[1;32m    122\u001b[0m     \u001b[39m# Maintains max of all exp. moving avg. of sq. grad. values\u001b[39;00m\n\u001b[1;32m    123\u001b[0m     state[\u001b[39m\"\u001b[39m\u001b[39mmax_exp_avg_sq\u001b[39m\u001b[39m\"\u001b[39m] \u001b[39m=\u001b[39m torch\u001b[39m.\u001b[39mzeros_like(\n\u001b[1;32m    124\u001b[0m         p, memory_format\u001b[39m=\u001b[39mtorch\u001b[39m.\u001b[39mpreserve_format\n\u001b[1;32m    125\u001b[0m     )\n",
      "\u001b[0;31mOutOfMemoryError\u001b[0m: CUDA out of memory. Tried to allocate 112.00 MiB (GPU 0; 22.19 GiB total capacity; 20.73 GiB already allocated; 77.31 MiB free; 21.17 GiB reserved in total by PyTorch) If reserved memory is >> allocated memory try setting max_split_size_mb to avoid fragmentation.  See documentation for Memory Management and PYTORCH_CUDA_ALLOC_CONF"
     ]
    }
   ],
   "source": [
    "model.gradient_checkpointing_disable()\n",
    "train_loop(model, 20, input_len = 1122)\n",
    "NVML_Mem()()"
   ]
  },
  {
   "cell_type": "code",
   "execution_count": 6,
   "metadata": {},
   "outputs": [
    {
     "name": "stdout",
     "output_type": "stream",
     "text": [
      "[0.30340576171875, 0.30340576171875]\n"
     ]
    }
   ],
   "source": [
    "import numpy as np\n",
    "from datasets import Dataset\n",
    "from torch.utils.data import DataLoader\n",
    "from transformers import TrainingArguments, Trainer\n",
    "\n",
    "seq_len, dataset_size = 512, 16\n",
    "dummy_data = {\n",
    "    \"input_ids\": np.random.randint(100, 30000, (dataset_size, seq_len)),\n",
    "}\n",
    "dummy_data['labels'] = dummy_data['input_ids']\n",
    "ds = Dataset.from_dict(dummy_data)\n",
    "ds.set_format(\"pt\")\n",
    "\n",
    "print(NVML_Mem()())\n",
    "\n",
    "default_args = {\n",
    "    \"output_dir\": \"tmp\",\n",
    "    \"evaluation_strategy\": \"steps\",\n",
    "    \"num_train_epochs\": 1,\n",
    "    \"log_level\": \"error\",\n",
    "    \"report_to\": \"none\",\n",
    "    'remove_unused_columns': False\n",
    "}"
   ]
  },
  {
   "cell_type": "code",
   "execution_count": 7,
   "metadata": {},
   "outputs": [],
   "source": [
    "lora_model.enable_input_require_grads()"
   ]
  },
  {
   "cell_type": "code",
   "execution_count": 7,
   "metadata": {},
   "outputs": [
    {
     "ename": "NameError",
     "evalue": "name 'lora_model' is not defined",
     "output_type": "error",
     "traceback": [
      "\u001b[0;31m---------------------------------------------------------------------------\u001b[0m",
      "\u001b[0;31mNameError\u001b[0m                                 Traceback (most recent call last)",
      "\u001b[1;32m/storage/rhshui/workspace/contract_review/scripts/jupyter/play_model.ipynb Cell 45\u001b[0m line \u001b[0;36m6\n\u001b[1;32m      <a href='vscode-notebook-cell://ssh-remote%2Bnext-asus-2/storage/rhshui/workspace/contract_review/scripts/jupyter/play_model.ipynb#Y104sdnNjb2RlLXJlbW90ZQ%3D%3D?line=0'>1</a>\u001b[0m training_args \u001b[39m=\u001b[39m TrainingArguments(\n\u001b[1;32m      <a href='vscode-notebook-cell://ssh-remote%2Bnext-asus-2/storage/rhshui/workspace/contract_review/scripts/jupyter/play_model.ipynb#Y104sdnNjb2RlLXJlbW90ZQ%3D%3D?line=1'>2</a>\u001b[0m     per_device_train_batch_size\u001b[39m=\u001b[39m\u001b[39m1\u001b[39m, \n\u001b[1;32m      <a href='vscode-notebook-cell://ssh-remote%2Bnext-asus-2/storage/rhshui/workspace/contract_review/scripts/jupyter/play_model.ipynb#Y104sdnNjb2RlLXJlbW90ZQ%3D%3D?line=2'>3</a>\u001b[0m     gradient_checkpointing\u001b[39m=\u001b[39m\u001b[39mTrue\u001b[39;00m,\n\u001b[1;32m      <a href='vscode-notebook-cell://ssh-remote%2Bnext-asus-2/storage/rhshui/workspace/contract_review/scripts/jupyter/play_model.ipynb#Y104sdnNjb2RlLXJlbW90ZQ%3D%3D?line=3'>4</a>\u001b[0m     \u001b[39m*\u001b[39m\u001b[39m*\u001b[39mdefault_args\n\u001b[1;32m      <a href='vscode-notebook-cell://ssh-remote%2Bnext-asus-2/storage/rhshui/workspace/contract_review/scripts/jupyter/play_model.ipynb#Y104sdnNjb2RlLXJlbW90ZQ%3D%3D?line=4'>5</a>\u001b[0m )\n\u001b[0;32m----> <a href='vscode-notebook-cell://ssh-remote%2Bnext-asus-2/storage/rhshui/workspace/contract_review/scripts/jupyter/play_model.ipynb#Y104sdnNjb2RlLXJlbW90ZQ%3D%3D?line=5'>6</a>\u001b[0m trainer \u001b[39m=\u001b[39m Trainer(model\u001b[39m=\u001b[39mlora_model, args\u001b[39m=\u001b[39mtraining_args, train_dataset\u001b[39m=\u001b[39mds)\n\u001b[1;32m      <a href='vscode-notebook-cell://ssh-remote%2Bnext-asus-2/storage/rhshui/workspace/contract_review/scripts/jupyter/play_model.ipynb#Y104sdnNjb2RlLXJlbW90ZQ%3D%3D?line=7'>8</a>\u001b[0m \u001b[39m# tr_dl = trainer.get_train_dataloader()\u001b[39;00m\n\u001b[1;32m      <a href='vscode-notebook-cell://ssh-remote%2Bnext-asus-2/storage/rhshui/workspace/contract_review/scripts/jupyter/play_model.ipynb#Y104sdnNjb2RlLXJlbW90ZQ%3D%3D?line=8'>9</a>\u001b[0m \u001b[39m# result = trainer.train()\u001b[39;00m\n\u001b[1;32m     <a href='vscode-notebook-cell://ssh-remote%2Bnext-asus-2/storage/rhshui/workspace/contract_review/scripts/jupyter/play_model.ipynb#Y104sdnNjb2RlLXJlbW90ZQ%3D%3D?line=10'>11</a>\u001b[0m \u001b[39mprint\u001b[39m(NVML_Mem()())\n",
      "\u001b[0;31mNameError\u001b[0m: name 'lora_model' is not defined"
     ]
    }
   ],
   "source": [
    "training_args = TrainingArguments(\n",
    "    per_device_train_batch_size=1, \n",
    "    gradient_checkpointing=True,\n",
    "    **default_args\n",
    ")\n",
    "trainer = Trainer(model=lora_model, args=training_args, train_dataset=ds)\n",
    "\n",
    "# tr_dl = trainer.get_train_dataloader()\n",
    "# result = trainer.train()\n",
    "\n",
    "print(NVML_Mem()())"
   ]
  },
  {
   "cell_type": "code",
   "execution_count": 9,
   "metadata": {},
   "outputs": [],
   "source": [
    "trainer.model.gradient_checkpointing_enable()"
   ]
  },
  {
   "cell_type": "code",
   "execution_count": 8,
   "metadata": {},
   "outputs": [
    {
     "data": {
      "text/plain": [
       "<ParallelMode.NOT_DISTRIBUTED: 'not_distributed'>"
      ]
     },
     "execution_count": 8,
     "metadata": {},
     "output_type": "execute_result"
    }
   ],
   "source": [
    "training_args.parallel_mode"
   ]
  },
  {
   "cell_type": "code",
   "execution_count": 29,
   "metadata": {},
   "outputs": [
    {
     "data": {
      "text/plain": [
       "'4.36.2'"
      ]
     },
     "execution_count": 29,
     "metadata": {},
     "output_type": "execute_result"
    }
   ],
   "source": [
    "import transformers\n",
    "transformers.__version__"
   ]
  },
  {
   "cell_type": "markdown",
   "metadata": {},
   "source": [
    "### Load PEFT"
   ]
  },
  {
   "cell_type": "code",
   "execution_count": 10,
   "metadata": {},
   "outputs": [],
   "source": [
    "peft_id = 'runs/ood/llama3/seed42_tr29/pmt_01_all_lr1e-5_bs16_wd0.0/checkpoint-15692'\n",
    "# model = AutoModelForCausalLM.from_pretrained(\n",
    "#     peft_id, \n",
    "#     cache_dir = '/next_share/hf_cache/hub')"
   ]
  },
  {
   "cell_type": "code",
   "execution_count": 11,
   "metadata": {},
   "outputs": [],
   "source": [
    "st = torch.load(Path(peft_id) / 'adapter_model.bin', map_location = 'cpu')"
   ]
  },
  {
   "cell_type": "code",
   "execution_count": 12,
   "metadata": {},
   "outputs": [
    {
     "name": "stdout",
     "output_type": "stream",
     "text": [
      "[]\n"
     ]
    }
   ],
   "source": [
    "print([k for k in st.keys() if 'layer' not in k])"
   ]
  },
  {
   "cell_type": "code",
   "execution_count": 13,
   "metadata": {},
   "outputs": [
    {
     "data": {
      "text/plain": [
       "448"
      ]
     },
     "execution_count": 13,
     "metadata": {},
     "output_type": "execute_result"
    }
   ],
   "source": [
    "len(st)"
   ]
  },
  {
   "cell_type": "code",
   "execution_count": 3,
   "metadata": {},
   "outputs": [
    {
     "data": {
      "application/vnd.jupyter.widget-view+json": {
       "model_id": "16ec8611ea164c659775fcfae637537a",
       "version_major": 2,
       "version_minor": 0
      },
      "text/plain": [
       "Loading checkpoint shards:   0%|          | 0/4 [00:00<?, ?it/s]"
      ]
     },
     "metadata": {},
     "output_type": "display_data"
    },
    {
     "name": "stdout",
     "output_type": "stream",
     "text": [
      "Resize embedding num to 128257\n"
     ]
    }
   ],
   "source": [
    "from accelerate import Accelerator\n",
    "\n",
    "model = load_hf_model_from_checkpoint(peft_id, Accelerator(), 'bf16')"
   ]
  },
  {
   "cell_type": "code",
   "execution_count": 9,
   "metadata": {},
   "outputs": [
    {
     "name": "stderr",
     "output_type": "stream",
     "text": [
      "The attention mask and the pad token id were not set. As a consequence, you may observe unexpected behavior. Please pass your input's `attention_mask` to obtain reliable results.\n",
      "Setting `pad_token_id` to `eos_token_id`:128001 for open-end generation.\n"
     ]
    }
   ],
   "source": [
    "gen_r = model.generate()"
   ]
  },
  {
   "cell_type": "code",
   "execution_count": 10,
   "metadata": {},
   "outputs": [
    {
     "data": {
      "text/plain": [
       "'<|begin_of_text|>Question:\\nWhat is the greatest common factor of 126 and 105?\\nAnswer:\\n21<|end_of_text|>'"
      ]
     },
     "execution_count": 10,
     "metadata": {},
     "output_type": "execute_result"
    }
   ],
   "source": [
    "tk_llama3.batch_decode(gen_r)[0]"
   ]
  },
  {
   "cell_type": "code",
   "execution_count": 16,
   "metadata": {},
   "outputs": [
    {
     "name": "stdout",
     "output_type": "stream",
     "text": [
      "<|end_of_text|>\n",
      "128001\n",
      "128256\n"
     ]
    }
   ],
   "source": [
    "tk_llama3.pad_token = tk_llama3.eos_token\n",
    "print(tk_llama3.pad_token)\n",
    "print(tk_llama3.pad_token_id)\n",
    "print(len(tk_llama3))"
   ]
  },
  {
   "cell_type": "code",
   "execution_count": 37,
   "metadata": {},
   "outputs": [
    {
     "name": "stdout",
     "output_type": "stream",
     "text": [
      "weight\n",
      "torch.Size([50257, 768])\n"
     ]
    }
   ],
   "source": [
    "ipt_emb = model.get_input_embeddings()\n",
    "ipt_emb_n, ipt_emb_w = list(ipt_emb.named_parameters())[0]\n",
    "print(ipt_emb_n)\n",
    "print(ipt_emb_w.shape)"
   ]
  },
  {
   "cell_type": "code",
   "execution_count": 32,
   "metadata": {},
   "outputs": [
    {
     "name": "stdout",
     "output_type": "stream",
     "text": [
      "transformer.wte\n"
     ]
    }
   ],
   "source": [
    "for n,m in model.named_modules():\n",
    "    if m is model.get_input_embeddings():\n",
    "        print(n)"
   ]
  },
  {
   "cell_type": "code",
   "execution_count": 34,
   "metadata": {},
   "outputs": [],
   "source": [
    "st = load_peft_weights(peft_id)\n",
    "keys = list(st.keys())"
   ]
  },
  {
   "cell_type": "code",
   "execution_count": 36,
   "metadata": {},
   "outputs": [
    {
     "data": {
      "text/plain": [
       "['base_model.model.model.embed_tokens.weight',\n",
       " 'base_model.model.lm_head.weight']"
      ]
     },
     "execution_count": 36,
     "metadata": {},
     "output_type": "execute_result"
    }
   ],
   "source": [
    "keys[-2:]"
   ]
  },
  {
   "cell_type": "code",
   "execution_count": 6,
   "metadata": {},
   "outputs": [],
   "source": [
    "torch.cuda.empty_cache()"
   ]
  },
  {
   "cell_type": "code",
   "execution_count": null,
   "metadata": {},
   "outputs": [],
   "source": []
  }
 ],
 "metadata": {
  "kernelspec": {
   "display_name": "llm",
   "language": "python",
   "name": "python3"
  },
  "language_info": {
   "codemirror_mode": {
    "name": "ipython",
    "version": 3
   },
   "file_extension": ".py",
   "mimetype": "text/x-python",
   "name": "python",
   "nbconvert_exporter": "python",
   "pygments_lexer": "ipython3",
   "version": "3.9.16"
  }
 },
 "nbformat": 4,
 "nbformat_minor": 2
}
