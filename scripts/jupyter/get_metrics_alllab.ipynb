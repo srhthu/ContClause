{
 "cells": [
  {
   "cell_type": "markdown",
   "metadata": {},
   "source": [
    "Get metrics under the `all_lab` folder under runs.\n",
    "\n",
    "The results of different split is under the checkpoint."
   ]
  },
  {
   "cell_type": "code",
   "execution_count": 1,
   "metadata": {
    "metadata": {}
   },
   "outputs": [],
   "source": [
    "import os\n",
    "import numpy as np\n",
    "import pandas as pd\n",
    "from pathlib import Path\n",
    "from ast import literal_eval\n",
    "from typing import List\n",
    "import re\n",
    "import importlib\n",
    "\n",
    "import context\n",
    "os.chdir(context.proj_dir)\n",
    "\n",
    "import cont_gen.utils\n",
    "importlib.reload(cont_gen.utils)\n",
    "import cont_gen.evaluate.cal_metrics\n",
    "importlib.reload(cont_gen.evaluate.cal_metrics)\n",
    "from cont_gen.utils import load_jsonl, save_jsonl, plot_multiple_loss, get_loss_df_norm,get_ckpt_paths, load_json, save_json\n",
    "from cont_gen.evaluate.cal_metrics import cal_collective_point_metrics, get_point_counts, get_doc_metrics, get_overall_metrics\n",
    "import cont_gen.evaluate.io\n",
    "importlib.reload(cont_gen.evaluate.io)\n",
    "from cont_gen.evaluate.io import RunManager"
   ]
  },
  {
   "cell_type": "markdown",
   "metadata": {},
   "source": [
    "## Get Evaluation Results"
   ]
  },
  {
   "cell_type": "code",
   "execution_count": 14,
   "metadata": {
    "metadata": {}
   },
   "outputs": [],
   "source": [
    "cvt = {'answers': lambda k: ' '.join(literal_eval(k))}\n",
    "def parse_pred(text: str):\n",
    "    if text == 'No' or text == 'No.':\n",
    "        return ''\n",
    "    else:\n",
    "        return text.removeprefix('Yes.')\n",
    "\n",
    "def get_tk_name(path):\n",
    "    if 't5' in path:\n",
    "        tk_name = 'flan-t5'\n",
    "    elif 'llama3' in path:\n",
    "        tk_name = 'llama3'\n",
    "    elif 'mistral' in path:\n",
    "        tk_name = 'mistral'\n",
    "    else:\n",
    "        print(f'missing tk_name for {path}')\n",
    "        tk_name = None\n",
    "    return tk_name\n",
    "\n",
    "def handle_model_runs(model_run):\n",
    "    \"\"\"Evaluate checkpoints of all model runs\"\"\"\n",
    "    for exp_path in Path(model_run).glob('*'):\n",
    "        print(f'Handle {str(exp_path)}')\n",
    "        tk_name = get_tk_name(str(exp_path))\n",
    "        for split in ['seed42_tr29', 'seed89_tr29', 'seed128_tr29']:\n",
    "            print(split)\n",
    "            for ckpt in get_ckpt_paths(exp_path):\n",
    "                print(f'\\t{ckpt.name}')\n",
    "                test_meta_ood = pd.read_csv(f'data/ood_split/{split}/{tk_name}/test_meta_ood.csv', converters = cvt)\n",
    "                cal_ckpt_metrics(ckpt / split, test_meta_ood, parse_pred)\n",
    "\n",
    "def cal_ckpt_metrics(ckpt, ground_df, parse_fn):\n",
    "    ckpt = Path(ckpt)\n",
    "    if not ckpt.exists():\n",
    "        return\n",
    "\n",
    "    pred_sampled = ckpt / f'predictions_ood_sampled.jsonl'\n",
    "\n",
    "    ov_sampled_path = ckpt / f'ov_metrics_ood_sampled.csv'\n",
    "        \n",
    "    \n",
    "    if ov_sampled_path.exists():\n",
    "        return\n",
    "    pred_sampled_df = pd.DataFrame(load_jsonl(pred_sampled))\n",
    "    ov_mets_sampled, detail_df_sampled = get_overall_metrics(ground_df, pred_sampled_df, parse_fn)\n",
    "    save_json(ov_mets_sampled, ov_sampled_path)\n",
    "    detail_df_sampled.to_csv(ckpt / f'detail_metrics_ood_sampled.csv', index = False)\n"
   ]
  },
  {
   "cell_type": "code",
   "execution_count": 19,
   "metadata": {
    "metadata": {}
   },
   "outputs": [
    {
     "name": "stdout",
     "output_type": "stream",
     "text": [
      "Handle runs/all_lab/mistral_chat/pmt_01_lr1e-5_bs16_wd0.0\n",
      "seed42_tr29\n",
      "\tcheckpoint-26569\n",
      "\tcheckpoint-53138\n",
      "\tcheckpoint-79707\n",
      "\tcheckpoint-106276\n",
      "\tcheckpoint-132845\n",
      "seed89_tr29\n",
      "\tcheckpoint-26569\n",
      "\tcheckpoint-53138\n",
      "\tcheckpoint-79707\n",
      "\tcheckpoint-106276\n",
      "\tcheckpoint-132845\n",
      "seed128_tr29\n",
      "\tcheckpoint-26569\n",
      "\tcheckpoint-53138\n",
      "\tcheckpoint-79707\n",
      "\tcheckpoint-106276\n",
      "\tcheckpoint-132845\n"
     ]
    }
   ],
   "source": [
    "handle_model_runs('runs/all_lab/mistral_chat')"
   ]
  },
  {
   "cell_type": "markdown",
   "metadata": {},
   "source": [
    "##  Load all results"
   ]
  },
  {
   "cell_type": "code",
   "execution_count": 27,
   "metadata": {
    "metadata": {}
   },
   "outputs": [],
   "source": [
    "def load_metrics_df(run_dir, fname):\n",
    "    \"\"\"Load all model results to checkpoints to dataframe\"\"\"\n",
    "    # columns: model, split, ckpt, res_ov or res_detail\n",
    "    lines = []\n",
    "    for model_run in Path(run_dir).glob('*'):\n",
    "        exp_run = list(model_run.glob('*'))[0]\n",
    "        for ckpt_p in get_ckpt_paths(exp_run):\n",
    "            for split_p in ckpt_p.glob('seed*'):\n",
    "                # load the file\n",
    "                if fname.startswith('ov'):\n",
    "                    res = load_json(split_p / fname)\n",
    "                else:\n",
    "                    res = pd.read_csv(split_p / fname)\n",
    "                lines.append((model_run.name, split_p.name, ckpt_p.name, res))\n",
    "    return pd.DataFrame(lines, columns = ['model', 'split', 'ckpt', 'res_' + fname.split('_')[0]])\n",
    "        "
   ]
  },
  {
   "cell_type": "code",
   "execution_count": 28,
   "metadata": {
    "metadata": {}
   },
   "outputs": [],
   "source": [
    "ov_all_ckpts = load_metrics_df('runs/all_lab', 'ov_metrics_ood_sampled.csv')"
   ]
  },
  {
   "cell_type": "code",
   "execution_count": 29,
   "metadata": {
    "metadata": {}
   },
   "outputs": [
    {
     "data": {
      "text/html": [
       "<div>\n",
       "<style scoped>\n",
       "    .dataframe tbody tr th:only-of-type {\n",
       "        vertical-align: middle;\n",
       "    }\n",
       "\n",
       "    .dataframe tbody tr th {\n",
       "        vertical-align: top;\n",
       "    }\n",
       "\n",
       "    .dataframe thead th {\n",
       "        text-align: right;\n",
       "    }\n",
       "</style>\n",
       "<table border=\"1\" class=\"dataframe\">\n",
       "  <thead>\n",
       "    <tr style=\"text-align: right;\">\n",
       "      <th></th>\n",
       "      <th>model</th>\n",
       "      <th>split</th>\n",
       "      <th>ckpt</th>\n",
       "      <th>res_ov</th>\n",
       "    </tr>\n",
       "  </thead>\n",
       "  <tbody>\n",
       "    <tr>\n",
       "      <th>0</th>\n",
       "      <td>mistral_chat</td>\n",
       "      <td>seed42_tr29</td>\n",
       "      <td>checkpoint-26569</td>\n",
       "      <td>{'doc_macro_f1': 0.8079424011099922, 'doc_macr...</td>\n",
       "    </tr>\n",
       "    <tr>\n",
       "      <th>1</th>\n",
       "      <td>mistral_chat</td>\n",
       "      <td>seed128_tr29</td>\n",
       "      <td>checkpoint-26569</td>\n",
       "      <td>{'doc_macro_f1': 0.7972873897573408, 'doc_macr...</td>\n",
       "    </tr>\n",
       "    <tr>\n",
       "      <th>2</th>\n",
       "      <td>mistral_chat</td>\n",
       "      <td>seed89_tr29</td>\n",
       "      <td>checkpoint-26569</td>\n",
       "      <td>{'doc_macro_f1': 0.8159923476714402, 'doc_macr...</td>\n",
       "    </tr>\n",
       "    <tr>\n",
       "      <th>3</th>\n",
       "      <td>mistral_chat</td>\n",
       "      <td>seed42_tr29</td>\n",
       "      <td>checkpoint-53138</td>\n",
       "      <td>{'doc_macro_f1': 0.8574277024671632, 'doc_macr...</td>\n",
       "    </tr>\n",
       "    <tr>\n",
       "      <th>4</th>\n",
       "      <td>mistral_chat</td>\n",
       "      <td>seed89_tr29</td>\n",
       "      <td>checkpoint-53138</td>\n",
       "      <td>{'doc_macro_f1': 0.8464127568896421, 'doc_macr...</td>\n",
       "    </tr>\n",
       "    <tr>\n",
       "      <th>...</th>\n",
       "      <td>...</td>\n",
       "      <td>...</td>\n",
       "      <td>...</td>\n",
       "      <td>...</td>\n",
       "    </tr>\n",
       "    <tr>\n",
       "      <th>70</th>\n",
       "      <td>llama3</td>\n",
       "      <td>seed128_tr29</td>\n",
       "      <td>checkpoint-105236</td>\n",
       "      <td>{'doc_macro_f1': 0.849905908921079, 'doc_macro...</td>\n",
       "    </tr>\n",
       "    <tr>\n",
       "      <th>71</th>\n",
       "      <td>llama3</td>\n",
       "      <td>seed89_tr29</td>\n",
       "      <td>checkpoint-105236</td>\n",
       "      <td>{'doc_macro_f1': 0.8726319437178165, 'doc_macr...</td>\n",
       "    </tr>\n",
       "    <tr>\n",
       "      <th>72</th>\n",
       "      <td>llama3</td>\n",
       "      <td>seed89_tr29</td>\n",
       "      <td>checkpoint-131545</td>\n",
       "      <td>{'doc_macro_f1': 0.8712389935570437, 'doc_macr...</td>\n",
       "    </tr>\n",
       "    <tr>\n",
       "      <th>73</th>\n",
       "      <td>llama3</td>\n",
       "      <td>seed128_tr29</td>\n",
       "      <td>checkpoint-131545</td>\n",
       "      <td>{'doc_macro_f1': 0.8558289304112038, 'doc_macr...</td>\n",
       "    </tr>\n",
       "    <tr>\n",
       "      <th>74</th>\n",
       "      <td>llama3</td>\n",
       "      <td>seed42_tr29</td>\n",
       "      <td>checkpoint-131545</td>\n",
       "      <td>{'doc_macro_f1': 0.8793612800718779, 'doc_macr...</td>\n",
       "    </tr>\n",
       "  </tbody>\n",
       "</table>\n",
       "<p>75 rows × 4 columns</p>\n",
       "</div>"
      ],
      "text/plain": [
       "           model         split               ckpt   \n",
       "0   mistral_chat   seed42_tr29   checkpoint-26569  \\\n",
       "1   mistral_chat  seed128_tr29   checkpoint-26569   \n",
       "2   mistral_chat   seed89_tr29   checkpoint-26569   \n",
       "3   mistral_chat   seed42_tr29   checkpoint-53138   \n",
       "4   mistral_chat   seed89_tr29   checkpoint-53138   \n",
       "..           ...           ...                ...   \n",
       "70        llama3  seed128_tr29  checkpoint-105236   \n",
       "71        llama3   seed89_tr29  checkpoint-105236   \n",
       "72        llama3   seed89_tr29  checkpoint-131545   \n",
       "73        llama3  seed128_tr29  checkpoint-131545   \n",
       "74        llama3   seed42_tr29  checkpoint-131545   \n",
       "\n",
       "                                               res_ov  \n",
       "0   {'doc_macro_f1': 0.8079424011099922, 'doc_macr...  \n",
       "1   {'doc_macro_f1': 0.7972873897573408, 'doc_macr...  \n",
       "2   {'doc_macro_f1': 0.8159923476714402, 'doc_macr...  \n",
       "3   {'doc_macro_f1': 0.8574277024671632, 'doc_macr...  \n",
       "4   {'doc_macro_f1': 0.8464127568896421, 'doc_macr...  \n",
       "..                                                ...  \n",
       "70  {'doc_macro_f1': 0.849905908921079, 'doc_macro...  \n",
       "71  {'doc_macro_f1': 0.8726319437178165, 'doc_macr...  \n",
       "72  {'doc_macro_f1': 0.8712389935570437, 'doc_macr...  \n",
       "73  {'doc_macro_f1': 0.8558289304112038, 'doc_macr...  \n",
       "74  {'doc_macro_f1': 0.8793612800718779, 'doc_macr...  \n",
       "\n",
       "[75 rows x 4 columns]"
      ]
     },
     "execution_count": 29,
     "metadata": {},
     "output_type": "execute_result"
    }
   ],
   "source": [
    "ov_all_ckpts"
   ]
  },
  {
   "cell_type": "code",
   "execution_count": 45,
   "metadata": {
    "metadata": {}
   },
   "outputs": [
    {
     "data": {
      "text/plain": [
       "[<matplotlib.lines.Line2D at 0x7f30ec4b8850>]"
      ]
     },
     "execution_count": 45,
     "metadata": {},
     "output_type": "execute_result"
    },
    {
     "data": {
      "image/png": "[encoded data removed]",
      "text/plain": [
       "<Figure size 640x480 with 1 Axes>"
      ]
     },
     "metadata": {},
     "output_type": "display_data"
    }
   ],
   "source": [
    "# Plot the performance\n",
    "import matplotlib.pyplot as plt\n",
    "\n",
    "split = 'seed42_tr29'\n",
    "part = ov_all_ckpts[(ov_all_ckpts['model'] == 'llama3')\n",
    "                    & (ov_all_ckpts['split'] == split)]\n",
    "step_pfm = []\n",
    "for _, row in part.iterrows():\n",
    "    ckpt = int(row['ckpt'].split('-')[-1])\n",
    "    rep_m = row['res_ov']['macro_p']\n",
    "    step_pfm.append((ckpt, rep_m))\n",
    "step_pfm.sort(key = lambda k: k[0])\n",
    "\n",
    "plt.plot([k[1] for k in step_pfm])"
   ]
  },
  {
   "cell_type": "code",
   "execution_count": null,
   "metadata": {},
   "outputs": [],
   "source": []
  }
 ],
 "metadata": {
  "kernelspec": {
   "display_name": "llm",
   "language": "python",
   "name": "python3"
  },
  "language_info": {
   "codemirror_mode": {
    "name": "ipython",
    "version": 3
   },
   "file_extension": ".py",
   "mimetype": "text/x-python",
   "name": "python",
   "nbconvert_exporter": "python",
   "pygments_lexer": "ipython3",
   "version": "3.9.16"
  }
 },
 "nbformat": 4,
 "nbformat_minor": 2
}
