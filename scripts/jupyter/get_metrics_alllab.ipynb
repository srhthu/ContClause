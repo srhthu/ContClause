{
 "cells": [
  {
   "cell_type": "markdown",
   "metadata": {},
   "source": [
    "Get metrics under the `all_lab` folder under runs.\n",
    "\n",
    "The results of different split is under the checkpoint."
   ]
  },
  {
   "cell_type": "code",
   "execution_count": 1,
   "metadata": {
    "metadata": {}
   },
   "outputs": [],
   "source": [
    "import os\n",
    "import numpy as np\n",
    "import pandas as pd\n",
    "from pathlib import Path\n",
    "from ast import literal_eval\n",
    "from typing import List\n",
    "import re\n",
    "import importlib\n",
    "\n",
    "import context\n",
    "os.chdir(context.proj_dir)\n",
    "\n",
    "import cont_gen.utils\n",
    "importlib.reload(cont_gen.utils)\n",
    "import cont_gen.evaluate.cal_metrics\n",
    "importlib.reload(cont_gen.evaluate.cal_metrics)\n",
    "from cont_gen.utils import load_jsonl, save_jsonl, plot_multiple_loss, get_loss_df_norm,get_ckpt_paths, load_json, save_json\n",
    "from cont_gen.evaluate.cal_metrics import cal_collective_point_metrics, get_point_counts, get_doc_metrics, get_overall_metrics\n",
    "import cont_gen.evaluate.io\n",
    "importlib.reload(cont_gen.evaluate.io)\n",
    "from cont_gen.evaluate.io import RunManager"
   ]
  },
  {
   "cell_type": "markdown",
   "metadata": {},
   "source": [
    "## Get Evaluation Results"
   ]
  },
  {
   "cell_type": "code",
   "execution_count": 2,
   "metadata": {
    "metadata": {}
   },
   "outputs": [],
   "source": [
    "cvt = {'answers': lambda k: ' '.join(literal_eval(k))}\n",
    "def parse_pred(text: str):\n",
    "    if text == 'No' or text == 'No.':\n",
    "        return ''\n",
    "    else:\n",
    "        return text.removeprefix('Yes.')\n",
    "\n",
    "def get_tk_name(path):\n",
    "    if 't5' in path:\n",
    "        tk_name = 'flan-t5'\n",
    "    elif 'llama3' in path:\n",
    "        tk_name = 'llama3'\n",
    "    elif 'mistral' in path:\n",
    "        tk_name = 'mistral'\n",
    "    else:\n",
    "        print(f'missing tk_name for {path}')\n",
    "        tk_name = None\n",
    "    return tk_name\n",
    "\n",
    "def handle_model_runs(model_run):\n",
    "    \"\"\"Evaluate checkpoints of all model runs\"\"\"\n",
    "    for exp_path in Path(model_run).glob('*'):\n",
    "        print(f'Handle {str(exp_path)}')\n",
    "        tk_name = get_tk_name(str(exp_path))\n",
    "        for split in ['seed42_tr29', 'seed89_tr29', 'seed128_tr29']:\n",
    "            print(split)\n",
    "            for ckpt in get_ckpt_paths(exp_path):\n",
    "                print(f'\\t{ckpt.name}')\n",
    "                test_meta_ood = pd.read_csv(f'data/ood_split/{split}/{tk_name}/test_meta_ood.csv', converters = cvt)\n",
    "                cal_ckpt_metrics(ckpt / split, test_meta_ood, parse_pred)\n",
    "\n",
    "def cal_ckpt_metrics(ckpt, ground_df, parse_fn):\n",
    "    ckpt = Path(ckpt)\n",
    "    if not ckpt.exists():\n",
    "        return\n",
    "\n",
    "    pred_sampled = ckpt / f'predictions_ood_sampled.jsonl'\n",
    "\n",
    "    ov_sampled_path = ckpt / f'ov_metrics_ood_sampled.csv'\n",
    "        \n",
    "    \n",
    "    if ov_sampled_path.exists():\n",
    "        return\n",
    "    pred_sampled_df = pd.DataFrame(load_jsonl(pred_sampled))\n",
    "    ov_mets_sampled, detail_df_sampled = get_overall_metrics(ground_df, pred_sampled_df, parse_fn)\n",
    "    save_json(ov_mets_sampled, ov_sampled_path)\n",
    "    detail_df_sampled.to_csv(ckpt / f'detail_metrics_ood_sampled.csv', index = False)\n"
   ]
  },
  {
   "cell_type": "code",
   "execution_count": 82,
   "metadata": {
    "metadata": {}
   },
   "outputs": [
    {
     "name": "stdout",
     "output_type": "stream",
     "text": [
      "Handle runs/all_lab/flan-t5-xl/pmt_01_lr1e-4_bs16_wd0.0\n",
      "seed42_tr29\n",
      "\tcheckpoint-21461\n",
      "\tcheckpoint-42922\n",
      "\tcheckpoint-64383\n",
      "\tcheckpoint-85844\n",
      "\tcheckpoint-107305\n",
      "seed89_tr29\n",
      "\tcheckpoint-21461\n",
      "\tcheckpoint-42922\n",
      "\tcheckpoint-64383\n",
      "\tcheckpoint-85844\n",
      "\tcheckpoint-107305\n",
      "seed128_tr29\n",
      "\tcheckpoint-21461\n",
      "\tcheckpoint-42922\n",
      "\tcheckpoint-64383\n",
      "\tcheckpoint-85844\n",
      "\tcheckpoint-107305\n"
     ]
    }
   ],
   "source": [
    "handle_model_runs('runs/all_lab/flan-t5-xl')"
   ]
  },
  {
   "cell_type": "markdown",
   "metadata": {},
   "source": [
    "##  Load all results forf OOD and alllab Runs"
   ]
  },
  {
   "cell_type": "code",
   "execution_count": 13,
   "metadata": {
    "metadata": {}
   },
   "outputs": [],
   "source": [
    "def load_metrics_df(run_dir):\n",
    "    \"\"\"Load all checkpoints results of all_lab runs to dataframe\"\"\"\n",
    "    # Path is like \"flan-t5-xl/pmt_01_lrxxx/checkpoint-xxx/seed_xx\"\n",
    "    # columns: model, split, ckpt, res_ov, res_detail\n",
    "    lines = []\n",
    "    for model_run in Path(run_dir).glob('*'):\n",
    "        exp_run = list(model_run.glob('*'))[0]\n",
    "        for ckpt_p in get_ckpt_paths(exp_run):\n",
    "            for split_p in ckpt_p.glob('seed*'):\n",
    "                # load the file\n",
    "                res_ov = load_json(split_p / 'ov_metrics_ood_sampled.csv')\n",
    "                res_detail = pd.read_csv(split_p / 'detail_metrics_ood_sampled.csv')\n",
    "                lines.append((model_run.name, split_p.name, ckpt_p.name, res_ov, res_detail))\n",
    "    return pd.DataFrame(lines, columns = ['model', 'split', 'ckpt', 'res_ov', 'res_detail'])\n",
    "\n",
    "def load_metrics_df_ood(run_dir):\n",
    "    \"\"\"Load all model results of ckpts of ood runs\"\"\"\n",
    "    # Path is like \"flan-t5-xl/seed42_tr29/pmt_01_lr1e-4_bs16_wd0.0/checkpoint-15760\"\n",
    "    # columns: model, split, ckpt, res_ov, res_ov_id, res_detail\n",
    "    lines = []\n",
    "    for model_run in Path(run_dir).glob('*'):\n",
    "        for split_p in model_run.glob('seed*'):\n",
    "            # fine the desired run\n",
    "            runs = [k for k in split_p.glob('*') if re.match(r'pmt_01(_all)?_lr', k.name)]\n",
    "            if len(runs) > 1:\n",
    "                runs = [k for k in runs if 'lr1e-4' in k.name]\n",
    "            if not len(runs) == 1:\n",
    "                print(f'Warning: wrong run number: {split_p} {runs}')\n",
    "            for ckpt_p in get_ckpt_paths(runs[0]):\n",
    "                # load the file\n",
    "                res_ov = load_json(ckpt_p / 'ov_metrics_ood_sampled.csv')\n",
    "                res_ov_id = load_json(ckpt_p / 'ov_metrics_id_sampled.csv')\n",
    "                res_detail = pd.read_csv(ckpt_p / 'detail_metrics_ood_sampled.csv')\n",
    "                \n",
    "                lines.append((model_run.name, split_p.name, ckpt_p.name, res_ov, res_ov_id, res_detail))\n",
    "    return pd.DataFrame(lines, columns = ['model', 'split', 'ckpt', 'res_ov', 'res_ov_id', 'res_detail'])\n",
    "\n",
    "def filter_best_ckpt(ckpt_df, rep_metric = 'macro_iou')->List[pd.Series]:\n",
    "    \"\"\"Only keep the best checkpoint\"\"\"\n",
    "    model_gb = ckpt_df.groupby(['model', 'split'])\n",
    "    best_ckpts = []\n",
    "    for _, res in model_gb:\n",
    "        # find best metric\n",
    "        tgt_set = 'res_ov_id' if 'res_ov_id' in res else 'res_ov'\n",
    "        rep_metrics = res[tgt_set].apply(lambda k: k[rep_metric]).to_list()\n",
    "        idx_of_best = np.argmax(rep_metrics)\n",
    "\n",
    "        best_ckpts.append(res.iloc[idx_of_best])\n",
    "    return best_ckpts\n",
    "        "
   ]
  },
  {
   "cell_type": "code",
   "execution_count": 14,
   "metadata": {
    "metadata": {}
   },
   "outputs": [
    {
     "name": "stdout",
     "output_type": "stream",
     "text": [
      "72\n"
     ]
    },
    {
     "data": {
      "text/html": [
       "<div>\n",
       "<style scoped>\n",
       "    .dataframe tbody tr th:only-of-type {\n",
       "        vertical-align: middle;\n",
       "    }\n",
       "\n",
       "    .dataframe tbody tr th {\n",
       "        vertical-align: top;\n",
       "    }\n",
       "\n",
       "    .dataframe thead th {\n",
       "        text-align: right;\n",
       "    }\n",
       "</style>\n",
       "<table border=\"1\" class=\"dataframe\">\n",
       "  <thead>\n",
       "    <tr style=\"text-align: right;\">\n",
       "      <th></th>\n",
       "      <th>model</th>\n",
       "      <th>split</th>\n",
       "      <th>ckpt</th>\n",
       "      <th>res_ov</th>\n",
       "      <th>res_detail</th>\n",
       "    </tr>\n",
       "  </thead>\n",
       "  <tbody>\n",
       "    <tr>\n",
       "      <th>0</th>\n",
       "      <td>flan-t5-xl</td>\n",
       "      <td>seed128_tr29</td>\n",
       "      <td>checkpoint-21461</td>\n",
       "      <td>{'doc_macro_f1': 0.8639472971314195, 'doc_macr...</td>\n",
       "      <td>q_id   macro_p   macro_r  macro_f1  macro_...</td>\n",
       "    </tr>\n",
       "    <tr>\n",
       "      <th>1</th>\n",
       "      <td>flan-t5-xl</td>\n",
       "      <td>seed89_tr29</td>\n",
       "      <td>checkpoint-21461</td>\n",
       "      <td>{'doc_macro_f1': 0.9032414430985928, 'doc_macr...</td>\n",
       "      <td>q_id   macro_p   macro_r  macro_f1  macro_...</td>\n",
       "    </tr>\n",
       "    <tr>\n",
       "      <th>2</th>\n",
       "      <td>flan-t5-xl</td>\n",
       "      <td>seed42_tr29</td>\n",
       "      <td>checkpoint-21461</td>\n",
       "      <td>{'doc_macro_f1': 0.8945897378834413, 'doc_macr...</td>\n",
       "      <td>q_id   macro_p   macro_r  macro_f1  macro_...</td>\n",
       "    </tr>\n",
       "    <tr>\n",
       "      <th>3</th>\n",
       "      <td>flan-t5-xl</td>\n",
       "      <td>seed42_tr29</td>\n",
       "      <td>checkpoint-42922</td>\n",
       "      <td>{'doc_macro_f1': 0.9039640697488353, 'doc_macr...</td>\n",
       "      <td>q_id   macro_p   macro_r  macro_f1  macro_...</td>\n",
       "    </tr>\n",
       "    <tr>\n",
       "      <th>4</th>\n",
       "      <td>flan-t5-xl</td>\n",
       "      <td>seed89_tr29</td>\n",
       "      <td>checkpoint-42922</td>\n",
       "      <td>{'doc_macro_f1': 0.9108011430733667, 'doc_macr...</td>\n",
       "      <td>q_id   macro_p   macro_r  macro_f1  macro_...</td>\n",
       "    </tr>\n",
       "  </tbody>\n",
       "</table>\n",
       "</div>"
      ],
      "text/plain": [
       "        model         split              ckpt   \n",
       "0  flan-t5-xl  seed128_tr29  checkpoint-21461  \\\n",
       "1  flan-t5-xl   seed89_tr29  checkpoint-21461   \n",
       "2  flan-t5-xl   seed42_tr29  checkpoint-21461   \n",
       "3  flan-t5-xl   seed42_tr29  checkpoint-42922   \n",
       "4  flan-t5-xl   seed89_tr29  checkpoint-42922   \n",
       "\n",
       "                                              res_ov   \n",
       "0  {'doc_macro_f1': 0.8639472971314195, 'doc_macr...  \\\n",
       "1  {'doc_macro_f1': 0.9032414430985928, 'doc_macr...   \n",
       "2  {'doc_macro_f1': 0.8945897378834413, 'doc_macr...   \n",
       "3  {'doc_macro_f1': 0.9039640697488353, 'doc_macr...   \n",
       "4  {'doc_macro_f1': 0.9108011430733667, 'doc_macr...   \n",
       "\n",
       "                                          res_detail  \n",
       "0      q_id   macro_p   macro_r  macro_f1  macro_...  \n",
       "1      q_id   macro_p   macro_r  macro_f1  macro_...  \n",
       "2      q_id   macro_p   macro_r  macro_f1  macro_...  \n",
       "3      q_id   macro_p   macro_r  macro_f1  macro_...  \n",
       "4      q_id   macro_p   macro_r  macro_f1  macro_...  "
      ]
     },
     "execution_count": 14,
     "metadata": {},
     "output_type": "execute_result"
    }
   ],
   "source": [
    "all_ckpts = load_metrics_df('runs/all_lab')\n",
    "print(len(all_ckpts))\n",
    "all_ckpts.head()"
   ]
  },
  {
   "cell_type": "code",
   "execution_count": 15,
   "metadata": {
    "metadata": {}
   },
   "outputs": [
    {
     "name": "stdout",
     "output_type": "stream",
     "text": [
      "105\n"
     ]
    },
    {
     "data": {
      "text/html": [
       "<div>\n",
       "<style scoped>\n",
       "    .dataframe tbody tr th:only-of-type {\n",
       "        vertical-align: middle;\n",
       "    }\n",
       "\n",
       "    .dataframe tbody tr th {\n",
       "        vertical-align: top;\n",
       "    }\n",
       "\n",
       "    .dataframe thead th {\n",
       "        text-align: right;\n",
       "    }\n",
       "</style>\n",
       "<table border=\"1\" class=\"dataframe\">\n",
       "  <thead>\n",
       "    <tr style=\"text-align: right;\">\n",
       "      <th></th>\n",
       "      <th>model</th>\n",
       "      <th>split</th>\n",
       "      <th>ckpt</th>\n",
       "      <th>res_ov</th>\n",
       "      <th>res_ov_id</th>\n",
       "      <th>res_detail</th>\n",
       "    </tr>\n",
       "  </thead>\n",
       "  <tbody>\n",
       "    <tr>\n",
       "      <th>0</th>\n",
       "      <td>t5-large</td>\n",
       "      <td>seed42_tr29</td>\n",
       "      <td>checkpoint-7880</td>\n",
       "      <td>{'doc_macro_f1': 0.2408546419743437, 'doc_macr...</td>\n",
       "      <td>{'doc_macro_f1': 0.20479682055888346, 'doc_mac...</td>\n",
       "      <td>q_id   macro_p   macro_r  macro_f1  macro_...</td>\n",
       "    </tr>\n",
       "    <tr>\n",
       "      <th>1</th>\n",
       "      <td>t5-large</td>\n",
       "      <td>seed42_tr29</td>\n",
       "      <td>checkpoint-15760</td>\n",
       "      <td>{'doc_macro_f1': 0.20316566565436478, 'doc_mac...</td>\n",
       "      <td>{'doc_macro_f1': 0.16219118109515265, 'doc_mac...</td>\n",
       "      <td>q_id   macro_p   macro_r  macro_f1  macro_...</td>\n",
       "    </tr>\n",
       "    <tr>\n",
       "      <th>2</th>\n",
       "      <td>t5-large</td>\n",
       "      <td>seed42_tr29</td>\n",
       "      <td>checkpoint-23640</td>\n",
       "      <td>{'doc_macro_f1': 0.2091646670883769, 'doc_macr...</td>\n",
       "      <td>{'doc_macro_f1': 0.15459244813354076, 'doc_mac...</td>\n",
       "      <td>q_id   macro_p   macro_r  macro_f1  macro_...</td>\n",
       "    </tr>\n",
       "    <tr>\n",
       "      <th>3</th>\n",
       "      <td>t5-large</td>\n",
       "      <td>seed42_tr29</td>\n",
       "      <td>checkpoint-31520</td>\n",
       "      <td>{'doc_macro_f1': 0.2548236019894985, 'doc_macr...</td>\n",
       "      <td>{'doc_macro_f1': 0.2112717580324172, 'doc_macr...</td>\n",
       "      <td>q_id   macro_p   macro_r  macro_f1  macro_...</td>\n",
       "    </tr>\n",
       "    <tr>\n",
       "      <th>4</th>\n",
       "      <td>t5-large</td>\n",
       "      <td>seed42_tr29</td>\n",
       "      <td>checkpoint-39400</td>\n",
       "      <td>{'doc_macro_f1': 0.27653595424702, 'doc_macro_...</td>\n",
       "      <td>{'doc_macro_f1': 0.23765104940683315, 'doc_mac...</td>\n",
       "      <td>q_id   macro_p   macro_r  macro_f1  macro_...</td>\n",
       "    </tr>\n",
       "  </tbody>\n",
       "</table>\n",
       "</div>"
      ],
      "text/plain": [
       "      model        split              ckpt   \n",
       "0  t5-large  seed42_tr29   checkpoint-7880  \\\n",
       "1  t5-large  seed42_tr29  checkpoint-15760   \n",
       "2  t5-large  seed42_tr29  checkpoint-23640   \n",
       "3  t5-large  seed42_tr29  checkpoint-31520   \n",
       "4  t5-large  seed42_tr29  checkpoint-39400   \n",
       "\n",
       "                                              res_ov   \n",
       "0  {'doc_macro_f1': 0.2408546419743437, 'doc_macr...  \\\n",
       "1  {'doc_macro_f1': 0.20316566565436478, 'doc_mac...   \n",
       "2  {'doc_macro_f1': 0.2091646670883769, 'doc_macr...   \n",
       "3  {'doc_macro_f1': 0.2548236019894985, 'doc_macr...   \n",
       "4  {'doc_macro_f1': 0.27653595424702, 'doc_macro_...   \n",
       "\n",
       "                                           res_ov_id   \n",
       "0  {'doc_macro_f1': 0.20479682055888346, 'doc_mac...  \\\n",
       "1  {'doc_macro_f1': 0.16219118109515265, 'doc_mac...   \n",
       "2  {'doc_macro_f1': 0.15459244813354076, 'doc_mac...   \n",
       "3  {'doc_macro_f1': 0.2112717580324172, 'doc_macr...   \n",
       "4  {'doc_macro_f1': 0.23765104940683315, 'doc_mac...   \n",
       "\n",
       "                                          res_detail  \n",
       "0      q_id   macro_p   macro_r  macro_f1  macro_...  \n",
       "1      q_id   macro_p   macro_r  macro_f1  macro_...  \n",
       "2      q_id   macro_p   macro_r  macro_f1  macro_...  \n",
       "3      q_id   macro_p   macro_r  macro_f1  macro_...  \n",
       "4      q_id   macro_p   macro_r  macro_f1  macro_...  "
      ]
     },
     "execution_count": 15,
     "metadata": {},
     "output_type": "execute_result"
    }
   ],
   "source": [
    "all_ckpts_ood = load_metrics_df_ood('runs/ood')\n",
    "print(len(all_ckpts_ood))\n",
    "all_ckpts_ood.head()"
   ]
  },
  {
   "cell_type": "code",
   "execution_count": 16,
   "metadata": {
    "metadata": {}
   },
   "outputs": [
    {
     "data": {
      "text/plain": [
       "[<matplotlib.lines.Line2D at 0x7feb7c62e100>]"
      ]
     },
     "execution_count": 16,
     "metadata": {},
     "output_type": "execute_result"
    },
    {
     "data": {
      "image/png": "[encoded data removed]",
      "text/plain": [
       "<Figure size 640x480 with 1 Axes>"
      ]
     },
     "metadata": {},
     "output_type": "display_data"
    }
   ],
   "source": [
    "# Plot the performance\n",
    "import matplotlib.pyplot as plt\n",
    "\n",
    "split = 'seed42_tr29'\n",
    "part = all_ckpts[(all_ckpts['model'] == 'flan-t5-xl')\n",
    "                    & (all_ckpts['split'] == split)]\n",
    "step_pfm = []\n",
    "for _, row in part.iterrows():\n",
    "    ckpt = int(row['ckpt'].split('-')[-1])\n",
    "    rep_m = row['res_ov']['macro_iou']\n",
    "    step_pfm.append((ckpt, rep_m))\n",
    "step_pfm.sort(key = lambda k: k[0])\n",
    "\n",
    "plt.plot([k[1] for k in step_pfm])"
   ]
  },
  {
   "cell_type": "markdown",
   "metadata": {},
   "source": [
    "### Only keep the best checkpoint"
   ]
  },
  {
   "cell_type": "code",
   "execution_count": 17,
   "metadata": {
    "metadata": {}
   },
   "outputs": [],
   "source": [
    "best_ckpts_alllab = filter_best_ckpt(all_ckpts)\n",
    "best_ckpts_ood = filter_best_ckpt(all_ckpts_ood)"
   ]
  },
  {
   "cell_type": "code",
   "execution_count": 18,
   "metadata": {
    "metadata": {}
   },
   "outputs": [],
   "source": [
    "# Save best macro_f1 score\n",
    "best_macro_f1 = [(k['model'], k['split'], k['res_ov']['macro_f1']) for k in best_ckpts_alllab]\n",
    "best_macro_f1_ood = [(k['model'], k['split'], k['res_ov']['macro_f1']) for k in best_ckpts_ood]"
   ]
  },
  {
   "cell_type": "code",
   "execution_count": 19,
   "metadata": {
    "metadata": {}
   },
   "outputs": [],
   "source": [
    "save_json(best_macro_f1, 'scripts/plot/save_data/alllab_res_macrof1_splits.json')\n",
    "save_json(best_macro_f1_ood, 'scripts/plot/save_data/ood_res_macrof1_splits.json')"
   ]
  },
  {
   "cell_type": "code",
   "execution_count": 20,
   "metadata": {
    "metadata": {}
   },
   "outputs": [],
   "source": [
    "pd.DataFrame(best_ckpts_alllab).to_pickle('scripts/plot/save_data/best_alllab.pkl')\n",
    "pd.DataFrame(best_ckpts_ood).to_pickle('scripts/plot/save_data/best_ood.pkl')"
   ]
  },
  {
   "cell_type": "markdown",
   "metadata": {},
   "source": [
    "## Load Prompting Results"
   ]
  },
  {
   "cell_type": "code",
   "execution_count": 111,
   "metadata": {
    "metadata": {}
   },
   "outputs": [],
   "source": [
    "def load_metrics_df_prompt(run_dir):\n",
    "    \"Load results of prompting\"\n",
    "    # Path like: \"flan-t5-xl/seed42_tr29/pmt_01\"\n",
    "    run_dir = Path(run_dir)\n",
    "    lines = []\n",
    "    for model_p in run_dir.glob('*'):\n",
    "        for split_p in model_p.glob('*'):\n",
    "            res_ov = load_json(split_p / 'pmt_01/ov_metrics_ood_sampled.csv')\n",
    "            res_detail = pd.read_csv(split_p / 'pmt_01/detail_metrics_ood_sampled.csv')\n",
    "            if model_p.name == 'llama3':\n",
    "                model_name = 'llama3_chat'\n",
    "            else:\n",
    "                model_name = model_p.name\n",
    "            lines.append((model_name, split_p.name, res_ov, res_detail))\n",
    "    return pd.DataFrame(lines, columns = ['model', 'split', 'res_ov', 'res_detail'])"
   ]
  },
  {
   "cell_type": "code",
   "execution_count": 112,
   "metadata": {
    "metadata": {}
   },
   "outputs": [
    {
     "name": "stdout",
     "output_type": "stream",
     "text": [
      "6\n"
     ]
    },
    {
     "data": {
      "text/html": [
       "<div>\n",
       "<style scoped>\n",
       "    .dataframe tbody tr th:only-of-type {\n",
       "        vertical-align: middle;\n",
       "    }\n",
       "\n",
       "    .dataframe tbody tr th {\n",
       "        vertical-align: top;\n",
       "    }\n",
       "\n",
       "    .dataframe thead th {\n",
       "        text-align: right;\n",
       "    }\n",
       "</style>\n",
       "<table border=\"1\" class=\"dataframe\">\n",
       "  <thead>\n",
       "    <tr style=\"text-align: right;\">\n",
       "      <th></th>\n",
       "      <th>model</th>\n",
       "      <th>split</th>\n",
       "      <th>res_ov</th>\n",
       "      <th>res_detail</th>\n",
       "    </tr>\n",
       "  </thead>\n",
       "  <tbody>\n",
       "    <tr>\n",
       "      <th>0</th>\n",
       "      <td>flan-t5-xl</td>\n",
       "      <td>seed42_tr29</td>\n",
       "      <td>{'doc_macro_f1': 0.6374265432696498, 'doc_macr...</td>\n",
       "      <td>q_id   macro_p   macro_r  macro_f1  macro_...</td>\n",
       "    </tr>\n",
       "    <tr>\n",
       "      <th>1</th>\n",
       "      <td>flan-t5-xl</td>\n",
       "      <td>seed128_tr29</td>\n",
       "      <td>{'doc_macro_f1': 0.7038352405582549, 'doc_macr...</td>\n",
       "      <td>q_id   macro_p   macro_r  macro_f1  macro_...</td>\n",
       "    </tr>\n",
       "    <tr>\n",
       "      <th>2</th>\n",
       "      <td>flan-t5-xl</td>\n",
       "      <td>seed89_tr29</td>\n",
       "      <td>{'doc_macro_f1': 0.7766769559191368, 'doc_macr...</td>\n",
       "      <td>q_id   macro_p   macro_r  macro_f1  macro_...</td>\n",
       "    </tr>\n",
       "    <tr>\n",
       "      <th>3</th>\n",
       "      <td>llama3_chat</td>\n",
       "      <td>seed42_tr29</td>\n",
       "      <td>{'doc_macro_f1': 0.5263318598431462, 'doc_macr...</td>\n",
       "      <td>q_id   macro_p   macro_r  macro_f1  macro_...</td>\n",
       "    </tr>\n",
       "    <tr>\n",
       "      <th>4</th>\n",
       "      <td>llama3_chat</td>\n",
       "      <td>seed128_tr29</td>\n",
       "      <td>{'doc_macro_f1': 0.6428399183603721, 'doc_macr...</td>\n",
       "      <td>q_id   macro_p   macro_r  macro_f1  macro_...</td>\n",
       "    </tr>\n",
       "  </tbody>\n",
       "</table>\n",
       "</div>"
      ],
      "text/plain": [
       "         model         split   \n",
       "0   flan-t5-xl   seed42_tr29  \\\n",
       "1   flan-t5-xl  seed128_tr29   \n",
       "2   flan-t5-xl   seed89_tr29   \n",
       "3  llama3_chat   seed42_tr29   \n",
       "4  llama3_chat  seed128_tr29   \n",
       "\n",
       "                                              res_ov   \n",
       "0  {'doc_macro_f1': 0.6374265432696498, 'doc_macr...  \\\n",
       "1  {'doc_macro_f1': 0.7038352405582549, 'doc_macr...   \n",
       "2  {'doc_macro_f1': 0.7766769559191368, 'doc_macr...   \n",
       "3  {'doc_macro_f1': 0.5263318598431462, 'doc_macr...   \n",
       "4  {'doc_macro_f1': 0.6428399183603721, 'doc_macr...   \n",
       "\n",
       "                                          res_detail  \n",
       "0      q_id   macro_p   macro_r  macro_f1  macro_...  \n",
       "1      q_id   macro_p   macro_r  macro_f1  macro_...  \n",
       "2      q_id   macro_p   macro_r  macro_f1  macro_...  \n",
       "3      q_id   macro_p   macro_r  macro_f1  macro_...  \n",
       "4      q_id   macro_p   macro_r  macro_f1  macro_...  "
      ]
     },
     "execution_count": 112,
     "metadata": {},
     "output_type": "execute_result"
    }
   ],
   "source": [
    "best_zs = load_metrics_df_prompt('runs/baseline')\n",
    "print(len(best_zs))\n",
    "best_zs.head()"
   ]
  },
  {
   "cell_type": "code",
   "execution_count": 113,
   "metadata": {
    "metadata": {}
   },
   "outputs": [],
   "source": [
    "best_zs.to_pickle('scripts/plot/save_data/zs_baseline.pkl')"
   ]
  },
  {
   "cell_type": "code",
   "execution_count": null,
   "metadata": {},
   "outputs": [],
   "source": []
  }
 ],
 "metadata": {
  "kernelspec": {
   "display_name": "llm",
   "language": "python",
   "name": "python3"
  },
  "language_info": {
   "codemirror_mode": {
    "name": "ipython",
    "version": 3
   },
   "file_extension": ".py",
   "mimetype": "text/x-python",
   "name": "python",
   "nbconvert_exporter": "python",
   "pygments_lexer": "ipython3",
   "version": "3.9.16"
  }
 },
 "nbformat": 4,
 "nbformat_minor": 2
}
