{
 "cells": [
  {
   "cell_type": "code",
   "execution_count": 1,
   "metadata": {},
   "outputs": [],
   "source": [
    "import os\n",
    "import sys\n",
    "import numpy as np\n",
    "import pandas as pd\n",
    "import matplotlib.pyplot as plt\n",
    "from pathlib import Path\n",
    "import difflib\n",
    "import json\n",
    "from tqdm import tqdm\n",
    "\n",
    "from transformers import AutoModel, AutoTokenizer\n",
    "\n",
    "import context\n",
    "from cont_gen.utils import load_json, load_jsonl, save_jsonl"
   ]
  },
  {
   "cell_type": "code",
   "execution_count": 2,
   "metadata": {},
   "outputs": [
    {
     "name": "stdout",
     "output_type": "stream",
     "text": [
      "510\n"
     ]
    }
   ],
   "source": [
    "# Check new para_merge data\n",
    "merge_data = load_jsonl('../../data/cuad_clean/CUADv1_paras_merge_new.jsonl')\n",
    "print(len(merge_data))\n",
    "# Check the offset\n",
    "for cont in merge_data:\n",
    "    for para in cont['paras']:\n",
    "        p_text = para['text']\n",
    "        for qa in para['qas']:\n",
    "            for ans in qa['answers']:\n",
    "                a_t = ans['text']\n",
    "                p_span = p_text[ans['start_pos']: ans['end_pos'] + 1]\n",
    "                assert a_t == p_span"
   ]
  },
  {
   "cell_type": "markdown",
   "metadata": {},
   "source": [
    "## Paragraph token number"
   ]
  },
  {
   "cell_type": "code",
   "execution_count": 5,
   "metadata": {},
   "outputs": [
    {
     "name": "stderr",
     "output_type": "stream",
     "text": [
      "Special tokens have been added in the vocabulary, make sure the associated word embeddings are fine-tuned or trained.\n"
     ]
    }
   ],
   "source": [
    "tk_t5 = AutoTokenizer.from_pretrained('google/flan-t5-base')\n",
    "tk_llama2 = AutoTokenizer.from_pretrained('meta-llama/Llama-2-7b-hf', cache_dir = '/next_share/hf_cache/hub')\n",
    "tk_llama3 = AutoTokenizer.from_pretrained('meta-llama/Meta-Llama-3-8B', cache_dir = '/next_share/hf_cache/hub')\n",
    "tk_mistral = AutoTokenizer.from_pretrained('mistralai/Mixtral-8x7B-v0.1', cache_dir = '/next_share/hf_cache/hub')"
   ]
  },
  {
   "cell_type": "code",
   "execution_count": 6,
   "metadata": {},
   "outputs": [
    {
     "name": "stdout",
     "output_type": "stream",
     "text": [
      "3\n"
     ]
    }
   ],
   "source": [
    "def get_enc_len(text, tokenizer):\n",
    "    return len(tokenizer.tokenize(text))\n",
    "print(get_enc_len('Hello world!', tk_t5))"
   ]
  },
  {
   "cell_type": "code",
   "execution_count": 7,
   "metadata": {},
   "outputs": [
    {
     "name": "stderr",
     "output_type": "stream",
     "text": [
      "  0%|          | 0/31301 [00:00<?, ?it/s]Token indices sequence length is longer than the specified maximum sequence length for this model (520 > 512). Running this sequence through the model will result in indexing errors\n",
      "100%|██████████| 31301/31301 [00:09<00:00, 3241.32it/s]\n"
     ]
    }
   ],
   "source": [
    "all_para_text = [para['text'] for cont in merge_data for para in cont['paras']]\n",
    "all_para_len_t5 = [get_enc_len(t, tk_t5) for t in tqdm(all_para_text)]"
   ]
  },
  {
   "cell_type": "code",
   "execution_count": 8,
   "metadata": {},
   "outputs": [
    {
     "name": "stderr",
     "output_type": "stream",
     "text": [
      "100%|██████████| 31301/31301 [00:11<00:00, 2671.67it/s]\n"
     ]
    }
   ],
   "source": [
    "all_para_len_llama2 = [get_enc_len(t, tk_llama2) for t in tqdm(all_para_text)]"
   ]
  },
  {
   "cell_type": "code",
   "execution_count": 9,
   "metadata": {},
   "outputs": [
    {
     "name": "stderr",
     "output_type": "stream",
     "text": [
      "100%|██████████| 31301/31301 [00:09<00:00, 3345.19it/s]\n"
     ]
    }
   ],
   "source": [
    "all_para_len_llama3 = [get_enc_len(t, tk_llama3) for t in tqdm(all_para_text)]"
   ]
  },
  {
   "cell_type": "code",
   "execution_count": 10,
   "metadata": {},
   "outputs": [
    {
     "name": "stderr",
     "output_type": "stream",
     "text": [
      "100%|██████████| 31301/31301 [00:11<00:00, 2680.40it/s]\n"
     ]
    }
   ],
   "source": [
    "all_para_len_mistral = [get_enc_len(t, tk_mistral) for t in tqdm(all_para_text)]"
   ]
  },
  {
   "cell_type": "code",
   "execution_count": 30,
   "metadata": {},
   "outputs": [],
   "source": [
    "def show_length_stat(x, figsize = (6,1.5)):\n",
    "    \"\"\"\n",
    "    Print statistics of a list of int.\n",
    "    \"\"\"\n",
    "    qunt_95 = np.quantile(x, 0.95)\n",
    "    print(f'mean: {np.mean(x)}, max: {np.max(x)}, 95%: {qunt_95}')\n",
    "    plt.figure(figsize = figsize)\n",
    "    _ = plt.boxplot(x, vert = False)"
   ]
  },
  {
   "cell_type": "code",
   "execution_count": 31,
   "metadata": {},
   "outputs": [
    {
     "name": "stdout",
     "output_type": "stream",
     "text": [
      "mean: 188.23063160921376, max: 2072, 95%: 627.0\n"
     ]
    },
    {
     "data": {
      "image/png": "[encoded data removed]",
      "text/plain": [
       "<Figure size 600x150 with 1 Axes>"
      ]
     },
     "metadata": {},
     "output_type": "display_data"
    }
   ],
   "source": [
    "show_length_stat(all_para_len_t5)"
   ]
  },
  {
   "cell_type": "code",
   "execution_count": 32,
   "metadata": {},
   "outputs": [
    {
     "name": "stdout",
     "output_type": "stream",
     "text": [
      "mean: 209.1827737132999, max: 3112, 95%: 695.0\n"
     ]
    },
    {
     "data": {
      "image/png": "[encoded data removed]",
      "text/plain": [
       "<Figure size 600x150 with 1 Axes>"
      ]
     },
     "metadata": {},
     "output_type": "display_data"
    }
   ],
   "source": [
    "show_length_stat(all_para_len_llama2)"
   ]
  },
  {
   "cell_type": "code",
   "execution_count": 33,
   "metadata": {},
   "outputs": [
    {
     "name": "stdout",
     "output_type": "stream",
     "text": [
      "mean: 172.06479026229195, max: 1977, 95%: 577.0\n"
     ]
    },
    {
     "data": {
      "image/png": "[encoded data removed]",
      "text/plain": [
       "<Figure size 600x150 with 1 Axes>"
      ]
     },
     "metadata": {},
     "output_type": "display_data"
    }
   ],
   "source": [
    "show_length_stat(all_para_len_llama3)"
   ]
  },
  {
   "cell_type": "code",
   "execution_count": 34,
   "metadata": {},
   "outputs": [
    {
     "name": "stdout",
     "output_type": "stream",
     "text": [
      "mean: 197.56461454905593, max: 3099, 95%: 656.0\n"
     ]
    },
    {
     "data": {
      "image/png": "[encoded data removed]",
      "text/plain": [
       "<Figure size 600x150 with 1 Axes>"
      ]
     },
     "metadata": {},
     "output_type": "display_data"
    }
   ],
   "source": [
    "show_length_stat(all_para_len_mistral)"
   ]
  },
  {
   "cell_type": "code",
   "execution_count": 23,
   "metadata": {},
   "outputs": [
    {
     "name": "stdout",
     "output_type": "stream",
     "text": [
      "t5: 'I love panda.. Hello 111111 <unk>'\n",
      "llama2: 'I love panda. \\n\\n\\n. Hello 111111 测试'\n",
      "mistral: 'I love panda. \\n\\n\\n. Hello 111111 测试'\n",
      "llama3: 'I love panda. \\n\\n\\n. Hello 111111 测试'\n"
     ]
    }
   ],
   "source": [
    "# To check whether decode can recover the exact original text.\n",
    "# For BPE tokenizers, the original text can be recovered.\n",
    "exa_text = 'I love panda. \\n\\n\\n. Hello 111111 测试'\n",
    "def back_trans(tokenizer, text):\n",
    "    return tokenizer.decode(tokenizer.encode(text, add_special_tokens=False))\n",
    "print(f't5: {repr(back_trans(tk_t5, exa_text))}')\n",
    "print(f'llama2: {repr(back_trans(tk_llama2, exa_text))}')\n",
    "print(f'mistral: {repr(back_trans(tk_mistral, exa_text))}')\n",
    "print(f'llama3: {repr(back_trans(tk_llama3, exa_text))}')"
   ]
  },
  {
   "cell_type": "code",
   "execution_count": 24,
   "metadata": {},
   "outputs": [
    {
     "name": "stdout",
     "output_type": "stream",
     "text": [
      "111 �\n",
      "65533\n"
     ]
    }
   ],
   "source": [
    "# The influence of truncation of BPE models.\n",
    "# If the bytes of one token is truncated, the token becomes a special character\n",
    "dec_str = tk_llama3.decode(tk_llama3.encode(exa_text, add_special_tokens=False)[:-1])\n",
    "print(dec_str[-5:])\n",
    "print(ord(dec_str[-1]))"
   ]
  },
  {
   "cell_type": "markdown",
   "metadata": {},
   "source": [
    "### Prompt data\n",
    "\n",
    "The paragraph is first truncated by LLama3 tokenizer."
   ]
  },
  {
   "cell_type": "code",
   "execution_count": 3,
   "metadata": {},
   "outputs": [],
   "source": [
    "os.chdir('/storage_fast/rhshui/workspace/contract_review')"
   ]
  },
  {
   "cell_type": "code",
   "execution_count": 5,
   "metadata": {},
   "outputs": [],
   "source": [
    "test_data_id = load_jsonl('./data/ood_split/seed42_tr29/pmt_01_yes_no/test_data_id.jsonl')\n",
    "test_data_ood = load_jsonl('./data/ood_split/seed42_tr29/pmt_01_yes_no/test_data_ood.jsonl')\n",
    "\n",
    "test_id_df = pd.DataFrame(test_data_id)\n",
    "test_ood_df = pd.DataFrame(test_data_ood)"
   ]
  },
  {
   "cell_type": "code",
   "execution_count": 7,
   "metadata": {},
   "outputs": [],
   "source": [
    "# rename small to type\n",
    "for d in test_data_id:\n",
    "    d['type'] = d.pop('small')\n",
    "for d in test_data_ood:\n",
    "    d['type'] = d.pop('small')"
   ]
  },
  {
   "cell_type": "code",
   "execution_count": 8,
   "metadata": {},
   "outputs": [
    {
     "data": {
      "text/plain": [
       "dict_keys(['title', 'para_idx', 'q_id', 'source', 'target', 'type'])"
      ]
     },
     "execution_count": 8,
     "metadata": {},
     "output_type": "execute_result"
    }
   ],
   "source": [
    "test_data_id[0].keys()"
   ]
  },
  {
   "cell_type": "code",
   "execution_count": null,
   "metadata": {},
   "outputs": [],
   "source": [
    "save_jsonl(test_data_id, './data/ood_split/seed42_tr29/pmt_01_yes_no/test_data_id.jsonl')\n",
    "save_jsonl(test_data_ood, './data/ood_split/seed42_tr29/pmt_01_yes_no/test_data_ood.jsonl')"
   ]
  },
  {
   "cell_type": "code",
   "execution_count": 27,
   "metadata": {},
   "outputs": [
    {
     "name": "stdout",
     "output_type": "stream",
     "text": [
      "type\n",
      "0    111186\n",
      "2     24062\n",
      "3     13630\n",
      "1      1226\n",
      "Name: count, dtype: int64\n",
      "type\n",
      "0    51024\n",
      "3     5640\n",
      "2     4882\n",
      "1      566\n",
      "Name: count, dtype: int64\n"
     ]
    }
   ],
   "source": [
    "print(test_id_df['type'].value_counts())\n",
    "print(test_ood_df['type'].value_counts())"
   ]
  },
  {
   "cell_type": "code",
   "execution_count": 28,
   "metadata": {},
   "outputs": [
    {
     "name": "stderr",
     "output_type": "stream",
     "text": [
      "100%|██████████| 62112/62112 [00:29<00:00, 2077.44it/s]\n"
     ]
    }
   ],
   "source": [
    "src_len_t5 = [get_enc_len(t['source'], tk_t5) for t in tqdm(test_data_ood)]"
   ]
  },
  {
   "cell_type": "code",
   "execution_count": 35,
   "metadata": {},
   "outputs": [
    {
     "name": "stdout",
     "output_type": "stream",
     "text": [
      "mean: 266.1870814013395, max: 1182, 95%: 620.0\n"
     ]
    },
    {
     "data": {
      "image/png": "[encoded data removed]",
      "text/plain": [
       "<Figure size 600x150 with 1 Axes>"
      ]
     },
     "metadata": {},
     "output_type": "display_data"
    }
   ],
   "source": [
    "show_length_stat(src_len_t5)"
   ]
  },
  {
   "cell_type": "code",
   "execution_count": 36,
   "metadata": {},
   "outputs": [
    {
     "name": "stderr",
     "output_type": "stream",
     "text": [
      "100%|██████████| 62112/62112 [00:29<00:00, 2127.26it/s]\n"
     ]
    },
    {
     "name": "stdout",
     "output_type": "stream",
     "text": [
      "mean: 233.63800875837197, max: 604, 95%: 564.0\n"
     ]
    },
    {
     "data": {
      "image/png": "[encoded data removed]",
      "text/plain": [
       "<Figure size 600x150 with 1 Axes>"
      ]
     },
     "metadata": {},
     "output_type": "display_data"
    }
   ],
   "source": [
    "src_len_llama3 = [get_enc_len(t['source'], tk_llama3) for t in tqdm(test_data_ood)]\n",
    "show_length_stat(src_len_llama3)"
   ]
  },
  {
   "cell_type": "code",
   "execution_count": 37,
   "metadata": {},
   "outputs": [],
   "source": [
    "part = [d for d, lg in zip(test_data_ood, src_len_t5) if lg > 1000]"
   ]
  },
  {
   "cell_type": "code",
   "execution_count": 39,
   "metadata": {},
   "outputs": [],
   "source": [
    "part_df = pd.DataFrame(part)"
   ]
  },
  {
   "cell_type": "code",
   "execution_count": 41,
   "metadata": {},
   "outputs": [
    {
     "data": {
      "text/plain": [
       "title                                                                            para_idx\n",
       "PaperexchangeComInc_20000322_S-1A_EX-10.4_5202103_EX-10.4_Co-Branding Agreement  140         12\n",
       "Name: count, dtype: int64"
      ]
     },
     "execution_count": 41,
     "metadata": {},
     "output_type": "execute_result"
    }
   ],
   "source": [
    "part_df[['title', 'para_idx']].value_counts()"
   ]
  },
  {
   "cell_type": "code",
   "execution_count": 43,
   "metadata": {},
   "outputs": [],
   "source": [
    "text = part_df['source'].iloc[0]"
   ]
  },
  {
   "cell_type": "code",
   "execution_count": 44,
   "metadata": {},
   "outputs": [
    {
     "name": "stdout",
     "output_type": "stream",
     "text": [
      "You are a helpful assistant. Review the contract clauses and answer questions. Output the mentioned clauses if exist; otherwise output \"No\".\n",
      "\n",
      "###Clauses:\n",
      "Source: PAPEREXCHANGE COM INC, S-1/A, 3/22/2000\n",
      " such as model number or size to the name. - -------------------------------------------------------------------------------- Category* This field requires a number not word. See the enclosed list. If you do not find a category that fits your product, please contact us. We can add categories. - -------------------------------------------------------------------------------- Mfg/Brand Manufacturer or brand name - -------------------------------------------------------------------------------- Model # Model number - -------------------------------------------------------------------------------- Original Item If known, this can be an incentive to buyers who then see price your lower price. - -------------------------------------------------------------------------------- Height Include feet or inches. - -------------------------------------------------------------------------------- Weight Include pounds or ounces. - -------------------------------------------------------------------------------- Quantity* This field requires only a number not each, case, etc. - -------------------------------------------------------------------------------- Starting Bid* This is the amount at which the bidding will start. It should be lower than your reserve price, if you set one. Please use whole dollars. - -------------------------------------------------------------------------------- Reserve Price This is the amount you wish to receive for your product. If you set a reserve price, your item cannot be sold for less than the reserve. Please use whole dollars. - -------------------------------------------------------------------------------- Bid Increments* $5 is the default, but feel free to change this to reflect your product's price using whole dollars. - -------------------------------------------------------------------------------- Start date/time* This field must be filled out like the following example: 04/08/99 15:00 (MM/DD/YY 24:mm) A start time must be included. - -------------------------------------------------------------------------------- Duration* The default for this field is 7 days. The options are 1, 3, 5, 7, 21, and 30. - -------------------------------------------------------------------------------- Item # Catalog number if the product came from a manufacturer's or distributor's catalog - -------------------------------------------------------------------------------- Approx. Age New, used, demo, reconditioned - -------------------------------------------------------------------------------- SKU Each, box, case - -------------------------------------------------------------------------------- Description This field is only 1250 characters long. Use basic writing format here. Complete sentences are desired rather than a list of features. If you copy and paste from an outside source, please check to see that there are no tabs or returns in the paragraph. - -------------------------------------------------------------------------------- Seller ID#* This is your six-digit ID number you received when you registered. - -------------------------------------------------------------------------------- Image location A picture of your item is very helpful in selling your item and will greatly enhance its listing appearance. The picture needs to be in JPEG or GIF format. You can send these on a separate disk or email if desired. Please enclose a list delineating which picture goes with which item. - -------------------------------------------------------------------------------- Location Where the equipment is currently located/resides. - --------------------------------------------------------------------------------\n",
      "\n",
      "###Question: The name of the contract\n",
      "\n",
      "###Answer:\n"
     ]
    }
   ],
   "source": [
    "print(text)"
   ]
  },
  {
   "cell_type": "code",
   "execution_count": 48,
   "metadata": {},
   "outputs": [
    {
     "name": "stdout",
     "output_type": "stream",
     "text": [
      "['▁You', '▁are', '▁', 'a', '▁helpful', '▁assistant', '.', '▁Review', '▁the', '▁contract', '▁clause', 's', '▁and', '▁answer', '▁questions', '.', '▁Out', 'put', '▁the', '▁mentioned', '▁clause', 's', '▁', 'if', '▁exist', ';', '▁otherwise', '▁output', '▁\"', 'No', '\".', '▁#', '##', 'C', 'la', 'use', 's', ':', '▁Source', ':', '▁PA', 'PER', 'E', 'X', 'CHAN', 'GE', '▁', 'COM', '▁INC', ',', '▁S', '-', '1/', 'A', ',', '▁', '3/', '22', '/', '2000', '▁such', '▁as', '▁model', '▁number', '▁or', '▁size', '▁to', '▁the', '▁name', '.', '▁', '-', '▁--', '---', '---', '---', '---', '---', '---', '---', '---', '---', '---', '---', '---', '---', '---', '---', '---', '---', '---', '---', '---', '---', '---', '---', '---', '---', '---', '▁Category', '*', '▁This', '▁field', '▁requires', '▁', 'a', '▁number', '▁not', '▁word', '.', '▁See', '▁the', '▁enclosed', '▁list', '.', '▁If', '▁you', '▁do', '▁not', '▁find', '▁', 'a', '▁category', '▁that', '▁fits', '▁your', '▁product', ',', '▁please', '▁contact', '▁us', '.', '▁We', '▁can', '▁add', '▁categories', '.', '▁', '-', '▁--', '---', '---', '---', '---', '---', '---', '---', '---', '---', '---', '---', '---', '---', '---', '---', '---', '---', '---', '---', '---', '---', '---', '---', '---', '---', '---', '▁M', 'f', 'g', '/', 'Bra', 'nd', '▁Manufacturer', '▁or', '▁brand', '▁name', '▁', '-', '▁--', '---', '---', '---', '---', '---', '---', '---', '---', '---', '---', '---', '---', '---', '---', '---', '---', '---', '---', '---', '---', '---', '---', '---', '---', '---', '---', '▁Model', '▁#', '▁Model', '▁number', '▁', '-', '▁--', '---', '---', '---', '---', '---', '---', '---', '---', '---', '---', '---', '---', '---', '---', '---', '---', '---', '---', '---', '---', '---', '---', '---', '---', '---', '---', '▁Original', '▁I', 'tem', '▁If', '▁known', ',', '▁this', '▁can', '▁be', '▁an', '▁incentive', '▁to', '▁buyers', '▁who', '▁then', '▁see', '▁price', '▁your', '▁lower', '▁price', '.', '▁', '-', '▁--', '---', '---', '---', '---', '---', '---', '---', '---', '---', '---', '---', '---', '---', '---', '---', '---', '---', '---', '---', '---', '---', '---', '---', '---', '---', '---', '▁Height', '▁Include', '▁feet', '▁or', '▁inches', '.', '▁', '-', '▁--', '---', '---', '---', '---', '---', '---', '---', '---', '---', '---', '---', '---', '---', '---', '---', '---', '---', '---', '---', '---', '---', '---', '---', '---', '---', '---', '▁Weight', '▁Include', '▁pounds', '▁or', '▁', 'ounce', 's', '.', '▁', '-', '▁--', '---', '---', '---', '---', '---', '---', '---', '---', '---', '---', '---', '---', '---', '---', '---', '---', '---', '---', '---', '---', '---', '---', '---', '---', '---', '---', '▁Quant', 'ity', '*', '▁This', '▁field', '▁requires', '▁only', '▁', 'a', '▁number', '▁not', '▁each', ',', '▁case', ',', '▁etc', '.', '▁', '-', '▁--', '---', '---', '---', '---', '---', '---', '---', '---', '---', '---', '---', '---', '---', '---', '---', '---', '---', '---', '---', '---', '---', '---', '---', '---', '---', '---', '▁Starting', '▁Bi', 'd', '*', '▁This', '▁is', '▁the', '▁amount', '▁at', '▁which', '▁the', '▁bi', 'dding', '▁will', '▁start', '.', '▁It', '▁should', '▁be', '▁lower', '▁than', '▁your', '▁reserve', '▁price', ',', '▁', 'if', '▁you', '▁set', '▁one', '.', '▁Please', '▁use', '▁whole', '▁dollars', '.', '▁', '-', '▁--', '---', '---', '---', '---', '---', '---', '---', '---', '---', '---', '---', '---', '---', '---', '---', '---', '---', '---', '---', '---', '---', '---', '---', '---', '---', '---', '▁Reserve', '▁Price', '▁This', '▁is', '▁the', '▁amount', '▁you', '▁wish', '▁to', '▁receive', '▁for', '▁your', '▁product', '.', '▁If', '▁you', '▁set', '▁', 'a', '▁reserve', '▁price', ',', '▁your', '▁item', '▁cannot', '▁be', '▁sold', '▁for', '▁less', '▁than', '▁the', '▁reserve', '.', '▁Please', '▁use', '▁whole', '▁dollars', '.', '▁', '-', '▁--', '---', '---', '---', '---', '---', '---', '---', '---', '---', '---', '---', '---', '---', '---', '---', '---', '---', '---', '---', '---', '---', '---', '---', '---', '---', '---', '▁Bi', 'd', '▁Inc', 're', 'ments', '*', '▁$5', '▁is', '▁the', '▁default', ',', '▁but', '▁feel', '▁free', '▁to', '▁change', '▁this', '▁to', '▁reflect', '▁your', '▁product', \"'\", 's', '▁price', '▁using', '▁whole', '▁dollars', '.', '▁', '-', '▁--', '---', '---', '---', '---', '---', '---', '---', '---', '---', '---', '---', '---', '---', '---', '---', '---', '---', '---', '---', '---', '---', '---', '---', '---', '---', '---', '▁Start', '▁date', '/', 'time', '*', '▁This', '▁field', '▁must', '▁be', '▁filled', '▁out', '▁like', '▁the', '▁following', '▁example', ':', '▁04', '/', '08', '/', '99', '▁1', '5:00', '▁(', 'MM', '/', 'DD', '/', 'Y', 'Y', '▁24', ':', 'mm', ')', '▁A', '▁start', '▁time', '▁must', '▁be', '▁included', '.', '▁', '-', '▁--', '---', '---', '---', '---', '---', '---', '---', '---', '---', '---', '---', '---', '---', '---', '---', '---', '---', '---', '---', '---', '---', '---', '---', '---', '---', '---', '▁Duration', '*', '▁The', '▁default', '▁for', '▁this', '▁field', '▁is', '▁7', '▁days', '.', '▁The', '▁options', '▁are', '▁1,', '▁3,', '▁5,', '▁7,', '▁21,', '▁and', '▁30', '.', '▁', '-', '▁--', '---', '---', '---', '---', '---', '---', '---', '---', '---', '---', '---', '---', '---', '---', '---', '---', '---', '---', '---', '---', '---', '---', '---', '---', '---', '---', '▁I', 'tem', '▁#', '▁Catalog', '▁number', '▁', 'if', '▁the', '▁product', '▁came', '▁from', '▁', 'a', '▁manufacturer', \"'\", 's', '▁or', '▁distributor', \"'\", 's', '▁catalog', '▁', '-', '▁--', '---', '---', '---', '---', '---', '---', '---', '---', '---', '---', '---', '---', '---', '---', '---', '---', '---', '---', '---', '---', '---', '---', '---', '---', '---', '---', '▁App', 'rox', '.', '▁Age', '▁New', ',', '▁used', ',', '▁demo', ',', '▁', 're', 'conditioned', '▁', '-', '▁--', '---', '---', '---', '---', '---', '---', '---', '---', '---', '---', '---', '---', '---', '---', '---', '---', '---', '---', '---', '---', '---', '---', '---', '---', '---', '---', '▁S', 'KU', '▁Each', ',', '▁box', ',', '▁case', '▁', '-', '▁--', '---', '---', '---', '---', '---', '---', '---', '---', '---', '---', '---', '---', '---', '---', '---', '---', '---', '---', '---', '---', '---', '---', '---', '---', '---', '---', '▁Description', '▁This', '▁field', '▁is', '▁only', '▁12', '50', '▁characters', '▁long', '.', '▁Use', '▁basic', '▁writing', '▁format', '▁here', '.', '▁Complete', '▁sentences', '▁are', '▁desired', '▁rather', '▁than', '▁', 'a', '▁list', '▁of', '▁features', '.', '▁If', '▁you', '▁copy', '▁and', '▁paste', '▁from', '▁an', '▁outside', '▁source', ',', '▁please', '▁check', '▁to', '▁see', '▁that', '▁there', '▁are', '▁no', '▁tab', 's', '▁or', '▁returns', '▁in', '▁the', '▁paragraph', '.', '▁', '-', '▁--', '---', '---', '---', '---', '---', '---', '---', '---', '---', '---', '---', '---', '---', '---', '---', '---', '---', '---', '---', '---', '---', '---', '---', '---', '---', '---', '▁Seller', '▁ID', '#', '*', '▁This', '▁is', '▁your', '▁six', '-', 'digit', '▁ID', '▁number', '▁you', '▁received', '▁when', '▁you', '▁registered', '.', '▁', '-', '▁--', '---', '---', '---', '---', '---', '---', '---', '---', '---', '---', '---', '---', '---', '---', '---', '---', '---', '---', '---', '---', '---', '---', '---', '---', '---', '---', '▁Image', '▁location', '▁A', '▁picture', '▁of', '▁your', '▁item', '▁is', '▁very', '▁helpful', '▁in', '▁selling', '▁your', '▁item', '▁and', '▁will', '▁greatly', '▁enhance', '▁its', '▁listing', '▁appearance', '.', '▁The', '▁picture', '▁needs', '▁to', '▁be', '▁in', '▁J', 'P', 'EG', '▁or', '▁G', 'IF', '▁format', '.', '▁You', '▁can', '▁send', '▁these', '▁on', '▁', 'a', '▁separate', '▁disk', '▁or', '▁email', '▁', 'if', '▁desired', '.', '▁Please', '▁', 'en', 'close', '▁', 'a', '▁list', '▁de', 'line', 'ating', '▁which', '▁picture', '▁goes', '▁with', '▁which', '▁item', '.', '▁', '-', '▁--', '---', '---', '---', '---', '---', '---', '---', '---', '---', '---', '---', '---', '---', '---', '---', '---', '---', '---', '---', '---', '---', '---', '---', '---', '---', '---', '▁Location', '▁Where', '▁the', '▁equipment', '▁is', '▁currently', '▁located', '/', 'resides', '.', '▁', '-', '▁--', '---', '---', '---', '---', '---', '---', '---', '---', '---', '---', '---', '---', '---', '---', '---', '---', '---', '---', '---', '---', '---', '---', '---', '---', '---', '---', '▁#', '##', 'Qu', 'esti', 'on', ':', '▁The', '▁name', '▁of', '▁the', '▁contract', '▁#', '##', 'A', 'n', 's', 'wer', ':']\n"
     ]
    }
   ],
   "source": [
    "print(tk_t5.tokenize(text))"
   ]
  },
  {
   "cell_type": "code",
   "execution_count": 49,
   "metadata": {},
   "outputs": [
    {
     "name": "stdout",
     "output_type": "stream",
     "text": [
      "['You', 'Ġare', 'Ġa', 'Ġhelpful', 'Ġassistant', '.', 'ĠReview', 'Ġthe', 'Ġcontract', 'Ġclauses', 'Ġand', 'Ġanswer', 'Ġquestions', '.', 'ĠOutput', 'Ġthe', 'Ġmentioned', 'Ġclauses', 'Ġif', 'Ġexist', ';', 'Ġotherwise', 'Ġoutput', 'Ġ\"', 'No', '\".ĊĊ', '###', 'Cla', 'uses', ':Ċ', 'Source', ':', 'ĠP', 'APER', 'EX', 'CHANGE', 'ĠCOM', 'ĠINC', ',', 'ĠS', '-', '1', '/A', ',', 'Ġ', '3', '/', '22', '/', '200', '0', 'Ċ', 'Ġsuch', 'Ġas', 'Ġmodel', 'Ġnumber', 'Ġor', 'Ġsize', 'Ġto', 'Ġthe', 'Ġname', '.', 'Ġ-', 'Ġ--------------------------------------------------------------------------------', 'ĠCategory', '*', 'ĠThis', 'Ġfield', 'Ġrequires', 'Ġa', 'Ġnumber', 'Ġnot', 'Ġword', '.', 'ĠSee', 'Ġthe', 'Ġenclosed', 'Ġlist', '.', 'ĠIf', 'Ġyou', 'Ġdo', 'Ġnot', 'Ġfind', 'Ġa', 'Ġcategory', 'Ġthat', 'Ġfits', 'Ġyour', 'Ġproduct', ',', 'Ġplease', 'Ġcontact', 'Ġus', '.', 'ĠWe', 'Ġcan', 'Ġadd', 'Ġcategories', '.', 'Ġ-', 'Ġ--------------------------------------------------------------------------------', 'ĠM', 'fg', '/', 'Brand', 'ĠManufacturer', 'Ġor', 'Ġbrand', 'Ġname', 'Ġ-', 'Ġ--------------------------------------------------------------------------------', 'ĠModel', 'Ġ#', 'ĠModel', 'Ġnumber', 'Ġ-', 'Ġ--------------------------------------------------------------------------------', 'ĠOriginal', 'ĠItem', 'ĠIf', 'Ġknown', ',', 'Ġthis', 'Ġcan', 'Ġbe', 'Ġan', 'Ġincentive', 'Ġto', 'Ġbuyers', 'Ġwho', 'Ġthen', 'Ġsee', 'Ġprice', 'Ġyour', 'Ġlower', 'Ġprice', '.', 'Ġ-', 'Ġ--------------------------------------------------------------------------------', 'ĠHeight', 'ĠInclude', 'Ġfeet', 'Ġor', 'Ġinches', '.', 'Ġ-', 'Ġ--------------------------------------------------------------------------------', 'ĠWeight', 'ĠInclude', 'Ġpounds', 'Ġor', 'Ġounces', '.', 'Ġ-', 'Ġ--------------------------------------------------------------------------------', 'ĠQuantity', '*', 'ĠThis', 'Ġfield', 'Ġrequires', 'Ġonly', 'Ġa', 'Ġnumber', 'Ġnot', 'Ġeach', ',', 'Ġcase', ',', 'Ġetc', '.', 'Ġ-', 'Ġ--------------------------------------------------------------------------------', 'ĠStarting', 'ĠBid', '*', 'ĠThis', 'Ġis', 'Ġthe', 'Ġamount', 'Ġat', 'Ġwhich', 'Ġthe', 'Ġbidding', 'Ġwill', 'Ġstart', '.', 'ĠIt', 'Ġshould', 'Ġbe', 'Ġlower', 'Ġthan', 'Ġyour', 'Ġreserve', 'Ġprice', ',', 'Ġif', 'Ġyou', 'Ġset', 'Ġone', '.', 'ĠPlease', 'Ġuse', 'Ġwhole', 'Ġdollars', '.', 'Ġ-', 'Ġ--------------------------------------------------------------------------------', 'ĠReserve', 'ĠPrice', 'ĠThis', 'Ġis', 'Ġthe', 'Ġamount', 'Ġyou', 'Ġwish', 'Ġto', 'Ġreceive', 'Ġfor', 'Ġyour', 'Ġproduct', '.', 'ĠIf', 'Ġyou', 'Ġset', 'Ġa', 'Ġreserve', 'Ġprice', ',', 'Ġyour', 'Ġitem', 'Ġcannot', 'Ġbe', 'Ġsold', 'Ġfor', 'Ġless', 'Ġthan', 'Ġthe', 'Ġreserve', '.', 'ĠPlease', 'Ġuse', 'Ġwhole', 'Ġdollars', '.', 'Ġ-', 'Ġ--------------------------------------------------------------------------------', 'ĠBid', 'ĠIncre', 'ments', '*', 'Ġ$', '5', 'Ġis', 'Ġthe', 'Ġdefault', ',', 'Ġbut', 'Ġfeel', 'Ġfree', 'Ġto', 'Ġchange', 'Ġthis', 'Ġto', 'Ġreflect', 'Ġyour', 'Ġproduct', \"'s\", 'Ġprice', 'Ġusing', 'Ġwhole', 'Ġdollars', '.', 'Ġ-', 'Ġ--------------------------------------------------------------------------------', 'ĠStart', 'Ġdate', '/time', '*', 'ĠThis', 'Ġfield', 'Ġmust', 'Ġbe', 'Ġfilled', 'Ġout', 'Ġlike', 'Ġthe', 'Ġfollowing', 'Ġexample', ':', 'Ġ', '04', '/', '08', '/', '99', 'Ġ', '15', ':', '00', 'Ġ(', 'MM', '/DD', '/', 'YY', 'Ġ', '24', ':mm', ')', 'ĠA', 'Ġstart', 'Ġtime', 'Ġmust', 'Ġbe', 'Ġincluded', '.', 'Ġ-', 'Ġ--------------------------------------------------------------------------------', 'ĠDuration', '*', 'ĠThe', 'Ġdefault', 'Ġfor', 'Ġthis', 'Ġfield', 'Ġis', 'Ġ', '7', 'Ġdays', '.', 'ĠThe', 'Ġoptions', 'Ġare', 'Ġ', '1', ',', 'Ġ', '3', ',', 'Ġ', '5', ',', 'Ġ', '7', ',', 'Ġ', '21', ',', 'Ġand', 'Ġ', '30', '.', 'Ġ-', 'Ġ--------------------------------------------------------------------------------', 'ĠItem', 'Ġ#', 'ĠCatalog', 'Ġnumber', 'Ġif', 'Ġthe', 'Ġproduct', 'Ġcame', 'Ġfrom', 'Ġa', 'Ġmanufacturer', \"'s\", 'Ġor', 'Ġdistributor', \"'s\", 'Ġcatalog', 'Ġ-', 'Ġ--------------------------------------------------------------------------------', 'ĠApprox', '.', 'ĠAge', 'ĠNew', ',', 'Ġused', ',', 'Ġdemo', ',', 'Ġre', 'condition', 'ed', 'Ġ-', 'Ġ--------------------------------------------------------------------------------', 'ĠSKU', 'ĠEach', ',', 'Ġbox', ',', 'Ġcase', 'Ġ-', 'Ġ--------------------------------------------------------------------------------', 'ĠDescription', 'ĠThis', 'Ġfield', 'Ġis', 'Ġonly', 'Ġ', '125', '0', 'Ġcharacters', 'Ġlong', '.', 'ĠUse', 'Ġbasic', 'Ġwriting', 'Ġformat', 'Ġhere', '.', 'ĠComplete', 'Ġsentences', 'Ġare', 'Ġdesired', 'Ġrather', 'Ġthan', 'Ġa', 'Ġlist', 'Ġof', 'Ġfeatures', '.', 'ĠIf', 'Ġyou', 'Ġcopy', 'Ġand', 'Ġpaste', 'Ġfrom', 'Ġan', 'Ġoutside', 'Ġsource', ',', 'Ġplease', 'Ġcheck', 'Ġto', 'Ġsee', 'Ġthat', 'Ġthere', 'Ġare', 'Ġno', 'Ġtabs', 'Ġor', 'Ġreturns', 'Ġin', 'Ġthe', 'Ġparagraph', '.', 'Ġ-', 'Ġ--------------------------------------------------------------------------------', 'ĠSeller', 'ĠID', '#', '*', 'ĠThis', 'Ġis', 'Ġyour', 'Ġsix', '-digit', 'ĠID', 'Ġnumber', 'Ġyou', 'Ġreceived', 'Ġwhen', 'Ġyou', 'Ġregistered', '.', 'Ġ-', 'Ġ--------------------------------------------------------------------------------', 'ĠImage', 'Ġlocation', 'ĠA', 'Ġpicture', 'Ġof', 'Ġyour', 'Ġitem', 'Ġis', 'Ġvery', 'Ġhelpful', 'Ġin', 'Ġselling', 'Ġyour', 'Ġitem', 'Ġand', 'Ġwill', 'Ġgreatly', 'Ġenhance', 'Ġits', 'Ġlisting', 'Ġappearance', '.', 'ĠThe', 'Ġpicture', 'Ġneeds', 'Ġto', 'Ġbe', 'Ġin', 'ĠJPEG', 'Ġor', 'ĠGIF', 'Ġformat', '.', 'ĠYou', 'Ġcan', 'Ġsend', 'Ġthese', 'Ġon', 'Ġa', 'Ġseparate', 'Ġdisk', 'Ġor', 'Ġemail', 'Ġif', 'Ġdesired', '.', 'ĠPlease', 'Ġenc', 'lose', 'Ġa', 'Ġlist', 'Ġdeline', 'ating', 'Ġwhich', 'Ġpicture', 'Ġgoes', 'Ġwith', 'Ġwhich', 'Ġitem', '.', 'Ġ-', 'Ġ--------------------------------------------------------------------------------', 'ĠLocation', 'ĠWhere', 'Ġthe', 'Ġequipment', 'Ġis', 'Ġcurrently', 'Ġlocated', '/res', 'ides', '.', 'Ġ-', 'Ġ--------------------------------------------------------------------------------', 'ĊĊ', '###', 'Question', ':', 'ĠThe', 'Ġname', 'Ġof', 'Ġthe', 'Ġcontract', 'ĊĊ', '###', 'Answer', ':']\n"
     ]
    }
   ],
   "source": [
    "print(tk_llama3.tokenize(text))"
   ]
  },
  {
   "cell_type": "code",
   "execution_count": null,
   "metadata": {},
   "outputs": [],
   "source": []
  }
 ],
 "metadata": {
  "kernelspec": {
   "display_name": "llm",
   "language": "python",
   "name": "python3"
  },
  "language_info": {
   "codemirror_mode": {
    "name": "ipython",
    "version": 3
   },
   "file_extension": ".py",
   "mimetype": "text/x-python",
   "name": "python",
   "nbconvert_exporter": "python",
   "pygments_lexer": "ipython3",
   "version": "3.9.16"
  }
 },
 "nbformat": 4,
 "nbformat_minor": 2
}
