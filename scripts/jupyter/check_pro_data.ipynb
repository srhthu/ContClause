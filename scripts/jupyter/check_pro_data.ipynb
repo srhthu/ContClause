{
 "cells": [
  {
   "cell_type": "code",
   "execution_count": 1,
   "metadata": {},
   "outputs": [],
   "source": [
    "import sys\n",
    "import numpy as np\n",
    "import pandas as pd\n",
    "import matplotlib.pyplot as plt\n",
    "from pathlib import Path\n",
    "import difflib\n",
    "import json\n",
    "\n",
    "import context\n",
    "from cont_gen.utils import load_json, load_jsonl"
   ]
  },
  {
   "cell_type": "code",
   "execution_count": 2,
   "metadata": {},
   "outputs": [],
   "source": [
    "# Check new para_merge data\n",
    "merge_data = load_jsonl('../../data/cuad_clean/CUADv1_paras_merge_new.jsonl')\n",
    "print(len(merge_data))"
   ]
  },
  {
   "cell_type": "code",
   "execution_count": 6,
   "metadata": {},
   "outputs": [],
   "source": [
    "# Check the offset\n",
    "for cont in merge_data:\n",
    "    for para in cont['paras']:\n",
    "        p_text = para['text']\n",
    "        for qa in para['qas']:\n",
    "            for ans in qa['answers']:\n",
    "                a_t = ans['text']\n",
    "                p_span = p_text[ans['start_pos']: ans['end_pos'] + 1]\n",
    "                assert a_t == p_span\n"
   ]
  },
  {
   "cell_type": "code",
   "execution_count": null,
   "metadata": {},
   "outputs": [],
   "source": []
  }
 ],
 "metadata": {
  "kernelspec": {
   "display_name": "llm",
   "language": "python",
   "name": "python3"
  },
  "language_info": {
   "codemirror_mode": {
    "name": "ipython",
    "version": 3
   },
   "file_extension": ".py",
   "mimetype": "text/x-python",
   "name": "python",
   "nbconvert_exporter": "python",
   "pygments_lexer": "ipython3",
   "version": "3.9.16"
  }
 },
 "nbformat": 4,
 "nbformat_minor": 2
}
