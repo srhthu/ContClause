{
 "cells": [
  {
   "cell_type": "code",
   "execution_count": 1,
   "metadata": {},
   "outputs": [],
   "source": [
    "import os\n",
    "import numpy as np\n",
    "import pandas as pd\n",
    "from pathlib import Path\n",
    "from ast import literal_eval\n",
    "from typing import List\n",
    "import re\n",
    "import importlib\n",
    "\n",
    "import context\n",
    "os.chdir(context.proj_dir)\n",
    "\n",
    "import cont_gen.utils\n",
    "importlib.reload(cont_gen.utils)\n",
    "import cont_gen.evaluate.cal_metrics\n",
    "importlib.reload(cont_gen.evaluate.cal_metrics)\n",
    "from cont_gen.utils import load_jsonl, save_jsonl, plot_multiple_loss, get_loss_df_norm,get_ckpt_paths\n",
    "from cont_gen.evaluate.cal_metrics import cal_collective_point_metrics, get_point_counts, get_doc_metrics, get_overall_metrics\n",
    "import cont_gen.evaluate.io\n",
    "importlib.reload(cont_gen.evaluate.io)\n",
    "from cont_gen.evaluate.io import RunManager"
   ]
  },
  {
   "cell_type": "code",
   "execution_count": 2,
   "metadata": {},
   "outputs": [],
   "source": [
    "# test_data_id = load_jsonl('data/ood_split/seed42_tr29/pmt_01/test_data_id.jsonl')\n",
    "# test_data_ood = load_jsonl('data/ood_split/seed42_tr29/pmt_01/test_data_ood.jsonl')\n",
    "cvt = {'answers': lambda k: ' '.join(literal_eval(k))}\n",
    "\n",
    "tkn_name = 'llama3'\n",
    "test_meta_id = pd.read_csv(f'data/ood_split/seed42_tr29/{tkn_name}/test_meta_id.csv', converters = cvt)\n",
    "test_meta_ood = pd.read_csv(f'data/ood_split/seed42_tr29/{tkn_name}/test_meta_ood.csv', converters = cvt)"
   ]
  },
  {
   "cell_type": "code",
   "execution_count": 3,
   "metadata": {},
   "outputs": [
    {
     "data": {
      "text/plain": [
       "Index(['title', 'para_idx', 'q_id', 'answers', 'type'], dtype='object')"
      ]
     },
     "execution_count": 3,
     "metadata": {},
     "output_type": "execute_result"
    }
   ],
   "source": [
    "test_meta_ood.columns"
   ]
  },
  {
   "cell_type": "code",
   "execution_count": 4,
   "metadata": {},
   "outputs": [
    {
     "data": {
      "text/plain": [
       "'SUPPLY CONTRACT'"
      ]
     },
     "execution_count": 4,
     "metadata": {},
     "output_type": "execute_result"
    }
   ],
   "source": [
    "test_meta_ood.iloc[0].answers"
   ]
  },
  {
   "cell_type": "code",
   "execution_count": 3,
   "metadata": {},
   "outputs": [],
   "source": [
    "def get_clause_metrics(ground_df, pred_df):\n",
    "    # map from q_id to dataframe\n",
    "    q2df_ground = {k:v for k,v in ground_df.groupby('q_id')}\n",
    "    q2df_pred = {k:v for k,v in pred_df.groupby('q_id')}\n",
    "\n",
    "    # get metrics of each q_id\n",
    "    q2met = {}\n",
    "    for q_id in q2df_ground.keys():\n",
    "        q2met[q_id] = cal_collective_point_metrics(q2df_ground[q_id], q2df_pred[q_id])\n",
    "    \n",
    "    # add q_id to metric dt\n",
    "    met_comb = [{'q_id': k, **v} for k,v in q2met.items()]\n",
    "    met_df = pd.DataFrame(met_comb)\n",
    "    return met_df\n",
    "\n",
    "def parse_pred(text: str):\n",
    "    if text == 'No' or text == 'No.':\n",
    "        return ''\n",
    "    else:\n",
    "        return text.removeprefix('Yes.')\n",
    "\n",
    "def handle_one_ckpt(ckpt_dir, is_ood, part = 'sampled', overwrite = False):\n",
    "    ckpt_dir = Path(ckpt_dir)\n",
    "    split_name = 'ood' if is_ood else 'id'\n",
    "    save_path = ckpt_dir / f'detail_metrics_{split_name}_{part}.csv'\n",
    "    if save_path.exists() and not overwrite:\n",
    "        print(f'metrics already exist: {save_path.name}')\n",
    "        return\n",
    "\n",
    "    ground_df = test_meta_ood if is_ood else test_meta_id\n",
    "\n",
    "    pred_path = ckpt_dir / f'predictions_{split_name}_{part}.jsonl'\n",
    "    if not pred_path.exists():\n",
    "        print(f'prediction not exist, skip. ({pred_path.name})')\n",
    "        return\n",
    "    pred_df = pd.DataFrame(load_jsonl(pred_path))\n",
    "    pred_df['prediction'] = pred_df['prediction'].apply(parse_pred)\n",
    "    \n",
    "    met_df = get_clause_metrics(ground_df, pred_df)\n",
    "    met_df.to_csv(ckpt_dir / f'detail_metrics_{split_name}_{part}.csv', index = False)\n",
    "\n",
    "def get_critic_metrics(ckpt_dir, is_ood, part = 'sampled'):\n",
    "    ckpt_dir = Path(ckpt_dir)\n",
    "    split_name = 'ood' if is_ood else 'id'\n",
    "    save_path = ckpt_dir / f'detail_metrics_{split_name}_{part}.csv'\n",
    "    met_df = pd.read_csv(save_path)\n",
    "    ave_dt = met_df.apply(np.mean).to_dict()\n",
    "    return {k:v for k,v in ave_dt.items() if k.startswith('docsum')}\n",
    "\n",
    "def print_critic_metrics(ckpt, is_ood, part = 'sampled'):\n",
    "    try:\n",
    "        ave_dt = get_critic_metrics(ckpt, is_ood = is_ood, part = part)\n",
    "    except:\n",
    "        return\n",
    "    ave_dt = [f'{k}= {v:.4f}' for k,v in ave_dt.items()]\n",
    "    met_str = '; '.join(ave_dt)\n",
    "    print(f'{ckpt.name}: {met_str}')"
   ]
  },
  {
   "cell_type": "code",
   "execution_count": 52,
   "metadata": {},
   "outputs": [
    {
     "name": "stdout",
     "output_type": "stream",
     "text": [
      "docave_p      0.911560\n",
      "docave_r      0.833430\n",
      "docave_f1     0.801286\n",
      "docave_iou    0.783490\n",
      "docsum_p      0.703779\n",
      "docsum_r      0.396317\n",
      "docsum_f1     0.457015\n",
      "docsum_iou    0.324088\n",
      "dtype: float64\n"
     ]
    }
   ],
   "source": [
    "# This is an example\n",
    "# run_dir = Path('runs/ood/flan-t5-large/seed42_tr29/pmt_01_lr1e-4_bs16_wd0.0')\n",
    "run_dir = Path('runs/ood/llama3_chat/seed42_tr29/pmt_01_all_lr1e-5_bs16_wd0.0')\n",
    "# run_dir = Path('runs/ood/mistral/seed42_tr29/pmt_01_yes_no_all_lr1e-5_bs16_wd0.0')\n",
    "ckpt_dirs = get_ckpt_paths(run_dir)\n",
    "\n",
    "pred_path = ckpt_dirs[0] / f'predictions_ood_sampled.jsonl'\n",
    "pred_df = pd.DataFrame(load_jsonl(pred_path))\n",
    "pred_df['prediction'] = pred_df['prediction'].apply(parse_pred)\n",
    "\n",
    "met_df = get_clause_metrics(test_meta_ood, pred_df)\n",
    "\n",
    "# print(met_df)\n",
    "print(met_df.iloc[:,1:].apply(np.mean))"
   ]
  },
  {
   "cell_type": "code",
   "execution_count": 47,
   "metadata": {},
   "outputs": [],
   "source": [
    "ov_mets, detail_df = get_overall_metrics(test_meta_ood, pred_df, lambda k: k)"
   ]
  },
  {
   "cell_type": "code",
   "execution_count": 48,
   "metadata": {},
   "outputs": [
    {
     "data": {
      "text/plain": [
       "{'micro_p': 0.7168080911973944,\n",
       " 'micro_r': 0.42199011000100917,\n",
       " 'micro_f1': 0.531237097030332,\n",
       " 'micro_iou': 0.3616901652106219,\n",
       " 'macro_p': 0.7037794396038771,\n",
       " 'macro_r': 0.39631690337499276,\n",
       " 'macro_f1': 0.45701486835517274,\n",
       " 'macro_iou': 0.3240877077152918,\n",
       " 'doc_macro_p': 0.911560334170774,\n",
       " 'doc_macro_r': 0.8334296775519253,\n",
       " 'doc_macro_f1': 0.801285832707837,\n",
       " 'doc_macro_iou': 0.7834904096006842}"
      ]
     },
     "execution_count": 48,
     "metadata": {},
     "output_type": "execute_result"
    }
   ],
   "source": [
    "ov_mets"
   ]
  },
  {
   "cell_type": "code",
   "execution_count": 51,
   "metadata": {},
   "outputs": [
    {
     "name": "stdout",
     "output_type": "stream",
     "text": [
      "0.3240877077152918\n",
      "0.3240877077152918\n"
     ]
    }
   ],
   "source": [
    "print(met_df['docsum_iou'].mean())\n",
    "print(detail_df['macro_iou'].mean())"
   ]
  },
  {
   "cell_type": "code",
   "execution_count": 44,
   "metadata": {},
   "outputs": [
    {
     "data": {
      "text/html": [
       "<div>\n",
       "<style scoped>\n",
       "    .dataframe tbody tr th:only-of-type {\n",
       "        vertical-align: middle;\n",
       "    }\n",
       "\n",
       "    .dataframe tbody tr th {\n",
       "        vertical-align: top;\n",
       "    }\n",
       "\n",
       "    .dataframe thead th {\n",
       "        text-align: right;\n",
       "    }\n",
       "</style>\n",
       "<table border=\"1\" class=\"dataframe\">\n",
       "  <thead>\n",
       "    <tr style=\"text-align: right;\">\n",
       "      <th></th>\n",
       "      <th>q_id</th>\n",
       "      <th>docave_p</th>\n",
       "      <th>docave_r</th>\n",
       "      <th>docave_f1</th>\n",
       "      <th>docave_iou</th>\n",
       "      <th>docsum_p</th>\n",
       "      <th>docsum_r</th>\n",
       "      <th>docsum_f1</th>\n",
       "      <th>docsum_iou</th>\n",
       "    </tr>\n",
       "  </thead>\n",
       "  <tbody>\n",
       "    <tr>\n",
       "      <th>0</th>\n",
       "      <td>0</td>\n",
       "      <td>0.675885</td>\n",
       "      <td>0.531182</td>\n",
       "      <td>0.429570</td>\n",
       "      <td>0.401444</td>\n",
       "      <td>0.385263</td>\n",
       "      <td>0.516949</td>\n",
       "      <td>0.441496</td>\n",
       "      <td>0.283282</td>\n",
       "    </tr>\n",
       "    <tr>\n",
       "      <th>1</th>\n",
       "      <td>1</td>\n",
       "      <td>0.666812</td>\n",
       "      <td>0.386982</td>\n",
       "      <td>0.290121</td>\n",
       "      <td>0.214509</td>\n",
       "      <td>0.336603</td>\n",
       "      <td>0.282844</td>\n",
       "      <td>0.307391</td>\n",
       "      <td>0.181608</td>\n",
       "    </tr>\n",
       "    <tr>\n",
       "      <th>2</th>\n",
       "      <td>5</td>\n",
       "      <td>0.974963</td>\n",
       "      <td>0.875835</td>\n",
       "      <td>0.881652</td>\n",
       "      <td>0.870350</td>\n",
       "      <td>0.913462</td>\n",
       "      <td>0.316140</td>\n",
       "      <td>0.469716</td>\n",
       "      <td>0.306947</td>\n",
       "    </tr>\n",
       "    <tr>\n",
       "      <th>3</th>\n",
       "      <td>6</td>\n",
       "      <td>0.901961</td>\n",
       "      <td>0.925966</td>\n",
       "      <td>0.855976</td>\n",
       "      <td>0.847535</td>\n",
       "      <td>0.464020</td>\n",
       "      <td>0.463445</td>\n",
       "      <td>0.463732</td>\n",
       "      <td>0.301856</td>\n",
       "    </tr>\n",
       "    <tr>\n",
       "      <th>4</th>\n",
       "      <td>7</td>\n",
       "      <td>0.985924</td>\n",
       "      <td>0.864924</td>\n",
       "      <td>0.875654</td>\n",
       "      <td>0.851210</td>\n",
       "      <td>0.961353</td>\n",
       "      <td>0.804484</td>\n",
       "      <td>0.875950</td>\n",
       "      <td>0.779281</td>\n",
       "    </tr>\n",
       "    <tr>\n",
       "      <th>5</th>\n",
       "      <td>8</td>\n",
       "      <td>1.000000</td>\n",
       "      <td>0.970588</td>\n",
       "      <td>0.970588</td>\n",
       "      <td>0.970588</td>\n",
       "      <td>1.000000</td>\n",
       "      <td>0.000000</td>\n",
       "      <td>0.000000</td>\n",
       "      <td>0.000000</td>\n",
       "    </tr>\n",
       "    <tr>\n",
       "      <th>6</th>\n",
       "      <td>14</td>\n",
       "      <td>0.995269</td>\n",
       "      <td>0.963938</td>\n",
       "      <td>0.967635</td>\n",
       "      <td>0.962598</td>\n",
       "      <td>0.945498</td>\n",
       "      <td>0.566761</td>\n",
       "      <td>0.708703</td>\n",
       "      <td>0.548831</td>\n",
       "    </tr>\n",
       "    <tr>\n",
       "      <th>7</th>\n",
       "      <td>15</td>\n",
       "      <td>0.896965</td>\n",
       "      <td>0.885742</td>\n",
       "      <td>0.797997</td>\n",
       "      <td>0.787937</td>\n",
       "      <td>0.605744</td>\n",
       "      <td>0.528073</td>\n",
       "      <td>0.564248</td>\n",
       "      <td>0.392998</td>\n",
       "    </tr>\n",
       "    <tr>\n",
       "      <th>8</th>\n",
       "      <td>17</td>\n",
       "      <td>0.962550</td>\n",
       "      <td>0.796807</td>\n",
       "      <td>0.795429</td>\n",
       "      <td>0.784138</td>\n",
       "      <td>0.752448</td>\n",
       "      <td>0.159360</td>\n",
       "      <td>0.263016</td>\n",
       "      <td>0.151421</td>\n",
       "    </tr>\n",
       "    <tr>\n",
       "      <th>9</th>\n",
       "      <td>27</td>\n",
       "      <td>0.997770</td>\n",
       "      <td>0.961713</td>\n",
       "      <td>0.970386</td>\n",
       "      <td>0.961474</td>\n",
       "      <td>0.949675</td>\n",
       "      <td>0.336207</td>\n",
       "      <td>0.496604</td>\n",
       "      <td>0.330322</td>\n",
       "    </tr>\n",
       "    <tr>\n",
       "      <th>10</th>\n",
       "      <td>38</td>\n",
       "      <td>0.958951</td>\n",
       "      <td>0.874695</td>\n",
       "      <td>0.888444</td>\n",
       "      <td>0.860882</td>\n",
       "      <td>0.896207</td>\n",
       "      <td>0.488747</td>\n",
       "      <td>0.632539</td>\n",
       "      <td>0.462565</td>\n",
       "    </tr>\n",
       "    <tr>\n",
       "      <th>11</th>\n",
       "      <td>40</td>\n",
       "      <td>0.921674</td>\n",
       "      <td>0.962784</td>\n",
       "      <td>0.891978</td>\n",
       "      <td>0.889221</td>\n",
       "      <td>0.235081</td>\n",
       "      <td>0.292793</td>\n",
       "      <td>0.260782</td>\n",
       "      <td>0.149942</td>\n",
       "    </tr>\n",
       "  </tbody>\n",
       "</table>\n",
       "</div>"
      ],
      "text/plain": [
       "    q_id  docave_p  docave_r  docave_f1  docave_iou  docsum_p  docsum_r   \n",
       "0      0  0.675885  0.531182   0.429570    0.401444  0.385263  0.516949  \\\n",
       "1      1  0.666812  0.386982   0.290121    0.214509  0.336603  0.282844   \n",
       "2      5  0.974963  0.875835   0.881652    0.870350  0.913462  0.316140   \n",
       "3      6  0.901961  0.925966   0.855976    0.847535  0.464020  0.463445   \n",
       "4      7  0.985924  0.864924   0.875654    0.851210  0.961353  0.804484   \n",
       "5      8  1.000000  0.970588   0.970588    0.970588  1.000000  0.000000   \n",
       "6     14  0.995269  0.963938   0.967635    0.962598  0.945498  0.566761   \n",
       "7     15  0.896965  0.885742   0.797997    0.787937  0.605744  0.528073   \n",
       "8     17  0.962550  0.796807   0.795429    0.784138  0.752448  0.159360   \n",
       "9     27  0.997770  0.961713   0.970386    0.961474  0.949675  0.336207   \n",
       "10    38  0.958951  0.874695   0.888444    0.860882  0.896207  0.488747   \n",
       "11    40  0.921674  0.962784   0.891978    0.889221  0.235081  0.292793   \n",
       "\n",
       "    docsum_f1  docsum_iou  \n",
       "0    0.441496    0.283282  \n",
       "1    0.307391    0.181608  \n",
       "2    0.469716    0.306947  \n",
       "3    0.463732    0.301856  \n",
       "4    0.875950    0.779281  \n",
       "5    0.000000    0.000000  \n",
       "6    0.708703    0.548831  \n",
       "7    0.564248    0.392998  \n",
       "8    0.263016    0.151421  \n",
       "9    0.496604    0.330322  \n",
       "10   0.632539    0.462565  \n",
       "11   0.260782    0.149942  "
      ]
     },
     "execution_count": 44,
     "metadata": {},
     "output_type": "execute_result"
    }
   ],
   "source": [
    "met_df"
   ]
  },
  {
   "cell_type": "code",
   "execution_count": 49,
   "metadata": {},
   "outputs": [
    {
     "data": {
      "text/html": [
       "<div>\n",
       "<style scoped>\n",
       "    .dataframe tbody tr th:only-of-type {\n",
       "        vertical-align: middle;\n",
       "    }\n",
       "\n",
       "    .dataframe tbody tr th {\n",
       "        vertical-align: top;\n",
       "    }\n",
       "\n",
       "    .dataframe thead th {\n",
       "        text-align: right;\n",
       "    }\n",
       "</style>\n",
       "<table border=\"1\" class=\"dataframe\">\n",
       "  <thead>\n",
       "    <tr style=\"text-align: right;\">\n",
       "      <th></th>\n",
       "      <th>q_id</th>\n",
       "      <th>macro_p</th>\n",
       "      <th>macro_r</th>\n",
       "      <th>macro_f1</th>\n",
       "      <th>macro_iou</th>\n",
       "      <th>doc_macro_p</th>\n",
       "      <th>doc_macro_r</th>\n",
       "      <th>doc_macro_f1</th>\n",
       "      <th>doc_macro_iou</th>\n",
       "    </tr>\n",
       "  </thead>\n",
       "  <tbody>\n",
       "    <tr>\n",
       "      <th>0</th>\n",
       "      <td>0</td>\n",
       "      <td>0.385263</td>\n",
       "      <td>0.516949</td>\n",
       "      <td>0.441496</td>\n",
       "      <td>0.283282</td>\n",
       "      <td>0.675885</td>\n",
       "      <td>0.531182</td>\n",
       "      <td>0.429570</td>\n",
       "      <td>0.401444</td>\n",
       "    </tr>\n",
       "    <tr>\n",
       "      <th>1</th>\n",
       "      <td>1</td>\n",
       "      <td>0.336603</td>\n",
       "      <td>0.282844</td>\n",
       "      <td>0.307391</td>\n",
       "      <td>0.181608</td>\n",
       "      <td>0.666812</td>\n",
       "      <td>0.386982</td>\n",
       "      <td>0.290121</td>\n",
       "      <td>0.214509</td>\n",
       "    </tr>\n",
       "    <tr>\n",
       "      <th>2</th>\n",
       "      <td>5</td>\n",
       "      <td>0.913462</td>\n",
       "      <td>0.316140</td>\n",
       "      <td>0.469716</td>\n",
       "      <td>0.306947</td>\n",
       "      <td>0.974963</td>\n",
       "      <td>0.875835</td>\n",
       "      <td>0.881652</td>\n",
       "      <td>0.870350</td>\n",
       "    </tr>\n",
       "    <tr>\n",
       "      <th>3</th>\n",
       "      <td>6</td>\n",
       "      <td>0.464020</td>\n",
       "      <td>0.463445</td>\n",
       "      <td>0.463732</td>\n",
       "      <td>0.301856</td>\n",
       "      <td>0.901961</td>\n",
       "      <td>0.925966</td>\n",
       "      <td>0.855976</td>\n",
       "      <td>0.847535</td>\n",
       "    </tr>\n",
       "    <tr>\n",
       "      <th>4</th>\n",
       "      <td>7</td>\n",
       "      <td>0.961353</td>\n",
       "      <td>0.804484</td>\n",
       "      <td>0.875950</td>\n",
       "      <td>0.779281</td>\n",
       "      <td>0.985924</td>\n",
       "      <td>0.864924</td>\n",
       "      <td>0.875654</td>\n",
       "      <td>0.851210</td>\n",
       "    </tr>\n",
       "    <tr>\n",
       "      <th>5</th>\n",
       "      <td>8</td>\n",
       "      <td>1.000000</td>\n",
       "      <td>0.000000</td>\n",
       "      <td>0.000000</td>\n",
       "      <td>0.000000</td>\n",
       "      <td>1.000000</td>\n",
       "      <td>0.970588</td>\n",
       "      <td>0.970588</td>\n",
       "      <td>0.970588</td>\n",
       "    </tr>\n",
       "    <tr>\n",
       "      <th>6</th>\n",
       "      <td>14</td>\n",
       "      <td>0.945498</td>\n",
       "      <td>0.566761</td>\n",
       "      <td>0.708703</td>\n",
       "      <td>0.548831</td>\n",
       "      <td>0.995269</td>\n",
       "      <td>0.963938</td>\n",
       "      <td>0.967635</td>\n",
       "      <td>0.962598</td>\n",
       "    </tr>\n",
       "    <tr>\n",
       "      <th>7</th>\n",
       "      <td>15</td>\n",
       "      <td>0.605744</td>\n",
       "      <td>0.528073</td>\n",
       "      <td>0.564248</td>\n",
       "      <td>0.392998</td>\n",
       "      <td>0.896965</td>\n",
       "      <td>0.885742</td>\n",
       "      <td>0.797997</td>\n",
       "      <td>0.787937</td>\n",
       "    </tr>\n",
       "    <tr>\n",
       "      <th>8</th>\n",
       "      <td>17</td>\n",
       "      <td>0.752448</td>\n",
       "      <td>0.159360</td>\n",
       "      <td>0.263016</td>\n",
       "      <td>0.151421</td>\n",
       "      <td>0.962550</td>\n",
       "      <td>0.796807</td>\n",
       "      <td>0.795429</td>\n",
       "      <td>0.784138</td>\n",
       "    </tr>\n",
       "    <tr>\n",
       "      <th>9</th>\n",
       "      <td>27</td>\n",
       "      <td>0.949675</td>\n",
       "      <td>0.336207</td>\n",
       "      <td>0.496604</td>\n",
       "      <td>0.330322</td>\n",
       "      <td>0.997770</td>\n",
       "      <td>0.961713</td>\n",
       "      <td>0.970386</td>\n",
       "      <td>0.961474</td>\n",
       "    </tr>\n",
       "    <tr>\n",
       "      <th>10</th>\n",
       "      <td>38</td>\n",
       "      <td>0.896207</td>\n",
       "      <td>0.488747</td>\n",
       "      <td>0.632539</td>\n",
       "      <td>0.462565</td>\n",
       "      <td>0.958951</td>\n",
       "      <td>0.874695</td>\n",
       "      <td>0.888444</td>\n",
       "      <td>0.860882</td>\n",
       "    </tr>\n",
       "    <tr>\n",
       "      <th>11</th>\n",
       "      <td>40</td>\n",
       "      <td>0.235081</td>\n",
       "      <td>0.292793</td>\n",
       "      <td>0.260782</td>\n",
       "      <td>0.149942</td>\n",
       "      <td>0.921674</td>\n",
       "      <td>0.962784</td>\n",
       "      <td>0.891978</td>\n",
       "      <td>0.889221</td>\n",
       "    </tr>\n",
       "  </tbody>\n",
       "</table>\n",
       "</div>"
      ],
      "text/plain": [
       "    q_id   macro_p   macro_r  macro_f1  macro_iou  doc_macro_p  doc_macro_r   \n",
       "0      0  0.385263  0.516949  0.441496   0.283282     0.675885     0.531182  \\\n",
       "1      1  0.336603  0.282844  0.307391   0.181608     0.666812     0.386982   \n",
       "2      5  0.913462  0.316140  0.469716   0.306947     0.974963     0.875835   \n",
       "3      6  0.464020  0.463445  0.463732   0.301856     0.901961     0.925966   \n",
       "4      7  0.961353  0.804484  0.875950   0.779281     0.985924     0.864924   \n",
       "5      8  1.000000  0.000000  0.000000   0.000000     1.000000     0.970588   \n",
       "6     14  0.945498  0.566761  0.708703   0.548831     0.995269     0.963938   \n",
       "7     15  0.605744  0.528073  0.564248   0.392998     0.896965     0.885742   \n",
       "8     17  0.752448  0.159360  0.263016   0.151421     0.962550     0.796807   \n",
       "9     27  0.949675  0.336207  0.496604   0.330322     0.997770     0.961713   \n",
       "10    38  0.896207  0.488747  0.632539   0.462565     0.958951     0.874695   \n",
       "11    40  0.235081  0.292793  0.260782   0.149942     0.921674     0.962784   \n",
       "\n",
       "    doc_macro_f1  doc_macro_iou  \n",
       "0       0.429570       0.401444  \n",
       "1       0.290121       0.214509  \n",
       "2       0.881652       0.870350  \n",
       "3       0.855976       0.847535  \n",
       "4       0.875654       0.851210  \n",
       "5       0.970588       0.970588  \n",
       "6       0.967635       0.962598  \n",
       "7       0.797997       0.787937  \n",
       "8       0.795429       0.784138  \n",
       "9       0.970386       0.961474  \n",
       "10      0.888444       0.860882  \n",
       "11      0.891978       0.889221  "
      ]
     },
     "execution_count": 49,
     "metadata": {},
     "output_type": "execute_result"
    }
   ],
   "source": [
    "detail_df"
   ]
  },
  {
   "cell_type": "code",
   "execution_count": 21,
   "metadata": {},
   "outputs": [
    {
     "name": "stdout",
     "output_type": "stream",
     "text": [
      "[]\n"
     ]
    }
   ],
   "source": [
    "preds = pred_df[pred_df['type'] == 1]['prediction'].to_list()\n",
    "print([k for k in preds if len(k) > 0])"
   ]
  },
  {
   "cell_type": "code",
   "execution_count": 22,
   "metadata": {},
   "outputs": [
    {
     "data": {
      "text/plain": [
       "type\n",
       "2    928\n",
       "3    511\n",
       "Name: count, dtype: int64"
      ]
     },
     "execution_count": 22,
     "metadata": {},
     "output_type": "execute_result"
    }
   ],
   "source": [
    "pred_df[pred_df['q_id'] == 20]['type'].value_counts()"
   ]
  },
  {
   "cell_type": "code",
   "execution_count": 24,
   "metadata": {},
   "outputs": [
    {
     "name": "stdout",
     "output_type": "stream",
     "text": [
      "11808\n"
     ]
    },
    {
     "data": {
      "text/plain": [
       "2"
      ]
     },
     "execution_count": 24,
     "metadata": {},
     "output_type": "execute_result"
    }
   ],
   "source": [
    "part = pred_df[pred_df['type']>0]\n",
    "print(len(part))\n",
    "len([k for k in part['prediction'] if not k.startswith('No')])"
   ]
  },
  {
   "cell_type": "code",
   "execution_count": 25,
   "metadata": {},
   "outputs": [
    {
     "data": {
      "text/plain": [
       "['://', '://']"
      ]
     },
     "execution_count": 25,
     "metadata": {},
     "output_type": "execute_result"
    }
   ],
   "source": [
    "[k for k in part['prediction'] if not k.startswith('No')]"
   ]
  },
  {
   "cell_type": "code",
   "execution_count": 44,
   "metadata": {},
   "outputs": [
    {
     "data": {
      "text/html": [
       "<div>\n",
       "<style scoped>\n",
       "    .dataframe tbody tr th:only-of-type {\n",
       "        vertical-align: middle;\n",
       "    }\n",
       "\n",
       "    .dataframe tbody tr th {\n",
       "        vertical-align: top;\n",
       "    }\n",
       "\n",
       "    .dataframe thead th {\n",
       "        text-align: right;\n",
       "    }\n",
       "</style>\n",
       "<table border=\"1\" class=\"dataframe\">\n",
       "  <thead>\n",
       "    <tr style=\"text-align: right;\">\n",
       "      <th></th>\n",
       "      <th>q_id</th>\n",
       "      <th>docave_p</th>\n",
       "      <th>docave_r</th>\n",
       "      <th>docave_f1</th>\n",
       "      <th>docave_iou</th>\n",
       "      <th>docsum_p</th>\n",
       "      <th>docsum_r</th>\n",
       "      <th>docsum_f1</th>\n",
       "      <th>docsum_iou</th>\n",
       "    </tr>\n",
       "  </thead>\n",
       "  <tbody>\n",
       "    <tr>\n",
       "      <th>0</th>\n",
       "      <td>0</td>\n",
       "      <td>1.0</td>\n",
       "      <td>0.009804</td>\n",
       "      <td>0.009804</td>\n",
       "      <td>0.009804</td>\n",
       "      <td>1.0</td>\n",
       "      <td>0.0</td>\n",
       "      <td>0.0</td>\n",
       "      <td>0.0</td>\n",
       "    </tr>\n",
       "    <tr>\n",
       "      <th>1</th>\n",
       "      <td>1</td>\n",
       "      <td>1.0</td>\n",
       "      <td>0.000000</td>\n",
       "      <td>0.000000</td>\n",
       "      <td>0.000000</td>\n",
       "      <td>1.0</td>\n",
       "      <td>0.0</td>\n",
       "      <td>0.0</td>\n",
       "      <td>0.0</td>\n",
       "    </tr>\n",
       "    <tr>\n",
       "      <th>2</th>\n",
       "      <td>5</td>\n",
       "      <td>1.0</td>\n",
       "      <td>0.745098</td>\n",
       "      <td>0.745098</td>\n",
       "      <td>0.745098</td>\n",
       "      <td>1.0</td>\n",
       "      <td>0.0</td>\n",
       "      <td>0.0</td>\n",
       "      <td>0.0</td>\n",
       "    </tr>\n",
       "    <tr>\n",
       "      <th>3</th>\n",
       "      <td>6</td>\n",
       "      <td>1.0</td>\n",
       "      <td>0.843137</td>\n",
       "      <td>0.843137</td>\n",
       "      <td>0.843137</td>\n",
       "      <td>1.0</td>\n",
       "      <td>0.0</td>\n",
       "      <td>0.0</td>\n",
       "      <td>0.0</td>\n",
       "    </tr>\n",
       "    <tr>\n",
       "      <th>4</th>\n",
       "      <td>7</td>\n",
       "      <td>1.0</td>\n",
       "      <td>0.186275</td>\n",
       "      <td>0.186275</td>\n",
       "      <td>0.186275</td>\n",
       "      <td>1.0</td>\n",
       "      <td>0.0</td>\n",
       "      <td>0.0</td>\n",
       "      <td>0.0</td>\n",
       "    </tr>\n",
       "    <tr>\n",
       "      <th>5</th>\n",
       "      <td>8</td>\n",
       "      <td>1.0</td>\n",
       "      <td>0.970588</td>\n",
       "      <td>0.970588</td>\n",
       "      <td>0.970588</td>\n",
       "      <td>1.0</td>\n",
       "      <td>0.0</td>\n",
       "      <td>0.0</td>\n",
       "      <td>0.0</td>\n",
       "    </tr>\n",
       "    <tr>\n",
       "      <th>6</th>\n",
       "      <td>14</td>\n",
       "      <td>1.0</td>\n",
       "      <td>0.931373</td>\n",
       "      <td>0.931373</td>\n",
       "      <td>0.931373</td>\n",
       "      <td>1.0</td>\n",
       "      <td>0.0</td>\n",
       "      <td>0.0</td>\n",
       "      <td>0.0</td>\n",
       "    </tr>\n",
       "    <tr>\n",
       "      <th>7</th>\n",
       "      <td>15</td>\n",
       "      <td>1.0</td>\n",
       "      <td>0.725490</td>\n",
       "      <td>0.725490</td>\n",
       "      <td>0.725490</td>\n",
       "      <td>1.0</td>\n",
       "      <td>0.0</td>\n",
       "      <td>0.0</td>\n",
       "      <td>0.0</td>\n",
       "    </tr>\n",
       "    <tr>\n",
       "      <th>8</th>\n",
       "      <td>17</td>\n",
       "      <td>1.0</td>\n",
       "      <td>0.745098</td>\n",
       "      <td>0.745098</td>\n",
       "      <td>0.745098</td>\n",
       "      <td>1.0</td>\n",
       "      <td>0.0</td>\n",
       "      <td>0.0</td>\n",
       "      <td>0.0</td>\n",
       "    </tr>\n",
       "    <tr>\n",
       "      <th>9</th>\n",
       "      <td>27</td>\n",
       "      <td>1.0</td>\n",
       "      <td>0.941176</td>\n",
       "      <td>0.941176</td>\n",
       "      <td>0.941176</td>\n",
       "      <td>1.0</td>\n",
       "      <td>0.0</td>\n",
       "      <td>0.0</td>\n",
       "      <td>0.0</td>\n",
       "    </tr>\n",
       "    <tr>\n",
       "      <th>10</th>\n",
       "      <td>38</td>\n",
       "      <td>1.0</td>\n",
       "      <td>0.686275</td>\n",
       "      <td>0.686275</td>\n",
       "      <td>0.686275</td>\n",
       "      <td>1.0</td>\n",
       "      <td>0.0</td>\n",
       "      <td>0.0</td>\n",
       "      <td>0.0</td>\n",
       "    </tr>\n",
       "    <tr>\n",
       "      <th>11</th>\n",
       "      <td>40</td>\n",
       "      <td>1.0</td>\n",
       "      <td>0.941176</td>\n",
       "      <td>0.941176</td>\n",
       "      <td>0.941176</td>\n",
       "      <td>1.0</td>\n",
       "      <td>0.0</td>\n",
       "      <td>0.0</td>\n",
       "      <td>0.0</td>\n",
       "    </tr>\n",
       "  </tbody>\n",
       "</table>\n",
       "</div>"
      ],
      "text/plain": [
       "    q_id  docave_p  docave_r  docave_f1  docave_iou  docsum_p  docsum_r   \n",
       "0      0       1.0  0.009804   0.009804    0.009804       1.0       0.0  \\\n",
       "1      1       1.0  0.000000   0.000000    0.000000       1.0       0.0   \n",
       "2      5       1.0  0.745098   0.745098    0.745098       1.0       0.0   \n",
       "3      6       1.0  0.843137   0.843137    0.843137       1.0       0.0   \n",
       "4      7       1.0  0.186275   0.186275    0.186275       1.0       0.0   \n",
       "5      8       1.0  0.970588   0.970588    0.970588       1.0       0.0   \n",
       "6     14       1.0  0.931373   0.931373    0.931373       1.0       0.0   \n",
       "7     15       1.0  0.725490   0.725490    0.725490       1.0       0.0   \n",
       "8     17       1.0  0.745098   0.745098    0.745098       1.0       0.0   \n",
       "9     27       1.0  0.941176   0.941176    0.941176       1.0       0.0   \n",
       "10    38       1.0  0.686275   0.686275    0.686275       1.0       0.0   \n",
       "11    40       1.0  0.941176   0.941176    0.941176       1.0       0.0   \n",
       "\n",
       "    docsum_f1  docsum_iou  \n",
       "0         0.0         0.0  \n",
       "1         0.0         0.0  \n",
       "2         0.0         0.0  \n",
       "3         0.0         0.0  \n",
       "4         0.0         0.0  \n",
       "5         0.0         0.0  \n",
       "6         0.0         0.0  \n",
       "7         0.0         0.0  \n",
       "8         0.0         0.0  \n",
       "9         0.0         0.0  \n",
       "10        0.0         0.0  \n",
       "11        0.0         0.0  "
      ]
     },
     "execution_count": 44,
     "metadata": {},
     "output_type": "execute_result"
    }
   ],
   "source": [
    "met_df = get_clause_metrics(test_meta_ood, pred_df[pred_df['type'] > 0])\n",
    "met_df"
   ]
  },
  {
   "cell_type": "code",
   "execution_count": 45,
   "metadata": {},
   "outputs": [],
   "source": [
    "ground_df = test_meta_ood\n",
    "q2df_ground = {k:v for k,v in ground_df.groupby('q_id')}\n",
    "q2df_pred = {k:v for k,v in pred_df.groupby('q_id')}\n",
    "\n",
    "# get metrics of each q_id\n",
    "q2met = {}\n",
    "q2whole = {}\n",
    "# for q_id in q2df_ground.keys():\n",
    "for q_id in [5,6]:\n",
    "    q2met[q_id], q2whole[q_id] = cal_collective_point_metrics(q2df_ground[q_id], q2df_pred[q_id], return_whole = True)"
   ]
  },
  {
   "cell_type": "code",
   "execution_count": 52,
   "metadata": {},
   "outputs": [
    {
     "data": {
      "text/plain": [
       "0"
      ]
     },
     "execution_count": 52,
     "metadata": {},
     "output_type": "execute_result"
    }
   ],
   "source": [
    "q2whole[6]['n_pred'].sum()"
   ]
  },
  {
   "cell_type": "code",
   "execution_count": 55,
   "metadata": {},
   "outputs": [
    {
     "data": {
      "text/plain": [
       "type\n",
       "0    120640\n",
       "2     25638\n",
       "3     14819\n",
       "1      1274\n",
       "Name: count, dtype: int64"
      ]
     },
     "execution_count": 55,
     "metadata": {},
     "output_type": "execute_result"
    }
   ],
   "source": [
    "test_meta_id['type'].value_counts()"
   ]
  },
  {
   "cell_type": "code",
   "execution_count": 47,
   "metadata": {},
   "outputs": [
    {
     "data": {
      "text/plain": [
       "0"
      ]
     },
     "execution_count": 47,
     "metadata": {},
     "output_type": "execute_result"
    }
   ],
   "source": [
    "q2whole[5]['n_joint'].sum()"
   ]
  },
  {
   "cell_type": "code",
   "execution_count": 8,
   "metadata": {},
   "outputs": [
    {
     "name": "stdout",
     "output_type": "stream",
     "text": [
      "Handle runs/ood/flan-t5-large/seed42_tr29/pmt_01_lr1e-4_bs16_wd0.0/checkpoint-3721\n",
      "Handle runs/ood/flan-t5-large/seed42_tr29/pmt_01_lr1e-4_bs16_wd0.0/checkpoint-7442\n",
      "Handle runs/ood/flan-t5-large/seed42_tr29/pmt_01_lr1e-4_bs16_wd0.0/checkpoint-11163\n",
      "Handle runs/ood/flan-t5-large/seed42_tr29/pmt_01_lr1e-4_bs16_wd0.0/checkpoint-14884\n",
      "Handle runs/ood/flan-t5-large/seed42_tr29/pmt_01_lr1e-4_bs16_wd0.0/checkpoint-18605\n"
     ]
    }
   ],
   "source": [
    "# Handle flan-t5\n",
    "run_dir = Path('runs/ood/flan-t5-large/seed42_tr29/pmt_01_lr1e-4_bs16_wd0.0')\n",
    "ckpt_dirs = get_ckpt_paths(run_dir)\n",
    "for ckpt_dir in ckpt_dirs:\n",
    "    print(f'Handle {ckpt_dir}')\n",
    "    # handle_one_ckpt(ckpt_dir, True, overwrite = True)\n",
    "    handle_one_ckpt(ckpt_dir, False, overwrite=True)"
   ]
  },
  {
   "cell_type": "code",
   "execution_count": 9,
   "metadata": {},
   "outputs": [
    {
     "name": "stdout",
     "output_type": "stream",
     "text": [
      "----------OOD Metrics\n",
      "checkpoint-3721: docsum_p= 0.6677; docsum_r= 0.3039; docsum_f1= 0.3792; docsum_iou= 0.2715\n",
      "checkpoint-7442: docsum_p= 0.6596; docsum_r= 0.2997; docsum_f1= 0.3531; docsum_iou= 0.2542\n",
      "checkpoint-11163: docsum_p= 0.6157; docsum_r= 0.3693; docsum_f1= 0.3968; docsum_iou= 0.2819\n",
      "checkpoint-14884: docsum_p= 0.6086; docsum_r= 0.3902; docsum_f1= 0.4004; docsum_iou= 0.2912\n",
      "checkpoint-18605: docsum_p= 0.6297; docsum_r= 0.3388; docsum_f1= 0.3721; docsum_iou= 0.2662\n",
      "----------In-distribution Metrics\n",
      "checkpoint-3721: docsum_p= 0.7156; docsum_r= 0.4190; docsum_f1= 0.4503; docsum_iou= 0.3194\n",
      "checkpoint-7442: docsum_p= 0.7133; docsum_r= 0.4697; docsum_f1= 0.4878; docsum_iou= 0.3585\n",
      "checkpoint-11163: docsum_p= 0.6194; docsum_r= 0.5206; docsum_f1= 0.4992; docsum_iou= 0.3564\n",
      "checkpoint-14884: docsum_p= 0.6086; docsum_r= 0.5297; docsum_f1= 0.5188; docsum_iou= 0.3741\n",
      "checkpoint-18605: docsum_p= 0.6870; docsum_r= 0.4989; docsum_f1= 0.5112; docsum_iou= 0.3698\n"
     ]
    }
   ],
   "source": [
    "print('-'*10 + 'OOD Metrics')\n",
    "for ckpt in ckpt_dirs:\n",
    "    print_critic_metrics(ckpt, is_ood = True)\n",
    "print('-'*10 + 'In-distribution Metrics')\n",
    "for ckpt in ckpt_dirs:\n",
    "    print_critic_metrics(ckpt, is_ood = False)"
   ]
  },
  {
   "cell_type": "code",
   "execution_count": 10,
   "metadata": {},
   "outputs": [
    {
     "name": "stdout",
     "output_type": "stream",
     "text": [
      "Handle runs/ood/phi-1_5/seed42_tr29/pmt_01_lr1e-5_bs16_wd0.0/checkpoint-14886\n",
      "Handle runs/ood/phi-1_5/seed42_tr29/pmt_01_lr1e-5_bs16_wd0.0/checkpoint-29772\n",
      "Handle runs/ood/phi-1_5/seed42_tr29/pmt_01_lr1e-5_bs16_wd0.0/checkpoint-44658\n",
      "Handle runs/ood/phi-1_5/seed42_tr29/pmt_01_lr1e-5_bs16_wd0.0/checkpoint-59544\n",
      "Handle runs/ood/phi-1_5/seed42_tr29/pmt_01_lr1e-5_bs16_wd0.0/checkpoint-74430\n"
     ]
    }
   ],
   "source": [
    "# Handle phi-1_5\n",
    "run_dir = Path('runs/ood/phi-1_5/seed42_tr29/pmt_01_lr1e-5_bs16_wd0.0')\n",
    "ckpt_dirs = get_ckpt_paths(run_dir)\n",
    "for ckpt_dir in ckpt_dirs:\n",
    "    print(f'Handle {ckpt_dir}')\n",
    "    handle_one_ckpt(ckpt_dir, is_ood = True, overwrite=True)\n",
    "    handle_one_ckpt(ckpt_dir, is_ood = False, overwrite=True)"
   ]
  },
  {
   "cell_type": "code",
   "execution_count": 11,
   "metadata": {},
   "outputs": [
    {
     "name": "stdout",
     "output_type": "stream",
     "text": [
      "----------OOD Metrics\n",
      "checkpoint-14886: docsum_p= 0.8745; docsum_r= 0.0302; docsum_f1= 0.0502; docsum_iou= 0.0286\n",
      "checkpoint-29772: docsum_p= 0.8243; docsum_r= 0.1390; docsum_f1= 0.1887; docsum_iou= 0.1187\n",
      "checkpoint-44658: docsum_p= 0.5644; docsum_r= 0.1820; docsum_f1= 0.2093; docsum_iou= 0.1252\n",
      "checkpoint-59544: docsum_p= 0.5487; docsum_r= 0.2138; docsum_f1= 0.2251; docsum_iou= 0.1344\n",
      "checkpoint-74430: docsum_p= 0.6264; docsum_r= 0.1933; docsum_f1= 0.2208; docsum_iou= 0.1345\n",
      "----------In-distribution Metrics\n",
      "checkpoint-14886: docsum_p= 0.9830; docsum_r= 0.0614; docsum_f1= 0.0738; docsum_iou= 0.0601\n",
      "checkpoint-29772: docsum_p= 0.8105; docsum_r= 0.1111; docsum_f1= 0.1528; docsum_iou= 0.1083\n",
      "checkpoint-44658: docsum_p= 0.6594; docsum_r= 0.1963; docsum_f1= 0.2513; docsum_iou= 0.1720\n",
      "checkpoint-59544: docsum_p= 0.6435; docsum_r= 0.2116; docsum_f1= 0.2512; docsum_iou= 0.1694\n",
      "checkpoint-74430: docsum_p= 0.6681; docsum_r= 0.1913; docsum_f1= 0.2421; docsum_iou= 0.1684\n"
     ]
    }
   ],
   "source": [
    "print('-'*10 + 'OOD Metrics')\n",
    "for ckpt in ckpt_dirs:\n",
    "    print_critic_metrics(ckpt, is_ood = True)\n",
    "print('-'*10 + 'In-distribution Metrics')\n",
    "for ckpt in ckpt_dirs:\n",
    "    print_critic_metrics(ckpt, is_ood = False)"
   ]
  },
  {
   "cell_type": "code",
   "execution_count": 15,
   "metadata": {},
   "outputs": [
    {
     "name": "stdout",
     "output_type": "stream",
     "text": [
      "Handle runs/ood/flan-t5-large/seed42_tr29/pmt_01_yes_no_lr1e-4_bs16_wd0.0/checkpoint-3721\n",
      "Handle runs/ood/flan-t5-large/seed42_tr29/pmt_01_yes_no_lr1e-4_bs16_wd0.0/checkpoint-7442\n",
      "Handle runs/ood/flan-t5-large/seed42_tr29/pmt_01_yes_no_lr1e-4_bs16_wd0.0/checkpoint-11163\n",
      "Handle runs/ood/flan-t5-large/seed42_tr29/pmt_01_yes_no_lr1e-4_bs16_wd0.0/checkpoint-14884\n",
      "Handle runs/ood/flan-t5-large/seed42_tr29/pmt_01_yes_no_lr1e-4_bs16_wd0.0/checkpoint-18605\n",
      "prediction not exist, skip. (predictions_ood_sampled.jsonl)\n",
      "Handle runs/ood/phi-1_5/seed42_tr29/pmt_01_yes_no_lr1e-5_bs16_wd0.0/checkpoint-7443\n",
      "prediction not exist, skip. (predictions_ood_sampled.jsonl)\n",
      "Handle runs/ood/phi-1_5/seed42_tr29/pmt_01_yes_no_lr1e-5_bs16_wd0.0/checkpoint-14886\n",
      "prediction not exist, skip. (predictions_ood_sampled.jsonl)\n",
      "Handle runs/ood/phi-1_5/seed42_tr29/pmt_01_yes_no_lr1e-5_bs16_wd0.0/checkpoint-22329\n",
      "Handle runs/ood/phi-1_5/seed42_tr29/pmt_01_yes_no_lr1e-5_bs16_wd0.0/checkpoint-29772\n"
     ]
    }
   ],
   "source": [
    "# Handle yes_no prompt\n",
    "run_dir = Path('runs/ood/flan-t5-large/seed42_tr29/pmt_01_yes_no_lr1e-4_bs16_wd0.0')\n",
    "ckpt_dirs = get_ckpt_paths(run_dir)\n",
    "for ckpt_dir in ckpt_dirs:\n",
    "    print(f'Handle {ckpt_dir}')\n",
    "    handle_one_ckpt(ckpt_dir, True, overwrite = False)\n",
    "    # handle_one_ckpt(ckpt_dir, False, overwrite=True)\n",
    "\n",
    "run_dir = Path('runs/ood/phi-1_5/seed42_tr29/pmt_01_yes_no_lr1e-5_bs16_wd0.0')\n",
    "ckpt_dirs = get_ckpt_paths(run_dir)\n",
    "for ckpt_dir in ckpt_dirs:\n",
    "    print(f'Handle {ckpt_dir}')\n",
    "    handle_one_ckpt(ckpt_dir, is_ood = True, overwrite=False)\n",
    "    # handle_one_ckpt(ckpt_dir, is_ood = False, overwrite=True)"
   ]
  },
  {
   "cell_type": "code",
   "execution_count": 17,
   "metadata": {},
   "outputs": [
    {
     "name": "stdout",
     "output_type": "stream",
     "text": [
      "----------OOD Metrics\n",
      "checkpoint-22329: docsum_p= 0.6411; docsum_r= 0.2050; docsum_f1= 0.2691; docsum_iou= 0.1739\n",
      "checkpoint-29772: docsum_p= 0.4363; docsum_r= 0.2907; docsum_f1= 0.3183; docsum_iou= 0.2068\n"
     ]
    }
   ],
   "source": [
    "# run_dir = Path('runs/ood/flan-t5-large/seed42_tr29/pmt_01_yes_no_lr1e-4_bs16_wd0.0')\n",
    "run_dir = Path('runs/ood/phi-1_5/seed42_tr29/pmt_01_yes_no_lr1e-5_bs16_wd0.0')\n",
    "ckpt_dirs = get_ckpt_paths(run_dir)\n",
    "print('-'*10 + 'OOD Metrics')\n",
    "for ckpt in ckpt_dirs:\n",
    "    print_critic_metrics(ckpt, is_ood = True)\n",
    "# print('-'*10 + 'In-distribution Metrics')\n",
    "# for ckpt in ckpt_dirs:\n",
    "#     print_critic_metrics(ckpt, is_ood = False)"
   ]
  },
  {
   "cell_type": "code",
   "execution_count": 6,
   "metadata": {},
   "outputs": [],
   "source": [
    "run_dir = Path('runs/ood/flan-t5-large/seed42_tr29/pmt_01_lr1e-4_bs16_wd0.0')\n",
    "ckpt_dirs = get_ckpt_paths(run_dir)\n",
    "save_path = ckpt_dirs[-1] / f'detail_metrics_ood_sampled.csv'\n",
    "met_df = pd.read_csv(save_path)"
   ]
  },
  {
   "cell_type": "code",
   "execution_count": 7,
   "metadata": {},
   "outputs": [
    {
     "data": {
      "text/html": [
       "<div>\n",
       "<style scoped>\n",
       "    .dataframe tbody tr th:only-of-type {\n",
       "        vertical-align: middle;\n",
       "    }\n",
       "\n",
       "    .dataframe tbody tr th {\n",
       "        vertical-align: top;\n",
       "    }\n",
       "\n",
       "    .dataframe thead th {\n",
       "        text-align: right;\n",
       "    }\n",
       "</style>\n",
       "<table border=\"1\" class=\"dataframe\">\n",
       "  <thead>\n",
       "    <tr style=\"text-align: right;\">\n",
       "      <th></th>\n",
       "      <th>q_id</th>\n",
       "      <th>macro_p</th>\n",
       "      <th>macro_r</th>\n",
       "      <th>macro_f1</th>\n",
       "      <th>macro_iou</th>\n",
       "      <th>micro_p</th>\n",
       "      <th>micro_r</th>\n",
       "      <th>micro_f1</th>\n",
       "      <th>micro_iou</th>\n",
       "    </tr>\n",
       "  </thead>\n",
       "  <tbody>\n",
       "    <tr>\n",
       "      <th>0</th>\n",
       "      <td>0</td>\n",
       "      <td>0.906668</td>\n",
       "      <td>0.899838</td>\n",
       "      <td>0.869500</td>\n",
       "      <td>0.868402</td>\n",
       "      <td>0.044362</td>\n",
       "      <td>0.067797</td>\n",
       "      <td>0.053631</td>\n",
       "      <td>0.027555</td>\n",
       "    </tr>\n",
       "    <tr>\n",
       "      <th>1</th>\n",
       "      <td>1</td>\n",
       "      <td>0.912169</td>\n",
       "      <td>0.836183</td>\n",
       "      <td>0.826645</td>\n",
       "      <td>0.825926</td>\n",
       "      <td>0.120419</td>\n",
       "      <td>0.035549</td>\n",
       "      <td>0.054893</td>\n",
       "      <td>0.028221</td>\n",
       "    </tr>\n",
       "    <tr>\n",
       "      <th>2</th>\n",
       "      <td>5</td>\n",
       "      <td>0.999218</td>\n",
       "      <td>0.991226</td>\n",
       "      <td>0.992081</td>\n",
       "      <td>0.991074</td>\n",
       "      <td>0.985143</td>\n",
       "      <td>0.478092</td>\n",
       "      <td>0.643764</td>\n",
       "      <td>0.474670</td>\n",
       "    </tr>\n",
       "    <tr>\n",
       "      <th>3</th>\n",
       "      <td>6</td>\n",
       "      <td>0.982684</td>\n",
       "      <td>0.994030</td>\n",
       "      <td>0.976903</td>\n",
       "      <td>0.976714</td>\n",
       "      <td>0.540166</td>\n",
       "      <td>0.724907</td>\n",
       "      <td>0.619048</td>\n",
       "      <td>0.448276</td>\n",
       "    </tr>\n",
       "    <tr>\n",
       "      <th>4</th>\n",
       "      <td>7</td>\n",
       "      <td>1.000000</td>\n",
       "      <td>0.961980</td>\n",
       "      <td>0.962353</td>\n",
       "      <td>0.961980</td>\n",
       "      <td>1.000000</td>\n",
       "      <td>0.583609</td>\n",
       "      <td>0.737062</td>\n",
       "      <td>0.583609</td>\n",
       "    </tr>\n",
       "    <tr>\n",
       "      <th>5</th>\n",
       "      <td>8</td>\n",
       "      <td>1.000000</td>\n",
       "      <td>0.996753</td>\n",
       "      <td>0.996753</td>\n",
       "      <td>0.996753</td>\n",
       "      <td>1.000000</td>\n",
       "      <td>0.000000</td>\n",
       "      <td>0.000000</td>\n",
       "      <td>0.000000</td>\n",
       "    </tr>\n",
       "    <tr>\n",
       "      <th>6</th>\n",
       "      <td>14</td>\n",
       "      <td>0.991546</td>\n",
       "      <td>0.995127</td>\n",
       "      <td>0.988871</td>\n",
       "      <td>0.988438</td>\n",
       "      <td>0.655654</td>\n",
       "      <td>0.732955</td>\n",
       "      <td>0.692153</td>\n",
       "      <td>0.529231</td>\n",
       "    </tr>\n",
       "    <tr>\n",
       "      <th>7</th>\n",
       "      <td>15</td>\n",
       "      <td>0.978583</td>\n",
       "      <td>0.983655</td>\n",
       "      <td>0.964295</td>\n",
       "      <td>0.963659</td>\n",
       "      <td>0.538407</td>\n",
       "      <td>0.579666</td>\n",
       "      <td>0.558275</td>\n",
       "      <td>0.387228</td>\n",
       "    </tr>\n",
       "    <tr>\n",
       "      <th>8</th>\n",
       "      <td>17</td>\n",
       "      <td>0.987993</td>\n",
       "      <td>0.964160</td>\n",
       "      <td>0.955229</td>\n",
       "      <td>0.954299</td>\n",
       "      <td>0.729139</td>\n",
       "      <td>0.326222</td>\n",
       "      <td>0.450768</td>\n",
       "      <td>0.290962</td>\n",
       "    </tr>\n",
       "    <tr>\n",
       "      <th>9</th>\n",
       "      <td>27</td>\n",
       "      <td>1.000000</td>\n",
       "      <td>0.980519</td>\n",
       "      <td>0.980519</td>\n",
       "      <td>0.980519</td>\n",
       "      <td>1.000000</td>\n",
       "      <td>0.000000</td>\n",
       "      <td>0.000000</td>\n",
       "      <td>0.000000</td>\n",
       "    </tr>\n",
       "    <tr>\n",
       "      <th>10</th>\n",
       "      <td>38</td>\n",
       "      <td>0.988690</td>\n",
       "      <td>0.977438</td>\n",
       "      <td>0.972512</td>\n",
       "      <td>0.967961</td>\n",
       "      <td>0.826601</td>\n",
       "      <td>0.381537</td>\n",
       "      <td>0.522091</td>\n",
       "      <td>0.353263</td>\n",
       "    </tr>\n",
       "    <tr>\n",
       "      <th>11</th>\n",
       "      <td>40</td>\n",
       "      <td>0.991342</td>\n",
       "      <td>0.992424</td>\n",
       "      <td>0.983766</td>\n",
       "      <td>0.983766</td>\n",
       "      <td>0.116949</td>\n",
       "      <td>0.155405</td>\n",
       "      <td>0.133462</td>\n",
       "      <td>0.071503</td>\n",
       "    </tr>\n",
       "  </tbody>\n",
       "</table>\n",
       "</div>"
      ],
      "text/plain": [
       "    q_id   macro_p   macro_r  macro_f1  macro_iou   micro_p   micro_r   \n",
       "0      0  0.906668  0.899838  0.869500   0.868402  0.044362  0.067797  \\\n",
       "1      1  0.912169  0.836183  0.826645   0.825926  0.120419  0.035549   \n",
       "2      5  0.999218  0.991226  0.992081   0.991074  0.985143  0.478092   \n",
       "3      6  0.982684  0.994030  0.976903   0.976714  0.540166  0.724907   \n",
       "4      7  1.000000  0.961980  0.962353   0.961980  1.000000  0.583609   \n",
       "5      8  1.000000  0.996753  0.996753   0.996753  1.000000  0.000000   \n",
       "6     14  0.991546  0.995127  0.988871   0.988438  0.655654  0.732955   \n",
       "7     15  0.978583  0.983655  0.964295   0.963659  0.538407  0.579666   \n",
       "8     17  0.987993  0.964160  0.955229   0.954299  0.729139  0.326222   \n",
       "9     27  1.000000  0.980519  0.980519   0.980519  1.000000  0.000000   \n",
       "10    38  0.988690  0.977438  0.972512   0.967961  0.826601  0.381537   \n",
       "11    40  0.991342  0.992424  0.983766   0.983766  0.116949  0.155405   \n",
       "\n",
       "    micro_f1  micro_iou  \n",
       "0   0.053631   0.027555  \n",
       "1   0.054893   0.028221  \n",
       "2   0.643764   0.474670  \n",
       "3   0.619048   0.448276  \n",
       "4   0.737062   0.583609  \n",
       "5   0.000000   0.000000  \n",
       "6   0.692153   0.529231  \n",
       "7   0.558275   0.387228  \n",
       "8   0.450768   0.290962  \n",
       "9   0.000000   0.000000  \n",
       "10  0.522091   0.353263  \n",
       "11  0.133462   0.071503  "
      ]
     },
     "execution_count": 7,
     "metadata": {},
     "output_type": "execute_result"
    }
   ],
   "source": [
    "met_df"
   ]
  },
  {
   "cell_type": "markdown",
   "metadata": {},
   "source": [
    "### Visualize"
   ]
  },
  {
   "cell_type": "code",
   "execution_count": 52,
   "metadata": {},
   "outputs": [],
   "source": [
    "import matplotlib.pyplot as plt"
   ]
  },
  {
   "cell_type": "code",
   "execution_count": 55,
   "metadata": {},
   "outputs": [],
   "source": [
    "run_dir = Path('runs/ood/flan-t5-large/seed42_tr29/pmt_01_lr1e-4_bs16_wd0.0')\n",
    "ckpt_dirs = get_ckpt_paths(run_dir)\n",
    "ckpt_dir = ckpt_dirs[-1]\n",
    "# get detail results\n",
    "save_path = ckpt_dir / f'detail_metrics_ood_sampled.csv'\n",
    "met_df_ood = pd.read_csv(save_path)\n",
    "iou_mat_ood = met_df_ood['micro_iou']\n",
    "\n",
    "save_path = ckpt_dir / f'detail_metrics_id_sampled.csv'\n",
    "met_df_id = pd.read_csv(save_path)\n",
    "iou_mat_id = met_df_id['micro_iou']"
   ]
  },
  {
   "cell_type": "code",
   "execution_count": 61,
   "metadata": {},
   "outputs": [],
   "source": [
    "all_info = pd.read_csv('data/clause/all_info.csv')\n",
    "q2name = {i: row['clause_type'] for i,row in all_info.iterrows()}"
   ]
  },
  {
   "cell_type": "code",
   "execution_count": 74,
   "metadata": {},
   "outputs": [],
   "source": [
    "def plot_clause_bar(met_df):\n",
    "    x_labels = met_df['q_id'].apply(lambda k: q2name[k]).to_list()\n",
    "    y = met_df['micro_iou'].to_list()\n",
    "    ax = plt.gca()\n",
    "    # fig, ax = plt.subplots()\n",
    "    ax.barh(range(len(y)), y)\n",
    "    ax.set_yticks(range(len(y)))\n",
    "    ax.set_yticklabels(x_labels)"
   ]
  },
  {
   "cell_type": "code",
   "execution_count": 75,
   "metadata": {},
   "outputs": [
    {
     "data": {
      "image/png": "[encoded data removed]",
      "text/plain": [
       "<Figure size 640x480 with 1 Axes>"
      ]
     },
     "metadata": {},
     "output_type": "display_data"
    }
   ],
   "source": [
    "plot_clause_bar(met_df_ood)"
   ]
  },
  {
   "cell_type": "code",
   "execution_count": 77,
   "metadata": {},
   "outputs": [
    {
     "data": {
      "image/png": "[encoded data removed]",
      "text/plain": [
       "<Figure size 600x1000 with 1 Axes>"
      ]
     },
     "metadata": {},
     "output_type": "display_data"
    }
   ],
   "source": [
    "plt.figure(figsize = (6,10))\n",
    "plot_clause_bar(met_df_id)"
   ]
  },
  {
   "cell_type": "code",
   "execution_count": 67,
   "metadata": {},
   "outputs": [
    {
     "data": {
      "text/plain": [
       "0                          Document Name\n",
       "1                                Parties\n",
       "2                           Renewal Term\n",
       "3     Notice Period To Terminate Renewal\n",
       "4                          Governing Law\n",
       "5                    Most Favored Nation\n",
       "6                      Non-Disparagement\n",
       "7            Termination For Convenience\n",
       "8                      Change Of Control\n",
       "9             Affiliate License-Licensor\n",
       "10                             Insurance\n",
       "11               Third Party Beneficiary\n",
       "Name: q_id, dtype: object"
      ]
     },
     "execution_count": 67,
     "metadata": {},
     "output_type": "execute_result"
    }
   ],
   "source": [
    "met_df_ood['q_id'].apply(lambda k: q2name[k])"
   ]
  },
  {
   "cell_type": "markdown",
   "metadata": {},
   "source": [
    "## Run Manage"
   ]
  },
  {
   "cell_type": "code",
   "execution_count": 2,
   "metadata": {},
   "outputs": [
    {
     "ename": "NameError",
     "evalue": "name 'Path' is not defined",
     "output_type": "error",
     "traceback": [
      "\u001b[0;31m---------------------------------------------------------------------------\u001b[0m",
      "\u001b[0;31mNameError\u001b[0m                                 Traceback (most recent call last)",
      "\u001b[1;32m/storage/rhshui/workspace/contract_review/scripts/jupyter/get_metrics.ipynb Cell 38\u001b[0m line \u001b[0;36m1\n\u001b[0;32m----> <a href='vscode-notebook-cell://ssh-remote%2Bnext-asus-2/storage/rhshui/workspace/contract_review/scripts/jupyter/get_metrics.ipynb#X45sdnNjb2RlLXJlbW90ZQ%3D%3D?line=0'>1</a>\u001b[0m top_dir \u001b[39m=\u001b[39m Path(\u001b[39m'\u001b[39m\u001b[39mruns/ood\u001b[39m\u001b[39m'\u001b[39m)\n\u001b[1;32m      <a href='vscode-notebook-cell://ssh-remote%2Bnext-asus-2/storage/rhshui/workspace/contract_review/scripts/jupyter/get_metrics.ipynb#X45sdnNjb2RlLXJlbW90ZQ%3D%3D?line=1'>2</a>\u001b[0m run_man \u001b[39m=\u001b[39m RunManager(top_dir, is_ood \u001b[39m=\u001b[39m \u001b[39mTrue\u001b[39;00m)\n",
      "\u001b[0;31mNameError\u001b[0m: name 'Path' is not defined"
     ]
    }
   ],
   "source": [
    "top_dir = Path('runs/ood')\n",
    "run_man = RunManager(top_dir, is_ood = True)"
   ]
  },
  {
   "cell_type": "code",
   "execution_count": 5,
   "metadata": {},
   "outputs": [
    {
     "data": {
      "text/html": [
       "<div>\n",
       "<style scoped>\n",
       "    .dataframe tbody tr th:only-of-type {\n",
       "        vertical-align: middle;\n",
       "    }\n",
       "\n",
       "    .dataframe tbody tr th {\n",
       "        vertical-align: top;\n",
       "    }\n",
       "\n",
       "    .dataframe thead th {\n",
       "        text-align: right;\n",
       "    }\n",
       "</style>\n",
       "<table border=\"1\" class=\"dataframe\">\n",
       "  <thead>\n",
       "    <tr style=\"text-align: right;\">\n",
       "      <th></th>\n",
       "      <th>model</th>\n",
       "      <th>split</th>\n",
       "      <th>run_name</th>\n",
       "      <th>has_pred</th>\n",
       "      <th>has_metric</th>\n",
       "    </tr>\n",
       "  </thead>\n",
       "  <tbody>\n",
       "    <tr>\n",
       "      <th>2</th>\n",
       "      <td>mistral_bos</td>\n",
       "      <td>seed89_tr29</td>\n",
       "      <td>pmt_01_yes_no_all_lr1e-5_bs16_wd0.0</td>\n",
       "      <td>0</td>\n",
       "      <td>0</td>\n",
       "    </tr>\n",
       "    <tr>\n",
       "      <th>3</th>\n",
       "      <td>mistral_bos</td>\n",
       "      <td>seed89_tr29</td>\n",
       "      <td>pmt_01_all_lr1e-5_bs16_wd0.0</td>\n",
       "      <td>0</td>\n",
       "      <td>0</td>\n",
       "    </tr>\n",
       "    <tr>\n",
       "      <th>6</th>\n",
       "      <td>mistral_bos</td>\n",
       "      <td>seed128_tr29</td>\n",
       "      <td>pmt_01_all_lr1e-5_bs16_wd0.0</td>\n",
       "      <td>0</td>\n",
       "      <td>0</td>\n",
       "    </tr>\n",
       "    <tr>\n",
       "      <th>7</th>\n",
       "      <td>mistral_bos</td>\n",
       "      <td>seed128_tr29</td>\n",
       "      <td>pmt_01_yes_no_all_lr1e-5_bs16_wd0.0</td>\n",
       "      <td>0</td>\n",
       "      <td>0</td>\n",
       "    </tr>\n",
       "    <tr>\n",
       "      <th>10</th>\n",
       "      <td>mistral</td>\n",
       "      <td>seed42_tr29</td>\n",
       "      <td>pmt_01_yes_no_all_lr1e-5_bs16_wd0.0</td>\n",
       "      <td>0</td>\n",
       "      <td>0</td>\n",
       "    </tr>\n",
       "    <tr>\n",
       "      <th>11</th>\n",
       "      <td>mistral</td>\n",
       "      <td>seed42_tr29</td>\n",
       "      <td>pmt_01_all_lr1e-5_bs16_wd0.0</td>\n",
       "      <td>0</td>\n",
       "      <td>0</td>\n",
       "    </tr>\n",
       "    <tr>\n",
       "      <th>13</th>\n",
       "      <td>llama3_bos</td>\n",
       "      <td>seed89_tr29</td>\n",
       "      <td>pmt_01_yes_no_all_lr1e-5_bs16_wd0.0</td>\n",
       "      <td>0</td>\n",
       "      <td>0</td>\n",
       "    </tr>\n",
       "    <tr>\n",
       "      <th>15</th>\n",
       "      <td>llama3_bos</td>\n",
       "      <td>seed128_tr29</td>\n",
       "      <td>pmt_01_yes_no_all_lr1e-5_bs16_wd0.0</td>\n",
       "      <td>0</td>\n",
       "      <td>0</td>\n",
       "    </tr>\n",
       "  </tbody>\n",
       "</table>\n",
       "</div>"
      ],
      "text/plain": [
       "          model         split                             run_name  has_pred   \n",
       "2   mistral_bos   seed89_tr29  pmt_01_yes_no_all_lr1e-5_bs16_wd0.0         0  \\\n",
       "3   mistral_bos   seed89_tr29         pmt_01_all_lr1e-5_bs16_wd0.0         0   \n",
       "6   mistral_bos  seed128_tr29         pmt_01_all_lr1e-5_bs16_wd0.0         0   \n",
       "7   mistral_bos  seed128_tr29  pmt_01_yes_no_all_lr1e-5_bs16_wd0.0         0   \n",
       "10      mistral   seed42_tr29  pmt_01_yes_no_all_lr1e-5_bs16_wd0.0         0   \n",
       "11      mistral   seed42_tr29         pmt_01_all_lr1e-5_bs16_wd0.0         0   \n",
       "13   llama3_bos   seed89_tr29  pmt_01_yes_no_all_lr1e-5_bs16_wd0.0         0   \n",
       "15   llama3_bos  seed128_tr29  pmt_01_yes_no_all_lr1e-5_bs16_wd0.0         0   \n",
       "\n",
       "    has_metric  \n",
       "2            0  \n",
       "3            0  \n",
       "6            0  \n",
       "7            0  \n",
       "10           0  \n",
       "11           0  \n",
       "13           0  \n",
       "15           0  "
      ]
     },
     "metadata": {},
     "output_type": "display_data"
    }
   ],
   "source": [
    "run_man.print_no_pred_runs()"
   ]
  },
  {
   "cell_type": "code",
   "execution_count": 7,
   "metadata": {},
   "outputs": [
    {
     "data": {
      "text/html": [
       "<div>\n",
       "<style scoped>\n",
       "    .dataframe tbody tr th:only-of-type {\n",
       "        vertical-align: middle;\n",
       "    }\n",
       "\n",
       "    .dataframe tbody tr th {\n",
       "        vertical-align: top;\n",
       "    }\n",
       "\n",
       "    .dataframe thead th {\n",
       "        text-align: right;\n",
       "    }\n",
       "</style>\n",
       "<table border=\"1\" class=\"dataframe\">\n",
       "  <thead>\n",
       "    <tr style=\"text-align: right;\">\n",
       "      <th></th>\n",
       "      <th>model</th>\n",
       "      <th>split</th>\n",
       "      <th>run_name</th>\n",
       "      <th>has_pred</th>\n",
       "      <th>has_metric</th>\n",
       "    </tr>\n",
       "  </thead>\n",
       "  <tbody>\n",
       "    <tr>\n",
       "      <th>0</th>\n",
       "      <td>flan-t5-large</td>\n",
       "      <td>seed42_tr29</td>\n",
       "      <td>pmt_01_lr1e-4_bs16_wd0.0</td>\n",
       "      <td>1</td>\n",
       "      <td>1</td>\n",
       "    </tr>\n",
       "    <tr>\n",
       "      <th>1</th>\n",
       "      <td>flan-t5-large</td>\n",
       "      <td>seed42_tr29</td>\n",
       "      <td>pmt_01_yes_no_lr1e-4_bs16_wd0.0</td>\n",
       "      <td>1</td>\n",
       "      <td>1</td>\n",
       "    </tr>\n",
       "    <tr>\n",
       "      <th>4</th>\n",
       "      <td>mistral_bos</td>\n",
       "      <td>seed42_tr29</td>\n",
       "      <td>pmt_01_all_lr1e-5_bs16_wd0.0</td>\n",
       "      <td>2</td>\n",
       "      <td>0</td>\n",
       "    </tr>\n",
       "    <tr>\n",
       "      <th>5</th>\n",
       "      <td>mistral_bos</td>\n",
       "      <td>seed42_tr29</td>\n",
       "      <td>pmt_01_yes_no_all_lr1e-5_bs16_wd0.0</td>\n",
       "      <td>2</td>\n",
       "      <td>0</td>\n",
       "    </tr>\n",
       "    <tr>\n",
       "      <th>8</th>\n",
       "      <td>phi-1_5</td>\n",
       "      <td>seed42_tr29</td>\n",
       "      <td>pmt_01_yes_no_lr1e-5_bs16_wd0.0</td>\n",
       "      <td>1</td>\n",
       "      <td>1</td>\n",
       "    </tr>\n",
       "    <tr>\n",
       "      <th>9</th>\n",
       "      <td>phi-1_5</td>\n",
       "      <td>seed42_tr29</td>\n",
       "      <td>pmt_01_lr1e-5_bs16_wd0.0</td>\n",
       "      <td>1</td>\n",
       "      <td>1</td>\n",
       "    </tr>\n",
       "    <tr>\n",
       "      <th>12</th>\n",
       "      <td>llama3_bos</td>\n",
       "      <td>seed89_tr29</td>\n",
       "      <td>pmt_01_all_lr1e-5_bs16_wd0.0</td>\n",
       "      <td>2</td>\n",
       "      <td>0</td>\n",
       "    </tr>\n",
       "    <tr>\n",
       "      <th>14</th>\n",
       "      <td>llama3_bos</td>\n",
       "      <td>seed128_tr29</td>\n",
       "      <td>pmt_01_all_lr1e-5_bs16_wd0.0</td>\n",
       "      <td>2</td>\n",
       "      <td>0</td>\n",
       "    </tr>\n",
       "    <tr>\n",
       "      <th>16</th>\n",
       "      <td>llama3_bos</td>\n",
       "      <td>seed42_tr29</td>\n",
       "      <td>pmt_01_lr1e-5_bs16_wd0.0</td>\n",
       "      <td>1</td>\n",
       "      <td>0</td>\n",
       "    </tr>\n",
       "    <tr>\n",
       "      <th>17</th>\n",
       "      <td>llama3_bos</td>\n",
       "      <td>seed42_tr29</td>\n",
       "      <td>pmt_01_yes_no_lr1e-5_bs16_wd0.0</td>\n",
       "      <td>1</td>\n",
       "      <td>0</td>\n",
       "    </tr>\n",
       "    <tr>\n",
       "      <th>18</th>\n",
       "      <td>llama3_bos</td>\n",
       "      <td>seed42_tr29</td>\n",
       "      <td>pmt_01_yes_no_all_lr1e-5_bs16_wd0.0</td>\n",
       "      <td>2</td>\n",
       "      <td>0</td>\n",
       "    </tr>\n",
       "    <tr>\n",
       "      <th>19</th>\n",
       "      <td>llama3_bos</td>\n",
       "      <td>seed42_tr29</td>\n",
       "      <td>pmt_01_all_lr1e-5_bs16_wd0.0</td>\n",
       "      <td>2</td>\n",
       "      <td>0</td>\n",
       "    </tr>\n",
       "    <tr>\n",
       "      <th>20</th>\n",
       "      <td>llama3_chat</td>\n",
       "      <td>seed42_tr29</td>\n",
       "      <td>pmt_01_all_lr1e-5_bs16_wd0.0</td>\n",
       "      <td>1</td>\n",
       "      <td>1</td>\n",
       "    </tr>\n",
       "    <tr>\n",
       "      <th>21</th>\n",
       "      <td>llama3</td>\n",
       "      <td>seed42_tr29</td>\n",
       "      <td>pmt_01_yes_no_all_lr1e-5_bs16_wd0.0</td>\n",
       "      <td>1</td>\n",
       "      <td>0</td>\n",
       "    </tr>\n",
       "    <tr>\n",
       "      <th>22</th>\n",
       "      <td>llama3</td>\n",
       "      <td>seed42_tr29</td>\n",
       "      <td>pmt_01_all_lr1e-5_bs16_wd0.0</td>\n",
       "      <td>1</td>\n",
       "      <td>0</td>\n",
       "    </tr>\n",
       "  </tbody>\n",
       "</table>\n",
       "</div>"
      ],
      "text/plain": [
       "            model         split                             run_name   \n",
       "0   flan-t5-large   seed42_tr29             pmt_01_lr1e-4_bs16_wd0.0  \\\n",
       "1   flan-t5-large   seed42_tr29      pmt_01_yes_no_lr1e-4_bs16_wd0.0   \n",
       "4     mistral_bos   seed42_tr29         pmt_01_all_lr1e-5_bs16_wd0.0   \n",
       "5     mistral_bos   seed42_tr29  pmt_01_yes_no_all_lr1e-5_bs16_wd0.0   \n",
       "8         phi-1_5   seed42_tr29      pmt_01_yes_no_lr1e-5_bs16_wd0.0   \n",
       "9         phi-1_5   seed42_tr29             pmt_01_lr1e-5_bs16_wd0.0   \n",
       "12     llama3_bos   seed89_tr29         pmt_01_all_lr1e-5_bs16_wd0.0   \n",
       "14     llama3_bos  seed128_tr29         pmt_01_all_lr1e-5_bs16_wd0.0   \n",
       "16     llama3_bos   seed42_tr29             pmt_01_lr1e-5_bs16_wd0.0   \n",
       "17     llama3_bos   seed42_tr29      pmt_01_yes_no_lr1e-5_bs16_wd0.0   \n",
       "18     llama3_bos   seed42_tr29  pmt_01_yes_no_all_lr1e-5_bs16_wd0.0   \n",
       "19     llama3_bos   seed42_tr29         pmt_01_all_lr1e-5_bs16_wd0.0   \n",
       "20    llama3_chat   seed42_tr29         pmt_01_all_lr1e-5_bs16_wd0.0   \n",
       "21         llama3   seed42_tr29  pmt_01_yes_no_all_lr1e-5_bs16_wd0.0   \n",
       "22         llama3   seed42_tr29         pmt_01_all_lr1e-5_bs16_wd0.0   \n",
       "\n",
       "    has_pred  has_metric  \n",
       "0          1           1  \n",
       "1          1           1  \n",
       "4          2           0  \n",
       "5          2           0  \n",
       "8          1           1  \n",
       "9          1           1  \n",
       "12         2           0  \n",
       "14         2           0  \n",
       "16         1           0  \n",
       "17         1           0  \n",
       "18         2           0  \n",
       "19         2           0  \n",
       "20         1           1  \n",
       "21         1           0  \n",
       "22         1           0  "
      ]
     },
     "execution_count": 7,
     "metadata": {},
     "output_type": "execute_result"
    }
   ],
   "source": [
    "run_man.runs[run_man.runs['has_pred'] > 0]"
   ]
  },
  {
   "cell_type": "code",
   "execution_count": 6,
   "metadata": {},
   "outputs": [],
   "source": [
    "# ckpt_details = run_man.ckpt_details\n",
    "# ckpt_details[ckpt_details.apply(lambda k: k['pred_sampled'] is not None, axis = 1)]"
   ]
  },
  {
   "cell_type": "code",
   "execution_count": 1,
   "metadata": {},
   "outputs": [
    {
     "ename": "NameError",
     "evalue": "name 'run_man' is not defined",
     "output_type": "error",
     "traceback": [
      "\u001b[0;31m---------------------------------------------------------------------------\u001b[0m",
      "\u001b[0;31mNameError\u001b[0m                                 Traceback (most recent call last)",
      "\u001b[1;32m/storage/rhshui/workspace/contract_review/scripts/jupyter/get_metrics.ipynb Cell 42\u001b[0m line \u001b[0;36m1\n\u001b[0;32m----> <a href='vscode-notebook-cell://ssh-remote%2Bnext-asus-2/storage/rhshui/workspace/contract_review/scripts/jupyter/get_metrics.ipynb#Y100sdnNjb2RlLXJlbW90ZQ%3D%3D?line=0'>1</a>\u001b[0m \u001b[39mfor\u001b[39;00m _, row \u001b[39min\u001b[39;00m run_man\u001b[39m.\u001b[39mruns[run_man\u001b[39m.\u001b[39mruns[\u001b[39m'\u001b[39m\u001b[39mhas_pred\u001b[39m\u001b[39m'\u001b[39m] \u001b[39m>\u001b[39m \u001b[39m0\u001b[39m]\u001b[39m.\u001b[39miterrows():\n\u001b[1;32m      <a href='vscode-notebook-cell://ssh-remote%2Bnext-asus-2/storage/rhshui/workspace/contract_review/scripts/jupyter/get_metrics.ipynb#Y100sdnNjb2RlLXJlbW90ZQ%3D%3D?line=1'>2</a>\u001b[0m     \u001b[39mif\u001b[39;00m \u001b[39m'\u001b[39m\u001b[39mphi\u001b[39m\u001b[39m'\u001b[39m \u001b[39min\u001b[39;00m row[\u001b[39m'\u001b[39m\u001b[39mmodel\u001b[39m\u001b[39m'\u001b[39m] \u001b[39mor\u001b[39;00m \u001b[39m'\u001b[39m\u001b[39mflan\u001b[39m\u001b[39m'\u001b[39m \u001b[39min\u001b[39;00m row[\u001b[39m'\u001b[39m\u001b[39mmodel\u001b[39m\u001b[39m'\u001b[39m]:\n\u001b[1;32m      <a href='vscode-notebook-cell://ssh-remote%2Bnext-asus-2/storage/rhshui/workspace/contract_review/scripts/jupyter/get_metrics.ipynb#Y100sdnNjb2RlLXJlbW90ZQ%3D%3D?line=2'>3</a>\u001b[0m         \u001b[39mcontinue\u001b[39;00m\n",
      "\u001b[0;31mNameError\u001b[0m: name 'run_man' is not defined"
     ]
    }
   ],
   "source": [
    "for _, row in run_man.runs[run_man.runs['has_pred'] > 0].iterrows():\n",
    "    if 'phi' in row['model'] or 'flan' in row['model']:\n",
    "        continue\n",
    "    run_path = 'runs/ood/{}/{}/{}'.format(row['model'], row['split'], row['run_name'])\n",
    "    print(f'Handle run {run_path}')\n",
    "    tk_names = ['llama3', 'mistral', 'phi2', 'flan-t5']\n",
    "    try:\n",
    "        tk_name = [k for k in tk_names if k in row['model']][0]\n",
    "    except:\n",
    "        print(f'missing tk_name for {row[\"model\"]}')\n",
    "        continue\n",
    "    test_meta_ood = pd.read_csv(f'data/ood_split/seed42_tr29/{tkn_name}/test_meta_ood.csv', converters = cvt)\n",
    "    run_man.cal_metrics_for_run(run_path, test_meta_ood, parse_pred)"
   ]
  },
  {
   "cell_type": "markdown",
   "metadata": {},
   "source": [
    "### Loss Plot"
   ]
  },
  {
   "cell_type": "code",
   "execution_count": 29,
   "metadata": {},
   "outputs": [
    {
     "data": {
      "image/png": "[encoded data removed]",
      "text/plain": [
       "<Figure size 640x480 with 1 Axes>"
      ]
     },
     "metadata": {},
     "output_type": "display_data"
    }
   ],
   "source": [
    "loss_dt = {\n",
    "    # 'flan-t5': get_loss_df_norm('runs/ood/flan-t5-large/seed42_tr29/pmt_01_lr1e-4_bs16_wd0.0'),\n",
    "    'flan-t5_yn': get_loss_df_norm('runs/ood/flan-t5-large/seed42_tr29/pmt_01_yes_no_lr1e-4_bs16_wd0.0'),\n",
    "    # 'llama3': get_loss_df_norm('runs/ood/llama3/seed42_tr29/pmt_01_all_lr1e-5_bs16_wd0.0'),\n",
    "    # 'llama3_kv': get_loss_df_norm('runs/ood/llama3/seed42_tr29/pmt_01_lr1e-5_bs16_wd0.0'),\n",
    "    'llama3_yn': get_loss_df_norm('runs/ood/llama3/seed42_tr29/pmt_01_yes_no_all_lr1e-5_bs16_wd0.0'),\n",
    "    'llama3_ynkv': get_loss_df_norm('runs/ood/llama3/seed42_tr29/pmt_01_yes_no_lr1e-5_bs16_wd0.0'),\n",
    "    'phi1': get_loss_df_norm('runs/ood/phi-1_5/seed42_tr29/pmt_01_lr1e-5_bs16_wd0.0'),\n",
    "    # 'mistral': get_loss_df_norm('runs/ood/mistral/seed42_tr29/pmt_01_all_lr1e-5_bs16_wd0.0'),\n",
    "    # 'mistral_yn': get_loss_df_norm('runs/ood/mistral/seed42_tr29/pmt_01_yes_no_all_lr1e-5_bs16_wd0.0'),\n",
    "}\n",
    "\n",
    "plot_multiple_loss(loss_dt, y_lim = 2)"
   ]
  },
  {
   "cell_type": "code",
   "execution_count": 28,
   "metadata": {},
   "outputs": [
    {
     "name": "stdout",
     "output_type": "stream",
     "text": [
      "<class 'pandas.core.frame.DataFrame'>\n",
      "     a    b    c\n",
      "a               \n",
      "1  1.0  1.5  5.5\n",
      "2  2.0  3.0  7.0\n",
      "3  3.0  4.0  8.0\n"
     ]
    }
   ],
   "source": [
    "x = pd.DataFrame({'a': [1,1,2,3], 'b': [1,2,3,4], 'c': [5,6,7,8]})\n",
    "r = x.groupby('a').apply(lambda k: k.mean())\n",
    "# r = x.groupby(['a', 'b']).apply(lambda k: pd.Series([k['a'].mean(), k['b'].mean()], index = ['am', 'bm']))\n",
    "print(type(r))\n",
    "print(r)"
   ]
  },
  {
   "cell_type": "code",
   "execution_count": 23,
   "metadata": {},
   "outputs": [
    {
     "name": "stdout",
     "output_type": "stream",
     "text": [
      "   a  b   am   bm\n",
      "0  1  1  1.0  1.0\n",
      "1  1  2  1.0  2.0\n",
      "2  2  3  2.0  3.0\n",
      "3  3  4  3.0  4.0\n"
     ]
    }
   ],
   "source": [
    "r2 = r.reset_index()\n",
    "print(r2)"
   ]
  },
  {
   "cell_type": "code",
   "execution_count": 30,
   "metadata": {},
   "outputs": [
    {
     "data": {
      "text/plain": [
       "{1: 1.0, 2: 2.0, 3: 3.0}"
      ]
     },
     "execution_count": 30,
     "metadata": {},
     "output_type": "execute_result"
    }
   ],
   "source": [
    "r['a'].to_dict()"
   ]
  },
  {
   "cell_type": "code",
   "execution_count": null,
   "metadata": {},
   "outputs": [],
   "source": []
  }
 ],
 "metadata": {
  "kernelspec": {
   "display_name": "llm",
   "language": "python",
   "name": "python3"
  },
  "language_info": {
   "codemirror_mode": {
    "name": "ipython",
    "version": 3
   },
   "file_extension": ".py",
   "mimetype": "text/x-python",
   "name": "python",
   "nbconvert_exporter": "python",
   "pygments_lexer": "ipython3",
   "version": "3.9.16"
  }
 },
 "nbformat": 4,
 "nbformat_minor": 2
}
