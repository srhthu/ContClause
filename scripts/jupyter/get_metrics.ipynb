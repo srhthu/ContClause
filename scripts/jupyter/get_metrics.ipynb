{
 "cells": [
  {
   "cell_type": "code",
   "execution_count": 18,
   "metadata": {
    "metadata": {}
   },
   "outputs": [],
   "source": [
    "import os\n",
    "import numpy as np\n",
    "import pandas as pd\n",
    "from pathlib import Path\n",
    "from ast import literal_eval\n",
    "from typing import List\n",
    "import re\n",
    "import importlib\n",
    "\n",
    "import context\n",
    "os.chdir(context.proj_dir)\n",
    "\n",
    "import cont_gen.utils\n",
    "importlib.reload(cont_gen.utils)\n",
    "import cont_gen.evaluate.cal_metrics\n",
    "importlib.reload(cont_gen.evaluate.cal_metrics)\n",
    "from cont_gen.utils import load_jsonl, save_jsonl, plot_multiple_loss, get_loss_df_norm,get_ckpt_paths, load_json, save_json\n",
    "from cont_gen.evaluate.cal_metrics import cal_collective_point_metrics, get_point_counts, get_doc_metrics, get_overall_metrics\n",
    "import cont_gen.evaluate.io\n",
    "importlib.reload(cont_gen.evaluate.io)\n",
    "from cont_gen.evaluate.io import RunManager"
   ]
  },
  {
   "cell_type": "code",
   "execution_count": 2,
   "metadata": {
    "metadata": {}
   },
   "outputs": [
    {
     "name": "stdout",
     "output_type": "stream",
     "text": [
      "Index(['title', 'para_idx', 'q_id', 'answers', 'type'], dtype='object')\n",
      "SUPPLY CONTRACT\n"
     ]
    }
   ],
   "source": [
    "# test_data_id = load_jsonl('data/ood_split/seed42_tr29/pmt_01/test_data_id.jsonl')\n",
    "# test_data_ood = load_jsonl('data/ood_split/seed42_tr29/pmt_01/test_data_ood.jsonl')\n",
    "cvt = {'answers': lambda k: ' '.join(literal_eval(k))}\n",
    "\n",
    "tkn_name = 'flan-t5'\n",
    "test_meta_id = pd.read_csv(f'data/ood_split/seed42_tr29/{tkn_name}/test_meta_id.csv', converters = cvt)\n",
    "test_meta_ood = pd.read_csv(f'data/ood_split/seed42_tr29/{tkn_name}/test_meta_ood.csv', converters = cvt)\n",
    "\n",
    "print(test_meta_ood.columns)\n",
    "print(test_meta_ood.iloc[0].answers)"
   ]
  },
  {
   "cell_type": "code",
   "execution_count": 3,
   "metadata": {
    "metadata": {}
   },
   "outputs": [],
   "source": [
    "def parse_pred(text: str):\n",
    "    if text == 'No' or text == 'No.':\n",
    "        return ''\n",
    "    else:\n",
    "        return text.removeprefix('Yes.')"
   ]
  },
  {
   "cell_type": "code",
   "execution_count": 8,
   "metadata": {},
   "outputs": [
    {
     "name": "stdout",
     "output_type": "stream",
     "text": [
      "{'micro_p': 0.03217318136617456, 'micro_r': 0.10611029819869822, 'micro_f1': 0.04937546957175056, 'micro_iou': 0.02531264669419001, 'macro_p': 0.02802847141949866, 'macro_r': 0.08791422378293313, 'macro_f1': 0.040198119671551936, 'macro_iou': 0.020889024866615147, 'doc_macro_p': 0.35347017268498937, 'doc_macro_r': 0.6742461800220525, 'doc_macro_f1': 0.2408546419743437, 'doc_macro_iou': 0.23295865998205725}\n"
     ]
    }
   ],
   "source": [
    "# This is an example\n",
    "run_dir = Path('runs/ood/t5-large/seed42_tr29/pmt_01_lr1e-4_bs16_wd0.0')\n",
    "# run_dir = Path('runs/ood/llama3_chat/seed42_tr29/pmt_01_all_lr1e-5_bs16_wd0.0')\n",
    "# run_dir = Path('runs/ood/mistral/seed42_tr29/pmt_01_yes_no_all_lr1e-5_bs16_wd0.0')\n",
    "ckpt_dirs = get_ckpt_paths(run_dir)\n",
    "\n",
    "pred_path = ckpt_dirs[0] / f'predictions_ood_sampled.jsonl'\n",
    "pred_df = pd.DataFrame(load_jsonl(pred_path))\n",
    "pred_df['prediction'] = pred_df['prediction'].apply(parse_pred)\n",
    "\n",
    "ov_mets, detail_df = get_overall_metrics(test_meta_ood, pred_df, lambda k: k)\n",
    "print(ov_mets)"
   ]
  },
  {
   "cell_type": "code",
   "execution_count": 6,
   "metadata": {},
   "outputs": [
    {
     "data": {
      "text/html": [
       "<div>\n",
       "<style scoped>\n",
       "    .dataframe tbody tr th:only-of-type {\n",
       "        vertical-align: middle;\n",
       "    }\n",
       "\n",
       "    .dataframe tbody tr th {\n",
       "        vertical-align: top;\n",
       "    }\n",
       "\n",
       "    .dataframe thead th {\n",
       "        text-align: right;\n",
       "    }\n",
       "</style>\n",
       "<table border=\"1\" class=\"dataframe\">\n",
       "  <thead>\n",
       "    <tr style=\"text-align: right;\">\n",
       "      <th></th>\n",
       "      <th>q_id</th>\n",
       "      <th>macro_p</th>\n",
       "      <th>macro_r</th>\n",
       "      <th>macro_f1</th>\n",
       "      <th>macro_iou</th>\n",
       "      <th>doc_macro_p</th>\n",
       "      <th>doc_macro_r</th>\n",
       "      <th>doc_macro_f1</th>\n",
       "      <th>doc_macro_iou</th>\n",
       "    </tr>\n",
       "  </thead>\n",
       "  <tbody>\n",
       "    <tr>\n",
       "      <th>0</th>\n",
       "      <td>0</td>\n",
       "      <td>0.385263</td>\n",
       "      <td>0.516949</td>\n",
       "      <td>0.441496</td>\n",
       "      <td>0.283282</td>\n",
       "      <td>0.675885</td>\n",
       "      <td>0.531182</td>\n",
       "      <td>0.429570</td>\n",
       "      <td>0.401444</td>\n",
       "    </tr>\n",
       "    <tr>\n",
       "      <th>1</th>\n",
       "      <td>1</td>\n",
       "      <td>0.336603</td>\n",
       "      <td>0.282844</td>\n",
       "      <td>0.307391</td>\n",
       "      <td>0.181608</td>\n",
       "      <td>0.666812</td>\n",
       "      <td>0.386982</td>\n",
       "      <td>0.290121</td>\n",
       "      <td>0.214509</td>\n",
       "    </tr>\n",
       "    <tr>\n",
       "      <th>2</th>\n",
       "      <td>5</td>\n",
       "      <td>0.913462</td>\n",
       "      <td>0.316140</td>\n",
       "      <td>0.469716</td>\n",
       "      <td>0.306947</td>\n",
       "      <td>0.974963</td>\n",
       "      <td>0.875835</td>\n",
       "      <td>0.881652</td>\n",
       "      <td>0.870350</td>\n",
       "    </tr>\n",
       "    <tr>\n",
       "      <th>3</th>\n",
       "      <td>6</td>\n",
       "      <td>0.464020</td>\n",
       "      <td>0.463445</td>\n",
       "      <td>0.463732</td>\n",
       "      <td>0.301856</td>\n",
       "      <td>0.901961</td>\n",
       "      <td>0.925966</td>\n",
       "      <td>0.855976</td>\n",
       "      <td>0.847535</td>\n",
       "    </tr>\n",
       "    <tr>\n",
       "      <th>4</th>\n",
       "      <td>7</td>\n",
       "      <td>0.961353</td>\n",
       "      <td>0.804484</td>\n",
       "      <td>0.875950</td>\n",
       "      <td>0.779281</td>\n",
       "      <td>0.985924</td>\n",
       "      <td>0.864924</td>\n",
       "      <td>0.875654</td>\n",
       "      <td>0.851210</td>\n",
       "    </tr>\n",
       "    <tr>\n",
       "      <th>5</th>\n",
       "      <td>8</td>\n",
       "      <td>1.000000</td>\n",
       "      <td>0.000000</td>\n",
       "      <td>0.000000</td>\n",
       "      <td>0.000000</td>\n",
       "      <td>1.000000</td>\n",
       "      <td>0.970588</td>\n",
       "      <td>0.970588</td>\n",
       "      <td>0.970588</td>\n",
       "    </tr>\n",
       "    <tr>\n",
       "      <th>6</th>\n",
       "      <td>14</td>\n",
       "      <td>0.945498</td>\n",
       "      <td>0.566761</td>\n",
       "      <td>0.708703</td>\n",
       "      <td>0.548831</td>\n",
       "      <td>0.995269</td>\n",
       "      <td>0.963938</td>\n",
       "      <td>0.967635</td>\n",
       "      <td>0.962598</td>\n",
       "    </tr>\n",
       "    <tr>\n",
       "      <th>7</th>\n",
       "      <td>15</td>\n",
       "      <td>0.605744</td>\n",
       "      <td>0.528073</td>\n",
       "      <td>0.564248</td>\n",
       "      <td>0.392998</td>\n",
       "      <td>0.896965</td>\n",
       "      <td>0.885742</td>\n",
       "      <td>0.797997</td>\n",
       "      <td>0.787937</td>\n",
       "    </tr>\n",
       "    <tr>\n",
       "      <th>8</th>\n",
       "      <td>17</td>\n",
       "      <td>0.752448</td>\n",
       "      <td>0.159360</td>\n",
       "      <td>0.263016</td>\n",
       "      <td>0.151421</td>\n",
       "      <td>0.962550</td>\n",
       "      <td>0.796807</td>\n",
       "      <td>0.795429</td>\n",
       "      <td>0.784138</td>\n",
       "    </tr>\n",
       "    <tr>\n",
       "      <th>9</th>\n",
       "      <td>27</td>\n",
       "      <td>0.949675</td>\n",
       "      <td>0.336207</td>\n",
       "      <td>0.496604</td>\n",
       "      <td>0.330322</td>\n",
       "      <td>0.997770</td>\n",
       "      <td>0.961713</td>\n",
       "      <td>0.970386</td>\n",
       "      <td>0.961474</td>\n",
       "    </tr>\n",
       "    <tr>\n",
       "      <th>10</th>\n",
       "      <td>38</td>\n",
       "      <td>0.896207</td>\n",
       "      <td>0.488747</td>\n",
       "      <td>0.632539</td>\n",
       "      <td>0.462565</td>\n",
       "      <td>0.958951</td>\n",
       "      <td>0.874695</td>\n",
       "      <td>0.888444</td>\n",
       "      <td>0.860882</td>\n",
       "    </tr>\n",
       "    <tr>\n",
       "      <th>11</th>\n",
       "      <td>40</td>\n",
       "      <td>0.235081</td>\n",
       "      <td>0.292793</td>\n",
       "      <td>0.260782</td>\n",
       "      <td>0.149942</td>\n",
       "      <td>0.921674</td>\n",
       "      <td>0.962784</td>\n",
       "      <td>0.891978</td>\n",
       "      <td>0.889221</td>\n",
       "    </tr>\n",
       "  </tbody>\n",
       "</table>\n",
       "</div>"
      ],
      "text/plain": [
       "    q_id   macro_p   macro_r  macro_f1  macro_iou  doc_macro_p  doc_macro_r   \n",
       "0      0  0.385263  0.516949  0.441496   0.283282     0.675885     0.531182  \\\n",
       "1      1  0.336603  0.282844  0.307391   0.181608     0.666812     0.386982   \n",
       "2      5  0.913462  0.316140  0.469716   0.306947     0.974963     0.875835   \n",
       "3      6  0.464020  0.463445  0.463732   0.301856     0.901961     0.925966   \n",
       "4      7  0.961353  0.804484  0.875950   0.779281     0.985924     0.864924   \n",
       "5      8  1.000000  0.000000  0.000000   0.000000     1.000000     0.970588   \n",
       "6     14  0.945498  0.566761  0.708703   0.548831     0.995269     0.963938   \n",
       "7     15  0.605744  0.528073  0.564248   0.392998     0.896965     0.885742   \n",
       "8     17  0.752448  0.159360  0.263016   0.151421     0.962550     0.796807   \n",
       "9     27  0.949675  0.336207  0.496604   0.330322     0.997770     0.961713   \n",
       "10    38  0.896207  0.488747  0.632539   0.462565     0.958951     0.874695   \n",
       "11    40  0.235081  0.292793  0.260782   0.149942     0.921674     0.962784   \n",
       "\n",
       "    doc_macro_f1  doc_macro_iou  \n",
       "0       0.429570       0.401444  \n",
       "1       0.290121       0.214509  \n",
       "2       0.881652       0.870350  \n",
       "3       0.855976       0.847535  \n",
       "4       0.875654       0.851210  \n",
       "5       0.970588       0.970588  \n",
       "6       0.967635       0.962598  \n",
       "7       0.797997       0.787937  \n",
       "8       0.795429       0.784138  \n",
       "9       0.970386       0.961474  \n",
       "10      0.888444       0.860882  \n",
       "11      0.891978       0.889221  "
      ]
     },
     "execution_count": 6,
     "metadata": {},
     "output_type": "execute_result"
    }
   ],
   "source": [
    "detail_df"
   ]
  },
  {
   "cell_type": "code",
   "execution_count": 9,
   "metadata": {},
   "outputs": [
    {
     "data": {
      "text/plain": [
       "0        - The buyer entrusts YICHANGTAI IMPORT AND EXP...\n",
       "1        - The buyer entrusts the entrusted party to pu...\n",
       "2        entrusted party to accept orders issued by the...\n",
       "3        entrusted party to accept orders and modify or...\n",
       "4        entrusted party to purchase the goods specifie...\n",
       "                               ...                        \n",
       "11911    shall be enforceable in accordance with the te...\n",
       "11912    shall be enforceable in accordance with the te...\n",
       "11913    shall be enforceable in accordance with the te...\n",
       "11914    shall be enforceable in accordance with the te...\n",
       "11915                                                     \n",
       "Name: prediction, Length: 11916, dtype: object"
      ]
     },
     "execution_count": 9,
     "metadata": {},
     "output_type": "execute_result"
    }
   ],
   "source": [
    "pred_df['prediction']"
   ]
  },
  {
   "cell_type": "markdown",
   "metadata": {},
   "source": [
    "## Run Manage"
   ]
  },
  {
   "cell_type": "code",
   "execution_count": 4,
   "metadata": {
    "metadata": {}
   },
   "outputs": [
    {
     "name": "stdout",
     "output_type": "stream",
     "text": [
      "{'runs/ood/t5-large/seed42_tr29/pmt_01_lr1e-3_bs16_wd0.0', 'runs/ood/t5-large/seed42_tr29/pmt_01_lr2e-4_bs16_wd0.0', 'runs/ood/t5-large/seed42_tr29/pmt_01_lr5e-4_bs16_wd0.0', 'runs/ood/t5-large/seed89_tr29/pmt_01_lr5e-4_bs16_wd0.0', 'runs/ood/t5-large/seed128_tr29/pmt_01_lr1e-3_bs16_wd0.0', 'runs/ood/t5-large/seed89_tr29/pmt_01_lr2e-4_bs16_wd0.0', 'runs/ood/t5-large/seed89_tr29/pmt_01_lr1e-3_bs16_wd0.0', 'runs/ood/t5-large/seed128_tr29/pmt_01_lr5e-4_bs16_wd0.0'}\n",
      "['runs/ood/mistral/seed89_tr29/pmt_01_yes_no_all_lr1e-5_bs16_wd0.0', 'runs/ood/t5-large/seed128_tr29/pmt_01_lr2e-4_bs16_wd0.0', 'runs/ood/llama3_chat/seed128_tr29/pmt_01_yes_no_all_lr1e-5_bs16_wd0.0', 'runs/ood/llama3_chat/seed89_tr29/pmt_01_yes_no_all_lr1e-5_bs16_wd0.0', 'runs/ood/mistral/seed128_tr29/pmt_01_yes_no_all_lr1e-5_bs16_wd0.0']\n"
     ]
    }
   ],
   "source": [
    "# Print runs to cal metric and to infer\n",
    "top_dir = Path('runs/ood')\n",
    "run_man = RunManager(top_dir, is_ood = True)\n",
    "\n",
    "print(run_man.get_runs_to_cal_met())\n",
    "runs_to_infer = [k for k in run_man.get_runs_to_infer() if 'bos' not in k]\n",
    "print(runs_to_infer)"
   ]
  },
  {
   "cell_type": "code",
   "execution_count": 5,
   "metadata": {
    "metadata": {}
   },
   "outputs": [
    {
     "name": "stdout",
     "output_type": "stream",
     "text": [
      "{'runs/ood/t5-large/seed42_tr29/pmt_01_lr1e-3_bs16_wd0.0', 'runs/ood/t5-large/seed42_tr29/pmt_01_lr2e-4_bs16_wd0.0', 'runs/ood/t5-large/seed42_tr29/pmt_01_lr5e-4_bs16_wd0.0', 'runs/ood/t5-large/seed89_tr29/pmt_01_lr5e-4_bs16_wd0.0', 'runs/ood/t5-large/seed128_tr29/pmt_01_lr1e-3_bs16_wd0.0', 'runs/ood/t5-large/seed89_tr29/pmt_01_lr2e-4_bs16_wd0.0', 'runs/ood/t5-large/seed89_tr29/pmt_01_lr1e-3_bs16_wd0.0', 'runs/ood/t5-large/seed128_tr29/pmt_01_lr5e-4_bs16_wd0.0'}\n",
      "['runs/ood/mistral/seed89_tr29/pmt_01_yes_no_all_lr1e-5_bs16_wd0.0', 'runs/ood/llama3/seed128_tr29/pmt_01_yes_no_all_lr1e-5_bs16_wd0.0', 'runs/ood/t5-large/seed128_tr29/pmt_01_lr2e-4_bs16_wd0.0', 'runs/ood/t5-large/seed89_tr29/pmt_01_lr2e-4_bs16_wd0.0', 'runs/ood/llama3_chat/seed128_tr29/pmt_01_yes_no_all_lr1e-5_bs16_wd0.0', 'runs/ood/llama3_chat/seed89_tr29/pmt_01_yes_no_all_lr1e-5_bs16_wd0.0', 'runs/ood/mistral/seed128_tr29/pmt_01_yes_no_all_lr1e-5_bs16_wd0.0']\n"
     ]
    }
   ],
   "source": [
    "# Print runs to cal metric and to infer for ID\n",
    "run_man_id = RunManager(top_dir, is_ood = False)\n",
    "\n",
    "print(run_man_id.get_runs_to_cal_met())\n",
    "runs_to_infer_id = [k for k in run_man_id.get_runs_to_infer() if 'bos' not in k]\n",
    "print(runs_to_infer_id)"
   ]
  },
  {
   "cell_type": "code",
   "execution_count": 23,
   "metadata": {},
   "outputs": [
    {
     "name": "stdout",
     "output_type": "stream",
     "text": [
      "67188\n",
      "67188\n",
      "0\n"
     ]
    }
   ],
   "source": [
    "pred_df = pd.DataFrame(load_jsonl('runs/ood/llama3_bos/seed89_tr29/pmt_01_all_lr1e-5_bs16_wd0.0/checkpoint-16484/predictions_ood_all.jsonl'))\n",
    "test_meta_ood = pd.read_csv(f'data/ood_split/seed42_tr29/llama3/test_meta_ood.csv', converters = cvt)\n",
    "print(len(test_meta_ood))\n",
    "print(len(pred_df))\n",
    "gr_rec = set(map(tuple, pred_df[pred_df['type'] > 0][['title', 'para_idx', 'q_id']].values.tolist()))\n",
    "pr_rec = set(map(tuple, pred_df[['title', 'para_idx', 'q_id']].values.tolist()))\n",
    "\n",
    "miss = [k for k in gr_rec if k not in pr_rec]\n",
    "print(len(miss))"
   ]
  },
  {
   "cell_type": "code",
   "execution_count": 73,
   "metadata": {},
   "outputs": [
    {
     "data": {
      "text/html": [
       "<div>\n",
       "<style scoped>\n",
       "    .dataframe tbody tr th:only-of-type {\n",
       "        vertical-align: middle;\n",
       "    }\n",
       "\n",
       "    .dataframe tbody tr th {\n",
       "        vertical-align: top;\n",
       "    }\n",
       "\n",
       "    .dataframe thead th {\n",
       "        text-align: right;\n",
       "    }\n",
       "</style>\n",
       "<table border=\"1\" class=\"dataframe\">\n",
       "  <thead>\n",
       "    <tr style=\"text-align: right;\">\n",
       "      <th></th>\n",
       "      <th>run_path</th>\n",
       "      <th>ckpt</th>\n",
       "      <th>pred_all</th>\n",
       "      <th>pred_sampled</th>\n",
       "      <th>metric_all</th>\n",
       "      <th>metric_sampled</th>\n",
       "    </tr>\n",
       "  </thead>\n",
       "  <tbody>\n",
       "    <tr>\n",
       "      <th>110</th>\n",
       "      <td>runs/ood/llama3/seed42_tr29/pmt_01_all_lr1e-5_...</td>\n",
       "      <td>checkpoint-15692</td>\n",
       "      <td>None</td>\n",
       "      <td>runs/ood/llama3/seed42_tr29/pmt_01_all_lr1e-5_...</td>\n",
       "      <td>None</td>\n",
       "      <td>runs/ood/llama3/seed42_tr29/pmt_01_all_lr1e-5_...</td>\n",
       "    </tr>\n",
       "    <tr>\n",
       "      <th>111</th>\n",
       "      <td>runs/ood/llama3/seed42_tr29/pmt_01_all_lr1e-5_...</td>\n",
       "      <td>checkpoint-31384</td>\n",
       "      <td>None</td>\n",
       "      <td>runs/ood/llama3/seed42_tr29/pmt_01_all_lr1e-5_...</td>\n",
       "      <td>None</td>\n",
       "      <td>runs/ood/llama3/seed42_tr29/pmt_01_all_lr1e-5_...</td>\n",
       "    </tr>\n",
       "    <tr>\n",
       "      <th>112</th>\n",
       "      <td>runs/ood/llama3/seed42_tr29/pmt_01_all_lr1e-5_...</td>\n",
       "      <td>checkpoint-47076</td>\n",
       "      <td>None</td>\n",
       "      <td>runs/ood/llama3/seed42_tr29/pmt_01_all_lr1e-5_...</td>\n",
       "      <td>None</td>\n",
       "      <td>runs/ood/llama3/seed42_tr29/pmt_01_all_lr1e-5_...</td>\n",
       "    </tr>\n",
       "    <tr>\n",
       "      <th>113</th>\n",
       "      <td>runs/ood/llama3/seed42_tr29/pmt_01_all_lr1e-5_...</td>\n",
       "      <td>checkpoint-62768</td>\n",
       "      <td>None</td>\n",
       "      <td>runs/ood/llama3/seed42_tr29/pmt_01_all_lr1e-5_...</td>\n",
       "      <td>None</td>\n",
       "      <td>runs/ood/llama3/seed42_tr29/pmt_01_all_lr1e-5_...</td>\n",
       "    </tr>\n",
       "    <tr>\n",
       "      <th>114</th>\n",
       "      <td>runs/ood/llama3/seed42_tr29/pmt_01_all_lr1e-5_...</td>\n",
       "      <td>checkpoint-78460</td>\n",
       "      <td>None</td>\n",
       "      <td>runs/ood/llama3/seed42_tr29/pmt_01_all_lr1e-5_...</td>\n",
       "      <td>None</td>\n",
       "      <td>runs/ood/llama3/seed42_tr29/pmt_01_all_lr1e-5_...</td>\n",
       "    </tr>\n",
       "  </tbody>\n",
       "</table>\n",
       "</div>"
      ],
      "text/plain": [
       "                                              run_path              ckpt   \n",
       "110  runs/ood/llama3/seed42_tr29/pmt_01_all_lr1e-5_...  checkpoint-15692  \\\n",
       "111  runs/ood/llama3/seed42_tr29/pmt_01_all_lr1e-5_...  checkpoint-31384   \n",
       "112  runs/ood/llama3/seed42_tr29/pmt_01_all_lr1e-5_...  checkpoint-47076   \n",
       "113  runs/ood/llama3/seed42_tr29/pmt_01_all_lr1e-5_...  checkpoint-62768   \n",
       "114  runs/ood/llama3/seed42_tr29/pmt_01_all_lr1e-5_...  checkpoint-78460   \n",
       "\n",
       "    pred_all                                       pred_sampled metric_all   \n",
       "110     None  runs/ood/llama3/seed42_tr29/pmt_01_all_lr1e-5_...       None  \\\n",
       "111     None  runs/ood/llama3/seed42_tr29/pmt_01_all_lr1e-5_...       None   \n",
       "112     None  runs/ood/llama3/seed42_tr29/pmt_01_all_lr1e-5_...       None   \n",
       "113     None  runs/ood/llama3/seed42_tr29/pmt_01_all_lr1e-5_...       None   \n",
       "114     None  runs/ood/llama3/seed42_tr29/pmt_01_all_lr1e-5_...       None   \n",
       "\n",
       "                                        metric_sampled  \n",
       "110  runs/ood/llama3/seed42_tr29/pmt_01_all_lr1e-5_...  \n",
       "111  runs/ood/llama3/seed42_tr29/pmt_01_all_lr1e-5_...  \n",
       "112  runs/ood/llama3/seed42_tr29/pmt_01_all_lr1e-5_...  \n",
       "113  runs/ood/llama3/seed42_tr29/pmt_01_all_lr1e-5_...  \n",
       "114  runs/ood/llama3/seed42_tr29/pmt_01_all_lr1e-5_...  "
      ]
     },
     "execution_count": 73,
     "metadata": {},
     "output_type": "execute_result"
    }
   ],
   "source": [
    "run_man.scan_top()\n",
    "\n",
    "run_man.ckpt_details[run_man.ckpt_details['run_path'] == 'runs/ood/llama3/seed42_tr29/pmt_01_all_lr1e-5_bs16_wd0.0']"
   ]
  },
  {
   "cell_type": "markdown",
   "metadata": {},
   "source": [
    "### Calculate Metrics"
   ]
  },
  {
   "cell_type": "code",
   "execution_count": 6,
   "metadata": {
    "metadata": {}
   },
   "outputs": [],
   "source": [
    "def get_tk_name(path):\n",
    "    if 't5' in path:\n",
    "        tk_name = 'flan-t5'\n",
    "    elif 'llama3' in path:\n",
    "        tk_name = 'llama3'\n",
    "    elif 'mistral' in path:\n",
    "        tk_name = 'mistral'\n",
    "    else:\n",
    "        print(f'missing tk_name for {path}')\n",
    "        tk_name = None\n",
    "    return tk_name"
   ]
  },
  {
   "cell_type": "code",
   "execution_count": 9,
   "metadata": {
    "metadata": {}
   },
   "outputs": [
    {
     "name": "stdout",
     "output_type": "stream",
     "text": [
      "0\n"
     ]
    }
   ],
   "source": [
    "dist = 'id'\n",
    "cvt = {'answers': lambda k: ' '.join(literal_eval(k))}\n",
    "if dist == 'ood':\n",
    "    cur_man = run_man\n",
    "else:\n",
    "    cur_man = run_man_id\n",
    "cur_man.scan_top()\n",
    "run_paths = cur_man.get_runs_to_cal_met()\n",
    "print(len(run_paths))\n",
    "for run_path in run_paths:\n",
    "    print(f'Handle run {run_path}')\n",
    "    # find tk_name\n",
    "    if 't5' in run_path:\n",
    "        tk_name = 'flan-t5'\n",
    "    elif 'llama3' in run_path:\n",
    "        tk_name = 'llama3'\n",
    "    elif 'mistral' in run_path:\n",
    "        tk_name = 'mistral'\n",
    "    else:\n",
    "        print(f'missing tk_name for {run_path}')\n",
    "        continue\n",
    "    split = Path(run_path).parts[-2]\n",
    "    test_meta_ood = pd.read_csv(f'data/ood_split/{split}/{tk_name}/test_meta_{dist}.csv', converters = cvt)\n",
    "    cur_man.cal_metrics_for_run(run_path, test_meta_ood, parse_pred)"
   ]
  },
  {
   "cell_type": "code",
   "execution_count": 20,
   "metadata": {
    "metadata": {}
   },
   "outputs": [
    {
     "name": "stdout",
     "output_type": "stream",
     "text": [
      "5, 5\n",
      "Best epoch:  3\n",
      "['macro_p', 'macro_r', 'macro_f1', 'macro_iou', 'micro_p', 'micro_r', 'micro_f1', 'micro_iou']\n",
      "77.34\t39.25\t46.68\t34.29\t75.88\t41.94\t54.02\t37.01\n"
     ]
    }
   ],
   "source": [
    "# print metrics for one run\n",
    "run_path = 'runs/ood/mistral/seed89_tr29/pmt_01_all_lr1e-5_bs16_wd0.0'\n",
    "rep_met = 'macro_iou'\n",
    "ood_steps, ood_mets = run_man.get_run_metrics(run_path, part = 'sampled')\n",
    "id_steps, id_mets = run_man_id.get_run_metrics(run_path, part = 'sampled')\n",
    "print(f'{len(ood_steps)}, {len(id_steps)}')\n",
    "if (ood_steps or id_steps):\n",
    "    if len(id_steps) > 0:\n",
    "        # find ckpt with best id\n",
    "        max_i = np.argmax(id_mets[rep_met].to_list())\n",
    "        best_step_id = id_steps[max_i]\n",
    "\n",
    "        ood_i = ood_steps.index(best_step_id)\n",
    "        print('Best epoch: ', ood_i)\n",
    "        run_mets = ood_mets.iloc[ood_i].to_dict()\n",
    "    else:\n",
    "        best_i = np.argmax(ood_mets[rep_met].to_list())\n",
    "        print('Best epoch: ', best_i)\n",
    "        run_mets = ood_mets.iloc[best_i].to_dict()\n",
    "    keys = [f'{a}_{b}' for a in ['macro', 'micro'] for b in ['p', 'r', 'f1', 'iou']]\n",
    "    values = [run_mets[k] for k in keys]\n",
    "    v_str = [f'{k*100:.2f}' for k in values]\n",
    "    print(keys)\n",
    "    print('\\t'.join(v_str))"
   ]
  },
  {
   "cell_type": "code",
   "execution_count": 17,
   "metadata": {
    "metadata": {}
   },
   "outputs": [
    {
     "data": {
      "text/html": [
       "<div>\n",
       "<style scoped>\n",
       "    .dataframe tbody tr th:only-of-type {\n",
       "        vertical-align: middle;\n",
       "    }\n",
       "\n",
       "    .dataframe tbody tr th {\n",
       "        vertical-align: top;\n",
       "    }\n",
       "\n",
       "    .dataframe thead th {\n",
       "        text-align: right;\n",
       "    }\n",
       "</style>\n",
       "<table border=\"1\" class=\"dataframe\">\n",
       "  <thead>\n",
       "    <tr style=\"text-align: right;\">\n",
       "      <th></th>\n",
       "      <th>doc_macro_f1</th>\n",
       "      <th>doc_macro_iou</th>\n",
       "      <th>doc_macro_p</th>\n",
       "      <th>doc_macro_r</th>\n",
       "      <th>macro_f1</th>\n",
       "      <th>macro_iou</th>\n",
       "      <th>macro_p</th>\n",
       "      <th>macro_r</th>\n",
       "      <th>micro_f1</th>\n",
       "      <th>micro_iou</th>\n",
       "      <th>micro_p</th>\n",
       "      <th>micro_r</th>\n",
       "    </tr>\n",
       "  </thead>\n",
       "  <tbody>\n",
       "    <tr>\n",
       "      <th>0</th>\n",
       "      <td>0.204797</td>\n",
       "      <td>0.196777</td>\n",
       "      <td>0.231785</td>\n",
       "      <td>0.779599</td>\n",
       "      <td>0.035237</td>\n",
       "      <td>0.018144</td>\n",
       "      <td>0.022652</td>\n",
       "      <td>0.142792</td>\n",
       "      <td>0.034387</td>\n",
       "      <td>0.017494</td>\n",
       "      <td>0.020747</td>\n",
       "      <td>0.100387</td>\n",
       "    </tr>\n",
       "    <tr>\n",
       "      <th>1</th>\n",
       "      <td>0.162191</td>\n",
       "      <td>0.150768</td>\n",
       "      <td>0.169720</td>\n",
       "      <td>0.807593</td>\n",
       "      <td>0.037890</td>\n",
       "      <td>0.019517</td>\n",
       "      <td>0.022432</td>\n",
       "      <td>0.223229</td>\n",
       "      <td>0.037475</td>\n",
       "      <td>0.019095</td>\n",
       "      <td>0.021028</td>\n",
       "      <td>0.172029</td>\n",
       "    </tr>\n",
       "    <tr>\n",
       "      <th>2</th>\n",
       "      <td>0.154592</td>\n",
       "      <td>0.142943</td>\n",
       "      <td>0.156367</td>\n",
       "      <td>0.818278</td>\n",
       "      <td>0.034332</td>\n",
       "      <td>0.017639</td>\n",
       "      <td>0.019445</td>\n",
       "      <td>0.256639</td>\n",
       "      <td>0.032780</td>\n",
       "      <td>0.016663</td>\n",
       "      <td>0.017848</td>\n",
       "      <td>0.200645</td>\n",
       "    </tr>\n",
       "    <tr>\n",
       "      <th>3</th>\n",
       "      <td>0.211272</td>\n",
       "      <td>0.200308</td>\n",
       "      <td>0.224687</td>\n",
       "      <td>0.809032</td>\n",
       "      <td>0.038372</td>\n",
       "      <td>0.019906</td>\n",
       "      <td>0.022941</td>\n",
       "      <td>0.209606</td>\n",
       "      <td>0.032395</td>\n",
       "      <td>0.016464</td>\n",
       "      <td>0.018048</td>\n",
       "      <td>0.158020</td>\n",
       "    </tr>\n",
       "    <tr>\n",
       "      <th>4</th>\n",
       "      <td>0.237651</td>\n",
       "      <td>0.227237</td>\n",
       "      <td>0.254772</td>\n",
       "      <td>0.804301</td>\n",
       "      <td>0.039103</td>\n",
       "      <td>0.020330</td>\n",
       "      <td>0.024086</td>\n",
       "      <td>0.194657</td>\n",
       "      <td>0.033333</td>\n",
       "      <td>0.016949</td>\n",
       "      <td>0.018931</td>\n",
       "      <td>0.139342</td>\n",
       "    </tr>\n",
       "  </tbody>\n",
       "</table>\n",
       "</div>"
      ],
      "text/plain": [
       "   doc_macro_f1  doc_macro_iou  doc_macro_p  doc_macro_r  macro_f1  macro_iou   \n",
       "0      0.204797       0.196777     0.231785     0.779599  0.035237   0.018144  \\\n",
       "1      0.162191       0.150768     0.169720     0.807593  0.037890   0.019517   \n",
       "2      0.154592       0.142943     0.156367     0.818278  0.034332   0.017639   \n",
       "3      0.211272       0.200308     0.224687     0.809032  0.038372   0.019906   \n",
       "4      0.237651       0.227237     0.254772     0.804301  0.039103   0.020330   \n",
       "\n",
       "    macro_p   macro_r  micro_f1  micro_iou   micro_p   micro_r  \n",
       "0  0.022652  0.142792  0.034387   0.017494  0.020747  0.100387  \n",
       "1  0.022432  0.223229  0.037475   0.019095  0.021028  0.172029  \n",
       "2  0.019445  0.256639  0.032780   0.016663  0.017848  0.200645  \n",
       "3  0.022941  0.209606  0.032395   0.016464  0.018048  0.158020  \n",
       "4  0.024086  0.194657  0.033333   0.016949  0.018931  0.139342  "
      ]
     },
     "execution_count": 17,
     "metadata": {},
     "output_type": "execute_result"
    }
   ],
   "source": [
    "id_mets"
   ]
  },
  {
   "cell_type": "code",
   "execution_count": 14,
   "metadata": {},
   "outputs": [
    {
     "data": {
      "text/html": [
       "<div>\n",
       "<style scoped>\n",
       "    .dataframe tbody tr th:only-of-type {\n",
       "        vertical-align: middle;\n",
       "    }\n",
       "\n",
       "    .dataframe tbody tr th {\n",
       "        vertical-align: top;\n",
       "    }\n",
       "\n",
       "    .dataframe thead th {\n",
       "        text-align: right;\n",
       "    }\n",
       "</style>\n",
       "<table border=\"1\" class=\"dataframe\">\n",
       "  <thead>\n",
       "    <tr style=\"text-align: right;\">\n",
       "      <th></th>\n",
       "      <th>doc_macro_f1</th>\n",
       "      <th>doc_macro_iou</th>\n",
       "      <th>doc_macro_p</th>\n",
       "      <th>doc_macro_r</th>\n",
       "      <th>macro_f1</th>\n",
       "      <th>macro_iou</th>\n",
       "      <th>macro_p</th>\n",
       "      <th>macro_r</th>\n",
       "      <th>micro_f1</th>\n",
       "      <th>micro_iou</th>\n",
       "      <th>micro_p</th>\n",
       "      <th>micro_r</th>\n",
       "    </tr>\n",
       "  </thead>\n",
       "  <tbody>\n",
       "    <tr>\n",
       "      <th>0</th>\n",
       "      <td>0.751984</td>\n",
       "      <td>0.743529</td>\n",
       "      <td>0.963737</td>\n",
       "      <td>0.765026</td>\n",
       "      <td>0.142655</td>\n",
       "      <td>0.082025</td>\n",
       "      <td>0.708667</td>\n",
       "      <td>0.176678</td>\n",
       "      <td>0.175624</td>\n",
       "      <td>0.096265</td>\n",
       "      <td>0.624893</td>\n",
       "      <td>0.102169</td>\n",
       "    </tr>\n",
       "    <tr>\n",
       "      <th>1</th>\n",
       "      <td>0.800513</td>\n",
       "      <td>0.778447</td>\n",
       "      <td>0.892485</td>\n",
       "      <td>0.850116</td>\n",
       "      <td>0.354649</td>\n",
       "      <td>0.237799</td>\n",
       "      <td>0.596096</td>\n",
       "      <td>0.392658</td>\n",
       "      <td>0.456463</td>\n",
       "      <td>0.295725</td>\n",
       "      <td>0.574039</td>\n",
       "      <td>0.378863</td>\n",
       "    </tr>\n",
       "    <tr>\n",
       "      <th>2</th>\n",
       "      <td>0.803273</td>\n",
       "      <td>0.780445</td>\n",
       "      <td>0.898886</td>\n",
       "      <td>0.850024</td>\n",
       "      <td>0.356888</td>\n",
       "      <td>0.242621</td>\n",
       "      <td>0.630320</td>\n",
       "      <td>0.390299</td>\n",
       "      <td>0.467068</td>\n",
       "      <td>0.304689</td>\n",
       "      <td>0.604460</td>\n",
       "      <td>0.380566</td>\n",
       "    </tr>\n",
       "    <tr>\n",
       "      <th>3</th>\n",
       "      <td>0.798526</td>\n",
       "      <td>0.779479</td>\n",
       "      <td>0.926541</td>\n",
       "      <td>0.821688</td>\n",
       "      <td>0.303998</td>\n",
       "      <td>0.197788</td>\n",
       "      <td>0.688727</td>\n",
       "      <td>0.317699</td>\n",
       "      <td>0.395347</td>\n",
       "      <td>0.246375</td>\n",
       "      <td>0.649544</td>\n",
       "      <td>0.284147</td>\n",
       "    </tr>\n",
       "    <tr>\n",
       "      <th>4</th>\n",
       "      <td>0.802612</td>\n",
       "      <td>0.781338</td>\n",
       "      <td>0.910671</td>\n",
       "      <td>0.840161</td>\n",
       "      <td>0.350684</td>\n",
       "      <td>0.235850</td>\n",
       "      <td>0.679559</td>\n",
       "      <td>0.371533</td>\n",
       "      <td>0.447483</td>\n",
       "      <td>0.288230</td>\n",
       "      <td>0.621908</td>\n",
       "      <td>0.349468</td>\n",
       "    </tr>\n",
       "  </tbody>\n",
       "</table>\n",
       "</div>"
      ],
      "text/plain": [
       "   doc_macro_f1  doc_macro_iou  doc_macro_p  doc_macro_r  macro_f1  macro_iou   \n",
       "0      0.751984       0.743529     0.963737     0.765026  0.142655   0.082025  \\\n",
       "1      0.800513       0.778447     0.892485     0.850116  0.354649   0.237799   \n",
       "2      0.803273       0.780445     0.898886     0.850024  0.356888   0.242621   \n",
       "3      0.798526       0.779479     0.926541     0.821688  0.303998   0.197788   \n",
       "4      0.802612       0.781338     0.910671     0.840161  0.350684   0.235850   \n",
       "\n",
       "    macro_p   macro_r  micro_f1  micro_iou   micro_p   micro_r  \n",
       "0  0.708667  0.176678  0.175624   0.096265  0.624893  0.102169  \n",
       "1  0.596096  0.392658  0.456463   0.295725  0.574039  0.378863  \n",
       "2  0.630320  0.390299  0.467068   0.304689  0.604460  0.380566  \n",
       "3  0.688727  0.317699  0.395347   0.246375  0.649544  0.284147  \n",
       "4  0.679559  0.371533  0.447483   0.288230  0.621908  0.349468  "
      ]
     },
     "execution_count": 14,
     "metadata": {},
     "output_type": "execute_result"
    }
   ],
   "source": [
    "ood_mets"
   ]
  },
  {
   "cell_type": "code",
   "execution_count": 13,
   "metadata": {
    "metadata": {}
   },
   "outputs": [
    {
     "data": {
      "text/html": [
       "<div>\n",
       "<style scoped>\n",
       "    .dataframe tbody tr th:only-of-type {\n",
       "        vertical-align: middle;\n",
       "    }\n",
       "\n",
       "    .dataframe tbody tr th {\n",
       "        vertical-align: top;\n",
       "    }\n",
       "\n",
       "    .dataframe thead th {\n",
       "        text-align: right;\n",
       "    }\n",
       "</style>\n",
       "<table border=\"1\" class=\"dataframe\">\n",
       "  <thead>\n",
       "    <tr style=\"text-align: right;\">\n",
       "      <th></th>\n",
       "      <th>model</th>\n",
       "      <th>split</th>\n",
       "      <th>run_name</th>\n",
       "      <th>has_pred</th>\n",
       "      <th>has_metric</th>\n",
       "    </tr>\n",
       "  </thead>\n",
       "  <tbody>\n",
       "    <tr>\n",
       "      <th>0</th>\n",
       "      <td>mixtral</td>\n",
       "      <td>seed42_tr29</td>\n",
       "      <td>pmt_01_all_lr1e-5_bs16_wd0.0</td>\n",
       "      <td>0</td>\n",
       "      <td>0</td>\n",
       "    </tr>\n",
       "    <tr>\n",
       "      <th>1</th>\n",
       "      <td>t5-large</td>\n",
       "      <td>seed42_tr29</td>\n",
       "      <td>pmt_01_yes_no_lr1e-4_bs16_wd0.0</td>\n",
       "      <td>1</td>\n",
       "      <td>1</td>\n",
       "    </tr>\n",
       "    <tr>\n",
       "      <th>2</th>\n",
       "      <td>t5-large</td>\n",
       "      <td>seed42_tr29</td>\n",
       "      <td>pmt_01_lr1e-4_bs16_wd0.0</td>\n",
       "      <td>1</td>\n",
       "      <td>1</td>\n",
       "    </tr>\n",
       "    <tr>\n",
       "      <th>3</th>\n",
       "      <td>t5-large</td>\n",
       "      <td>seed128_tr29</td>\n",
       "      <td>pmt_01_lr1e-4_bs16_wd0.0</td>\n",
       "      <td>1</td>\n",
       "      <td>0</td>\n",
       "    </tr>\n",
       "    <tr>\n",
       "      <th>4</th>\n",
       "      <td>t5-large</td>\n",
       "      <td>seed128_tr29</td>\n",
       "      <td>pmt_01_yes_no_lr1e-4_bs16_wd0.0</td>\n",
       "      <td>1</td>\n",
       "      <td>1</td>\n",
       "    </tr>\n",
       "    <tr>\n",
       "      <th>5</th>\n",
       "      <td>t5-large</td>\n",
       "      <td>seed89_tr29</td>\n",
       "      <td>pmt_01_lr1e-4_bs16_wd0.0</td>\n",
       "      <td>1</td>\n",
       "      <td>1</td>\n",
       "    </tr>\n",
       "    <tr>\n",
       "      <th>6</th>\n",
       "      <td>t5-large</td>\n",
       "      <td>seed89_tr29</td>\n",
       "      <td>pmt_01_yes_no_lr1e-4_bs16_wd0.0</td>\n",
       "      <td>1</td>\n",
       "      <td>1</td>\n",
       "    </tr>\n",
       "    <tr>\n",
       "      <th>7</th>\n",
       "      <td>flan-t5-xl</td>\n",
       "      <td>seed42_tr29</td>\n",
       "      <td>pmt_01_lr1e-4_bs16_wd0.0</td>\n",
       "      <td>0</td>\n",
       "      <td>0</td>\n",
       "    </tr>\n",
       "    <tr>\n",
       "      <th>8</th>\n",
       "      <td>flan-t5-xl</td>\n",
       "      <td>seed128_tr29</td>\n",
       "      <td>pmt_01_lr1e-4_bs16_wd0.0</td>\n",
       "      <td>0</td>\n",
       "      <td>0</td>\n",
       "    </tr>\n",
       "    <tr>\n",
       "      <th>9</th>\n",
       "      <td>flan-t5-xl</td>\n",
       "      <td>seed89_tr29</td>\n",
       "      <td>pmt_01_lr1e-4_bs16_wd0.0</td>\n",
       "      <td>0</td>\n",
       "      <td>0</td>\n",
       "    </tr>\n",
       "    <tr>\n",
       "      <th>10</th>\n",
       "      <td>flan-t5-large</td>\n",
       "      <td>seed89_tr29</td>\n",
       "      <td>pmt_01_yes_no_lr1e-4_bs16_wd0.0</td>\n",
       "      <td>1</td>\n",
       "      <td>1</td>\n",
       "    </tr>\n",
       "    <tr>\n",
       "      <th>11</th>\n",
       "      <td>flan-t5-large</td>\n",
       "      <td>seed89_tr29</td>\n",
       "      <td>pmt_01_lr1e-4_bs16_wd0.0</td>\n",
       "      <td>1</td>\n",
       "      <td>1</td>\n",
       "    </tr>\n",
       "    <tr>\n",
       "      <th>12</th>\n",
       "      <td>flan-t5-large</td>\n",
       "      <td>seed128_tr29</td>\n",
       "      <td>pmt_01_lr1e-4_bs16_wd0.0</td>\n",
       "      <td>1</td>\n",
       "      <td>1</td>\n",
       "    </tr>\n",
       "    <tr>\n",
       "      <th>13</th>\n",
       "      <td>flan-t5-large</td>\n",
       "      <td>seed128_tr29</td>\n",
       "      <td>pmt_01_yes_no_lr1e-4_bs16_wd0.0</td>\n",
       "      <td>1</td>\n",
       "      <td>1</td>\n",
       "    </tr>\n",
       "    <tr>\n",
       "      <th>14</th>\n",
       "      <td>flan-t5-large</td>\n",
       "      <td>seed42_tr29</td>\n",
       "      <td>pmt_01_yes_no_lr1e-4_bs16_wd0.0</td>\n",
       "      <td>1</td>\n",
       "      <td>1</td>\n",
       "    </tr>\n",
       "    <tr>\n",
       "      <th>15</th>\n",
       "      <td>flan-t5-large</td>\n",
       "      <td>seed42_tr29</td>\n",
       "      <td>pmt_01_lr1e-4_bs16_wd0.0</td>\n",
       "      <td>1</td>\n",
       "      <td>1</td>\n",
       "    </tr>\n",
       "    <tr>\n",
       "      <th>16</th>\n",
       "      <td>mistral</td>\n",
       "      <td>seed89_tr29</td>\n",
       "      <td>pmt_01_all_lr1e-5_bs16_wd0.0</td>\n",
       "      <td>1</td>\n",
       "      <td>1</td>\n",
       "    </tr>\n",
       "    <tr>\n",
       "      <th>17</th>\n",
       "      <td>mistral</td>\n",
       "      <td>seed89_tr29</td>\n",
       "      <td>pmt_01_yes_no_all_lr1e-5_bs16_wd0.0</td>\n",
       "      <td>0</td>\n",
       "      <td>0</td>\n",
       "    </tr>\n",
       "    <tr>\n",
       "      <th>18</th>\n",
       "      <td>mistral</td>\n",
       "      <td>seed42_tr29</td>\n",
       "      <td>pmt_01_yes_no_all_lr1e-5_bs16_wd0.0</td>\n",
       "      <td>1</td>\n",
       "      <td>1</td>\n",
       "    </tr>\n",
       "    <tr>\n",
       "      <th>19</th>\n",
       "      <td>mistral</td>\n",
       "      <td>seed42_tr29</td>\n",
       "      <td>pmt_01_all_lr1e-5_bs16_wd0.0</td>\n",
       "      <td>1</td>\n",
       "      <td>1</td>\n",
       "    </tr>\n",
       "    <tr>\n",
       "      <th>20</th>\n",
       "      <td>mistral</td>\n",
       "      <td>seed128_tr29</td>\n",
       "      <td>pmt_01_all_lr1e-5_bs16_wd0.0</td>\n",
       "      <td>1</td>\n",
       "      <td>1</td>\n",
       "    </tr>\n",
       "    <tr>\n",
       "      <th>21</th>\n",
       "      <td>mistral</td>\n",
       "      <td>seed128_tr29</td>\n",
       "      <td>pmt_01_yes_no_all_lr1e-5_bs16_wd0.0</td>\n",
       "      <td>0</td>\n",
       "      <td>0</td>\n",
       "    </tr>\n",
       "    <tr>\n",
       "      <th>22</th>\n",
       "      <td>mistral_chat</td>\n",
       "      <td>seed42_tr29</td>\n",
       "      <td>pmt_01_all_lr1e-5_bs16_wd0.0</td>\n",
       "      <td>1</td>\n",
       "      <td>1</td>\n",
       "    </tr>\n",
       "    <tr>\n",
       "      <th>23</th>\n",
       "      <td>mistral_chat</td>\n",
       "      <td>seed89_tr29</td>\n",
       "      <td>pmt_01_all_lr1e-5_bs16_wd0.0</td>\n",
       "      <td>1</td>\n",
       "      <td>1</td>\n",
       "    </tr>\n",
       "    <tr>\n",
       "      <th>24</th>\n",
       "      <td>mistral_chat</td>\n",
       "      <td>seed128_tr29</td>\n",
       "      <td>pmt_01_all_lr1e-5_bs16_wd0.0</td>\n",
       "      <td>1</td>\n",
       "      <td>1</td>\n",
       "    </tr>\n",
       "    <tr>\n",
       "      <th>25</th>\n",
       "      <td>llama3_chat</td>\n",
       "      <td>seed89_tr29</td>\n",
       "      <td>pmt_01_all_lr1e-5_bs16_wd0.0</td>\n",
       "      <td>1</td>\n",
       "      <td>1</td>\n",
       "    </tr>\n",
       "    <tr>\n",
       "      <th>26</th>\n",
       "      <td>llama3_chat</td>\n",
       "      <td>seed89_tr29</td>\n",
       "      <td>pmt_01_yes_no_all_lr1e-5_bs16_wd0.0</td>\n",
       "      <td>0</td>\n",
       "      <td>0</td>\n",
       "    </tr>\n",
       "    <tr>\n",
       "      <th>27</th>\n",
       "      <td>llama3_chat</td>\n",
       "      <td>seed128_tr29</td>\n",
       "      <td>pmt_01_yes_no_all_lr1e-5_bs16_wd0.0</td>\n",
       "      <td>0</td>\n",
       "      <td>0</td>\n",
       "    </tr>\n",
       "    <tr>\n",
       "      <th>28</th>\n",
       "      <td>llama3_chat</td>\n",
       "      <td>seed128_tr29</td>\n",
       "      <td>pmt_01_all_lr1e-5_bs16_wd0.0</td>\n",
       "      <td>1</td>\n",
       "      <td>1</td>\n",
       "    </tr>\n",
       "    <tr>\n",
       "      <th>29</th>\n",
       "      <td>llama3_chat</td>\n",
       "      <td>seed42_tr29</td>\n",
       "      <td>pmt_01_all_lr1e-5_bs16_wd0.0</td>\n",
       "      <td>1</td>\n",
       "      <td>1</td>\n",
       "    </tr>\n",
       "    <tr>\n",
       "      <th>30</th>\n",
       "      <td>llama3</td>\n",
       "      <td>seed128_tr29</td>\n",
       "      <td>pmt_01_yes_no_all_lr1e-5_bs16_wd0.0</td>\n",
       "      <td>1</td>\n",
       "      <td>1</td>\n",
       "    </tr>\n",
       "    <tr>\n",
       "      <th>31</th>\n",
       "      <td>llama3</td>\n",
       "      <td>seed128_tr29</td>\n",
       "      <td>pmt_01_all_lr1e-5_bs16_wd0.0</td>\n",
       "      <td>1</td>\n",
       "      <td>1</td>\n",
       "    </tr>\n",
       "    <tr>\n",
       "      <th>32</th>\n",
       "      <td>llama3</td>\n",
       "      <td>seed42_tr29</td>\n",
       "      <td>pmt_01_yes_no_all_lr1e-5_bs16_wd0.0</td>\n",
       "      <td>1</td>\n",
       "      <td>1</td>\n",
       "    </tr>\n",
       "    <tr>\n",
       "      <th>33</th>\n",
       "      <td>llama3</td>\n",
       "      <td>seed42_tr29</td>\n",
       "      <td>pmt_01_all_lr1e-5_bs16_wd0.0</td>\n",
       "      <td>1</td>\n",
       "      <td>1</td>\n",
       "    </tr>\n",
       "    <tr>\n",
       "      <th>34</th>\n",
       "      <td>llama3</td>\n",
       "      <td>seed89_tr29</td>\n",
       "      <td>pmt_01_all_lr1e-5_bs16_wd0.0</td>\n",
       "      <td>1</td>\n",
       "      <td>1</td>\n",
       "    </tr>\n",
       "    <tr>\n",
       "      <th>35</th>\n",
       "      <td>llama3</td>\n",
       "      <td>seed89_tr29</td>\n",
       "      <td>pmt_01_yes_no_all_lr1e-5_bs16_wd0.0</td>\n",
       "      <td>1</td>\n",
       "      <td>1</td>\n",
       "    </tr>\n",
       "  </tbody>\n",
       "</table>\n",
       "</div>"
      ],
      "text/plain": [
       "            model         split                             run_name   \n",
       "0         mixtral   seed42_tr29         pmt_01_all_lr1e-5_bs16_wd0.0  \\\n",
       "1        t5-large   seed42_tr29      pmt_01_yes_no_lr1e-4_bs16_wd0.0   \n",
       "2        t5-large   seed42_tr29             pmt_01_lr1e-4_bs16_wd0.0   \n",
       "3        t5-large  seed128_tr29             pmt_01_lr1e-4_bs16_wd0.0   \n",
       "4        t5-large  seed128_tr29      pmt_01_yes_no_lr1e-4_bs16_wd0.0   \n",
       "5        t5-large   seed89_tr29             pmt_01_lr1e-4_bs16_wd0.0   \n",
       "6        t5-large   seed89_tr29      pmt_01_yes_no_lr1e-4_bs16_wd0.0   \n",
       "7      flan-t5-xl   seed42_tr29             pmt_01_lr1e-4_bs16_wd0.0   \n",
       "8      flan-t5-xl  seed128_tr29             pmt_01_lr1e-4_bs16_wd0.0   \n",
       "9      flan-t5-xl   seed89_tr29             pmt_01_lr1e-4_bs16_wd0.0   \n",
       "10  flan-t5-large   seed89_tr29      pmt_01_yes_no_lr1e-4_bs16_wd0.0   \n",
       "11  flan-t5-large   seed89_tr29             pmt_01_lr1e-4_bs16_wd0.0   \n",
       "12  flan-t5-large  seed128_tr29             pmt_01_lr1e-4_bs16_wd0.0   \n",
       "13  flan-t5-large  seed128_tr29      pmt_01_yes_no_lr1e-4_bs16_wd0.0   \n",
       "14  flan-t5-large   seed42_tr29      pmt_01_yes_no_lr1e-4_bs16_wd0.0   \n",
       "15  flan-t5-large   seed42_tr29             pmt_01_lr1e-4_bs16_wd0.0   \n",
       "16        mistral   seed89_tr29         pmt_01_all_lr1e-5_bs16_wd0.0   \n",
       "17        mistral   seed89_tr29  pmt_01_yes_no_all_lr1e-5_bs16_wd0.0   \n",
       "18        mistral   seed42_tr29  pmt_01_yes_no_all_lr1e-5_bs16_wd0.0   \n",
       "19        mistral   seed42_tr29         pmt_01_all_lr1e-5_bs16_wd0.0   \n",
       "20        mistral  seed128_tr29         pmt_01_all_lr1e-5_bs16_wd0.0   \n",
       "21        mistral  seed128_tr29  pmt_01_yes_no_all_lr1e-5_bs16_wd0.0   \n",
       "22   mistral_chat   seed42_tr29         pmt_01_all_lr1e-5_bs16_wd0.0   \n",
       "23   mistral_chat   seed89_tr29         pmt_01_all_lr1e-5_bs16_wd0.0   \n",
       "24   mistral_chat  seed128_tr29         pmt_01_all_lr1e-5_bs16_wd0.0   \n",
       "25    llama3_chat   seed89_tr29         pmt_01_all_lr1e-5_bs16_wd0.0   \n",
       "26    llama3_chat   seed89_tr29  pmt_01_yes_no_all_lr1e-5_bs16_wd0.0   \n",
       "27    llama3_chat  seed128_tr29  pmt_01_yes_no_all_lr1e-5_bs16_wd0.0   \n",
       "28    llama3_chat  seed128_tr29         pmt_01_all_lr1e-5_bs16_wd0.0   \n",
       "29    llama3_chat   seed42_tr29         pmt_01_all_lr1e-5_bs16_wd0.0   \n",
       "30         llama3  seed128_tr29  pmt_01_yes_no_all_lr1e-5_bs16_wd0.0   \n",
       "31         llama3  seed128_tr29         pmt_01_all_lr1e-5_bs16_wd0.0   \n",
       "32         llama3   seed42_tr29  pmt_01_yes_no_all_lr1e-5_bs16_wd0.0   \n",
       "33         llama3   seed42_tr29         pmt_01_all_lr1e-5_bs16_wd0.0   \n",
       "34         llama3   seed89_tr29         pmt_01_all_lr1e-5_bs16_wd0.0   \n",
       "35         llama3   seed89_tr29  pmt_01_yes_no_all_lr1e-5_bs16_wd0.0   \n",
       "\n",
       "    has_pred  has_metric  \n",
       "0          0           0  \n",
       "1          1           1  \n",
       "2          1           1  \n",
       "3          1           0  \n",
       "4          1           1  \n",
       "5          1           1  \n",
       "6          1           1  \n",
       "7          0           0  \n",
       "8          0           0  \n",
       "9          0           0  \n",
       "10         1           1  \n",
       "11         1           1  \n",
       "12         1           1  \n",
       "13         1           1  \n",
       "14         1           1  \n",
       "15         1           1  \n",
       "16         1           1  \n",
       "17         0           0  \n",
       "18         1           1  \n",
       "19         1           1  \n",
       "20         1           1  \n",
       "21         0           0  \n",
       "22         1           1  \n",
       "23         1           1  \n",
       "24         1           1  \n",
       "25         1           1  \n",
       "26         0           0  \n",
       "27         0           0  \n",
       "28         1           1  \n",
       "29         1           1  \n",
       "30         1           1  \n",
       "31         1           1  \n",
       "32         1           1  \n",
       "33         1           1  \n",
       "34         1           1  \n",
       "35         1           1  "
      ]
     },
     "execution_count": 13,
     "metadata": {},
     "output_type": "execute_result"
    }
   ],
   "source": [
    "run_man.runs"
   ]
  },
  {
   "cell_type": "markdown",
   "metadata": {},
   "source": [
    "### Calculate Metrics of Baselines"
   ]
  },
  {
   "cell_type": "code",
   "execution_count": 32,
   "metadata": {
    "metadata": {}
   },
   "outputs": [
    {
     "name": "stdout",
     "output_type": "stream",
     "text": [
      "ood\n",
      "['macro_p', 'macro_r', 'macro_f1', 'macro_iou', 'micro_p', 'micro_r', 'micro_f1', 'micro_iou']\n",
      "19.31\t64.70\t26.24\t15.97\t13.64\t68.01\t22.73\t12.82\n"
     ]
    }
   ],
   "source": [
    "split = 'seed42_tr29'\n",
    "run_dir = Path(f'runs/baseline/flan-t5-xl/{split}/pmt_01')\n",
    "\n",
    "tk_name = get_tk_name(str(run_dir))\n",
    "\n",
    "# Different parse function for flan-t5-xl and llama3-instruct\n",
    "def parse_pred_zs_llama3(row):\n",
    "    text = row['prediction']\n",
    "    if 'No' in text and 'Yes' not in text:\n",
    "        return ''\n",
    "    return text\n",
    "\n",
    "def get_parse_zs_flan():\n",
    "    para_data = load_jsonl('data/cuad_clean/merge_split/paras_flan-t5_512.jsonl')\n",
    "    tit2paras = {k['title']: k['paras'] for k in para_data}\n",
    "\n",
    "    def parse(row):\n",
    "        text = row['prediction']\n",
    "        if text == 'No':\n",
    "            return ''\n",
    "        if text == 'Yes':\n",
    "            para_text = tit2paras[row['title']][row['para_idx']]['text']\n",
    "            return para_text\n",
    "        return text\n",
    "    return parse\n",
    "\n",
    "for ood in ['ood']:\n",
    "    test_meta_id = pd.read_csv(f'data/ood_split/{split}/{tk_name}/test_meta_{ood}.csv', converters = cvt)\n",
    "\n",
    "    pred_sampled_df = pd.DataFrame(load_jsonl(run_dir / f'predictions_{ood}_sampled.jsonl'))\n",
    "    if tk_name == 'flan-t5':\n",
    "        apply_fn = get_parse_zs_flan()\n",
    "    elif tk_name == 'llama3':\n",
    "        apply_fn = parse_pred_zs_llama3\n",
    "    pred_sampled_df['prediction'] = pred_sampled_df.apply(apply_fn, axis = 1)\n",
    "\n",
    "    ov_mets_sampled, detail_df_sampled = get_overall_metrics(test_meta_id, pred_sampled_df, lambda k: k)\n",
    "    save_json(ov_mets_sampled, run_dir / f'ov_metrics_{ood}_sampled.csv')\n",
    "    detail_df_sampled.to_csv(run_dir / f'detail_metrics_{ood}_sampled.csv', index = False)\n",
    "\n",
    "    keys = [f'{a}_{b}' for a in ['macro', 'micro'] for b in ['p', 'r', 'f1', 'iou']]\n",
    "    values = [ov_mets_sampled[k] for k in keys]\n",
    "    v_str = [f'{k*100:.2f}' for k in values]\n",
    "\n",
    "    print(ood)\n",
    "    print(keys)\n",
    "    print('\\t'.join(v_str))"
   ]
  },
  {
   "cell_type": "code",
   "execution_count": 19,
   "metadata": {
    "metadata": {}
   },
   "outputs": [
    {
     "data": {
      "text/plain": [
       "Index(['title', 'para_idx', 'q_id', 'type', 'prediction'], dtype='object')"
      ]
     },
     "execution_count": 19,
     "metadata": {},
     "output_type": "execute_result"
    }
   ],
   "source": [
    "pred_sampled_df.columns"
   ]
  },
  {
   "cell_type": "code",
   "execution_count": 17,
   "metadata": {
    "metadata": {}
   },
   "outputs": [
    {
     "name": "stdout",
     "output_type": "stream",
     "text": [
      "dict_keys(['title', 'paras'])\n"
     ]
    }
   ],
   "source": [
    "para_data = load_jsonl('data/cuad_clean/merge_split/paras_flan-t5_512.jsonl')\n",
    "print(para_data[0].keys())"
   ]
  },
  {
   "cell_type": "code",
   "execution_count": 18,
   "metadata": {
    "metadata": {}
   },
   "outputs": [
    {
     "data": {
      "text/plain": [
       "dict_keys(['text', 'offset', 'qas', 'old_para_idx'])"
      ]
     },
     "execution_count": 18,
     "metadata": {},
     "output_type": "execute_result"
    }
   ],
   "source": [
    "para_data[0]['paras'][0].keys()"
   ]
  },
  {
   "cell_type": "markdown",
   "metadata": {},
   "source": [
    "### Visualize"
   ]
  },
  {
   "cell_type": "code",
   "execution_count": 22,
   "metadata": {
    "metadata": {}
   },
   "outputs": [],
   "source": [
    "import matplotlib.pyplot as plt"
   ]
  },
  {
   "cell_type": "code",
   "execution_count": 29,
   "metadata": {
    "metadata": {}
   },
   "outputs": [
    {
     "data": {
      "text/plain": [
       "<matplotlib.legend.Legend at 0x7fc213da53a0>"
      ]
     },
     "execution_count": 29,
     "metadata": {},
     "output_type": "execute_result"
    },
    {
     "data": {
      "image/png": "[encoded data removed]",
      "text/plain": [
       "<Figure size 640x480 with 1 Axes>"
      ]
     },
     "metadata": {},
     "output_type": "display_data"
    }
   ],
   "source": [
    "# Plot metrics with regard to training steps\n",
    "steps, mets = run_man.get_run_metrics('runs/ood/mistral/seed42_tr29/pmt_01_all_lr1e-5_bs16_wd0.0')\n",
    "\n",
    "for mn in ['macro_iou', 'macro_p', 'macro_r', 'macro_f1']:\n",
    "# for mn in ['micro_iou', 'micro_p', 'micro_r']:\n",
    "    plt.plot(steps, mets[mn], label = mn)\n",
    "plt.legend()"
   ]
  },
  {
   "cell_type": "code",
   "execution_count": 31,
   "metadata": {},
   "outputs": [
    {
     "data": {
      "text/html": [
       "<div>\n",
       "<style scoped>\n",
       "    .dataframe tbody tr th:only-of-type {\n",
       "        vertical-align: middle;\n",
       "    }\n",
       "\n",
       "    .dataframe tbody tr th {\n",
       "        vertical-align: top;\n",
       "    }\n",
       "\n",
       "    .dataframe thead th {\n",
       "        text-align: right;\n",
       "    }\n",
       "</style>\n",
       "<table border=\"1\" class=\"dataframe\">\n",
       "  <thead>\n",
       "    <tr style=\"text-align: right;\">\n",
       "      <th></th>\n",
       "      <th>doc_macro_f1</th>\n",
       "      <th>doc_macro_iou</th>\n",
       "      <th>doc_macro_p</th>\n",
       "      <th>doc_macro_r</th>\n",
       "      <th>macro_f1</th>\n",
       "      <th>macro_iou</th>\n",
       "      <th>macro_p</th>\n",
       "      <th>macro_r</th>\n",
       "      <th>micro_f1</th>\n",
       "      <th>micro_iou</th>\n",
       "      <th>micro_p</th>\n",
       "      <th>micro_r</th>\n",
       "    </tr>\n",
       "  </thead>\n",
       "  <tbody>\n",
       "    <tr>\n",
       "      <th>0</th>\n",
       "      <td>0.823106</td>\n",
       "      <td>0.809600</td>\n",
       "      <td>0.922408</td>\n",
       "      <td>0.862671</td>\n",
       "      <td>0.415770</td>\n",
       "      <td>0.291860</td>\n",
       "      <td>0.595086</td>\n",
       "      <td>0.400382</td>\n",
       "      <td>0.461046</td>\n",
       "      <td>0.299584</td>\n",
       "      <td>0.637018</td>\n",
       "      <td>0.361253</td>\n",
       "    </tr>\n",
       "    <tr>\n",
       "      <th>1</th>\n",
       "      <td>0.838035</td>\n",
       "      <td>0.823903</td>\n",
       "      <td>0.928694</td>\n",
       "      <td>0.869648</td>\n",
       "      <td>0.444602</td>\n",
       "      <td>0.315088</td>\n",
       "      <td>0.645989</td>\n",
       "      <td>0.410266</td>\n",
       "      <td>0.491539</td>\n",
       "      <td>0.325854</td>\n",
       "      <td>0.679149</td>\n",
       "      <td>0.385145</td>\n",
       "    </tr>\n",
       "    <tr>\n",
       "      <th>2</th>\n",
       "      <td>0.845451</td>\n",
       "      <td>0.834670</td>\n",
       "      <td>0.967197</td>\n",
       "      <td>0.851819</td>\n",
       "      <td>0.414388</td>\n",
       "      <td>0.296826</td>\n",
       "      <td>0.739717</td>\n",
       "      <td>0.357507</td>\n",
       "      <td>0.463038</td>\n",
       "      <td>0.301269</td>\n",
       "      <td>0.805566</td>\n",
       "      <td>0.324893</td>\n",
       "    </tr>\n",
       "    <tr>\n",
       "      <th>3</th>\n",
       "      <td>0.849832</td>\n",
       "      <td>0.836703</td>\n",
       "      <td>0.943058</td>\n",
       "      <td>0.870423</td>\n",
       "      <td>0.451160</td>\n",
       "      <td>0.322174</td>\n",
       "      <td>0.692472</td>\n",
       "      <td>0.405592</td>\n",
       "      <td>0.505018</td>\n",
       "      <td>0.337809</td>\n",
       "      <td>0.745111</td>\n",
       "      <td>0.381946</td>\n",
       "    </tr>\n",
       "    <tr>\n",
       "      <th>4</th>\n",
       "      <td>0.842676</td>\n",
       "      <td>0.826418</td>\n",
       "      <td>0.901468</td>\n",
       "      <td>0.896577</td>\n",
       "      <td>0.477249</td>\n",
       "      <td>0.337523</td>\n",
       "      <td>0.563148</td>\n",
       "      <td>0.496372</td>\n",
       "      <td>0.541670</td>\n",
       "      <td>0.371432</td>\n",
       "      <td>0.602652</td>\n",
       "      <td>0.491896</td>\n",
       "    </tr>\n",
       "  </tbody>\n",
       "</table>\n",
       "</div>"
      ],
      "text/plain": [
       "   doc_macro_f1  doc_macro_iou  doc_macro_p  doc_macro_r  macro_f1  macro_iou   \n",
       "0      0.823106       0.809600     0.922408     0.862671  0.415770   0.291860  \\\n",
       "1      0.838035       0.823903     0.928694     0.869648  0.444602   0.315088   \n",
       "2      0.845451       0.834670     0.967197     0.851819  0.414388   0.296826   \n",
       "3      0.849832       0.836703     0.943058     0.870423  0.451160   0.322174   \n",
       "4      0.842676       0.826418     0.901468     0.896577  0.477249   0.337523   \n",
       "\n",
       "    macro_p   macro_r  micro_f1  micro_iou   micro_p   micro_r  \n",
       "0  0.595086  0.400382  0.461046   0.299584  0.637018  0.361253  \n",
       "1  0.645989  0.410266  0.491539   0.325854  0.679149  0.385145  \n",
       "2  0.739717  0.357507  0.463038   0.301269  0.805566  0.324893  \n",
       "3  0.692472  0.405592  0.505018   0.337809  0.745111  0.381946  \n",
       "4  0.563148  0.496372  0.541670   0.371432  0.602652  0.491896  "
      ]
     },
     "execution_count": 31,
     "metadata": {},
     "output_type": "execute_result"
    }
   ],
   "source": [
    "mets"
   ]
  },
  {
   "cell_type": "code",
   "execution_count": 32,
   "metadata": {},
   "outputs": [
    {
     "ename": "IndexError",
     "evalue": "list index out of range",
     "output_type": "error",
     "traceback": [
      "\u001b[0;31m---------------------------------------------------------------------------\u001b[0m",
      "\u001b[0;31mIndexError\u001b[0m                                Traceback (most recent call last)",
      "\u001b[1;32m/storage/rhshui/workspace/contract_review/scripts/jupyter/get_metrics.ipynb Cell 18\u001b[0m line \u001b[0;36m3\n\u001b[1;32m      <a href='vscode-notebook-cell://ssh-remote%2Bnext-asus-2/storage/rhshui/workspace/contract_review/scripts/jupyter/get_metrics.ipynb#X35sdnNjb2RlLXJlbW90ZQ%3D%3D?line=0'>1</a>\u001b[0m run_dir \u001b[39m=\u001b[39m Path(\u001b[39m'\u001b[39m\u001b[39mruns/ood/flan-t5-large/seed42_tr29/pmt_01_lr1e-4_bs16_wd0.0\u001b[39m\u001b[39m'\u001b[39m)\n\u001b[1;32m      <a href='vscode-notebook-cell://ssh-remote%2Bnext-asus-2/storage/rhshui/workspace/contract_review/scripts/jupyter/get_metrics.ipynb#X35sdnNjb2RlLXJlbW90ZQ%3D%3D?line=1'>2</a>\u001b[0m ckpt_dirs \u001b[39m=\u001b[39m get_ckpt_paths(run_dir)\n\u001b[0;32m----> <a href='vscode-notebook-cell://ssh-remote%2Bnext-asus-2/storage/rhshui/workspace/contract_review/scripts/jupyter/get_metrics.ipynb#X35sdnNjb2RlLXJlbW90ZQ%3D%3D?line=2'>3</a>\u001b[0m ckpt_dir \u001b[39m=\u001b[39m ckpt_dirs[\u001b[39m-\u001b[39;49m\u001b[39m1\u001b[39;49m]\n\u001b[1;32m      <a href='vscode-notebook-cell://ssh-remote%2Bnext-asus-2/storage/rhshui/workspace/contract_review/scripts/jupyter/get_metrics.ipynb#X35sdnNjb2RlLXJlbW90ZQ%3D%3D?line=3'>4</a>\u001b[0m \u001b[39m# get detail results\u001b[39;00m\n\u001b[1;32m      <a href='vscode-notebook-cell://ssh-remote%2Bnext-asus-2/storage/rhshui/workspace/contract_review/scripts/jupyter/get_metrics.ipynb#X35sdnNjb2RlLXJlbW90ZQ%3D%3D?line=4'>5</a>\u001b[0m save_path \u001b[39m=\u001b[39m ckpt_dir \u001b[39m/\u001b[39m \u001b[39mf\u001b[39m\u001b[39m'\u001b[39m\u001b[39mdetail_metrics_ood_sampled.csv\u001b[39m\u001b[39m'\u001b[39m\n",
      "\u001b[0;31mIndexError\u001b[0m: list index out of range"
     ]
    }
   ],
   "source": [
    "run_dir = Path('runs/ood/flan-t5-large/seed42_tr29/pmt_01_lr1e-4_bs16_wd0.0')\n",
    "ckpt_dirs = get_ckpt_paths(run_dir)\n",
    "ckpt_dir = ckpt_dirs[-1]\n",
    "# get detail results\n",
    "save_path = ckpt_dir / f'detail_metrics_ood_sampled.csv'\n",
    "met_df_ood = pd.read_csv(save_path)\n",
    "iou_mat_ood = met_df_ood['micro_iou']\n",
    "\n",
    "save_path = ckpt_dir / f'detail_metrics_id_sampled.csv'\n",
    "met_df_id = pd.read_csv(save_path)\n",
    "iou_mat_id = met_df_id['micro_iou']"
   ]
  },
  {
   "cell_type": "code",
   "execution_count": null,
   "metadata": {},
   "outputs": [],
   "source": [
    "all_info = pd.read_csv('data/clause/all_info.csv')\n",
    "q2name = {i: row['clause_type'] for i,row in all_info.iterrows()}"
   ]
  },
  {
   "cell_type": "code",
   "execution_count": null,
   "metadata": {},
   "outputs": [],
   "source": [
    "def plot_clause_bar(met_df):\n",
    "    x_labels = met_df['q_id'].apply(lambda k: q2name[k]).to_list()\n",
    "    y = met_df['micro_iou'].to_list()\n",
    "    ax = plt.gca()\n",
    "    # fig, ax = plt.subplots()\n",
    "    ax.barh(range(len(y)), y)\n",
    "    ax.set_yticks(range(len(y)))\n",
    "    ax.set_yticklabels(x_labels)"
   ]
  },
  {
   "cell_type": "code",
   "execution_count": null,
   "metadata": {},
   "outputs": [
    {
     "data": {
      "image/png": "[encoded data removed]",
      "text/plain": [
       "<Figure size 640x480 with 1 Axes>"
      ]
     },
     "metadata": {},
     "output_type": "display_data"
    }
   ],
   "source": [
    "plot_clause_bar(met_df_ood)"
   ]
  },
  {
   "cell_type": "code",
   "execution_count": null,
   "metadata": {},
   "outputs": [
    {
     "data": {
      "image/png": "[encoded data removed]",
      "text/plain": [
       "<Figure size 600x1000 with 1 Axes>"
      ]
     },
     "metadata": {},
     "output_type": "display_data"
    }
   ],
   "source": [
    "plt.figure(figsize = (6,10))\n",
    "plot_clause_bar(met_df_id)"
   ]
  },
  {
   "cell_type": "code",
   "execution_count": 67,
   "metadata": {},
   "outputs": [
    {
     "data": {
      "text/plain": [
       "0                          Document Name\n",
       "1                                Parties\n",
       "2                           Renewal Term\n",
       "3     Notice Period To Terminate Renewal\n",
       "4                          Governing Law\n",
       "5                    Most Favored Nation\n",
       "6                      Non-Disparagement\n",
       "7            Termination For Convenience\n",
       "8                      Change Of Control\n",
       "9             Affiliate License-Licensor\n",
       "10                             Insurance\n",
       "11               Third Party Beneficiary\n",
       "Name: q_id, dtype: object"
      ]
     },
     "execution_count": 67,
     "metadata": {},
     "output_type": "execute_result"
    }
   ],
   "source": [
    "met_df_ood['q_id'].apply(lambda k: q2name[k])"
   ]
  },
  {
   "cell_type": "markdown",
   "metadata": {},
   "source": [
    "### Loss Plot"
   ]
  },
  {
   "cell_type": "code",
   "execution_count": 19,
   "metadata": {},
   "outputs": [
    {
     "data": {
      "image/png": "[encoded data removed]",
      "text/plain": [
       "<Figure size 640x480 with 1 Axes>"
      ]
     },
     "metadata": {},
     "output_type": "display_data"
    }
   ],
   "source": [
    "loss_dt = {\n",
    "    'flan-t5': get_loss_df_norm('runs/ood/flan-t5-large/seed42_tr29/pmt_01_lr1e-4_bs16_wd0.0'),\n",
    "    # 'flan-t5_yn': get_loss_df_norm('runs/ood/flan-t5-large/seed42_tr29/pmt_01_yes_no_lr1e-4_bs16_wd0.0'),\n",
    "    't5-large': get_loss_df_norm('runs/ood/t5-large/seed42_tr29/pmt_01_lr1e-4_bs16_wd0.0'),\n",
    "    # 'llama3': get_loss_df_norm('runs/ood/llama3/seed42_tr29/pmt_01_all_lr1e-5_bs16_wd0.0'),\n",
    "    # 'llama3_kv': get_loss_df_norm('runs/ood/llama3/seed42_tr29/pmt_01_lr1e-5_bs16_wd0.0'),\n",
    "    # 'llama3_yn': get_loss_df_norm('runs/ood/llama3/seed42_tr29/pmt_01_yes_no_all_lr1e-5_bs16_wd0.0'),\n",
    "    # 'llama3_ynkv': get_loss_df_norm('runs/ood/llama3/seed42_tr29/pmt_01_yes_no_lr1e-5_bs16_wd0.0'),\n",
    "    # 'phi1': get_loss_df_norm('runs/ood/phi-1_5/seed42_tr29/pmt_01_lr1e-5_bs16_wd0.0'),\n",
    "    # 'mistral': get_loss_df_norm('runs/ood/mistral/seed42_tr29/pmt_01_all_lr1e-5_bs16_wd0.0'),\n",
    "    # 'mistral_yn': get_loss_df_norm('runs/ood/mistral/seed42_tr29/pmt_01_yes_no_all_lr1e-5_bs16_wd0.0'),\n",
    "}\n",
    "\n",
    "plot_multiple_loss(loss_dt, y_lim = 20)"
   ]
  },
  {
   "cell_type": "code",
   "execution_count": 28,
   "metadata": {},
   "outputs": [
    {
     "name": "stdout",
     "output_type": "stream",
     "text": [
      "<class 'pandas.core.frame.DataFrame'>\n",
      "     a    b    c\n",
      "a               \n",
      "1  1.0  1.5  5.5\n",
      "2  2.0  3.0  7.0\n",
      "3  3.0  4.0  8.0\n"
     ]
    }
   ],
   "source": [
    "x = pd.DataFrame({'a': [1,1,2,3], 'b': [1,2,3,4], 'c': [5,6,7,8]})\n",
    "r = x.groupby('a').apply(lambda k: k.mean())\n",
    "# r = x.groupby(['a', 'b']).apply(lambda k: pd.Series([k['a'].mean(), k['b'].mean()], index = ['am', 'bm']))\n",
    "print(type(r))\n",
    "print(r)"
   ]
  },
  {
   "cell_type": "code",
   "execution_count": 23,
   "metadata": {},
   "outputs": [
    {
     "name": "stdout",
     "output_type": "stream",
     "text": [
      "   a  b   am   bm\n",
      "0  1  1  1.0  1.0\n",
      "1  1  2  1.0  2.0\n",
      "2  2  3  2.0  3.0\n",
      "3  3  4  3.0  4.0\n"
     ]
    }
   ],
   "source": [
    "r2 = r.reset_index()\n",
    "print(r2)"
   ]
  },
  {
   "cell_type": "code",
   "execution_count": 30,
   "metadata": {},
   "outputs": [
    {
     "data": {
      "text/plain": [
       "{1: 1.0, 2: 2.0, 3: 3.0}"
      ]
     },
     "execution_count": 30,
     "metadata": {},
     "output_type": "execute_result"
    }
   ],
   "source": [
    "r['a'].to_dict()"
   ]
  },
  {
   "cell_type": "code",
   "execution_count": null,
   "metadata": {},
   "outputs": [],
   "source": []
  }
 ],
 "metadata": {
  "kernelspec": {
   "display_name": "llm",
   "language": "python",
   "name": "python3"
  },
  "language_info": {
   "codemirror_mode": {
    "name": "ipython",
    "version": 3
   },
   "file_extension": ".py",
   "mimetype": "text/x-python",
   "name": "python",
   "nbconvert_exporter": "python",
   "pygments_lexer": "ipython3",
   "version": "3.9.16"
  }
 },
 "nbformat": 4,
 "nbformat_minor": 2
}
