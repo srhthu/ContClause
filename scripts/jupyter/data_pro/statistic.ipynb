{
 "cells": [
  {
   "cell_type": "markdown",
   "metadata": {},
   "source": [
    "Statistics in papers"
   ]
  },
  {
   "cell_type": "code",
   "execution_count": 25,
   "metadata": {
    "metadata": {}
   },
   "outputs": [],
   "source": [
    "# First ,change the working directory to the project root dir\n",
    "import os\n",
    "import context\n",
    "os.chdir(context.proj_dir)\n",
    "\n",
    "import json\n",
    "import numpy as np\n",
    "import pandas as pd\n",
    "import matplotlib.pyplot as plt\n",
    "from collections import Counter\n",
    "\n",
    "from cont_gen.utils import load_jsonl, save_jsonl, load_json\n"
   ]
  },
  {
   "cell_type": "code",
   "execution_count": 2,
   "metadata": {
    "metadata": {}
   },
   "outputs": [],
   "source": [
    "# Statistics of document length\n",
    "all_data = load_jsonl('data/cuad_clean/CUADv1.jsonl')"
   ]
  },
  {
   "cell_type": "code",
   "execution_count": 4,
   "metadata": {
    "metadata": {}
   },
   "outputs": [
    {
     "data": {
      "text/plain": [
       "dict_keys(['title', 'doc_text', 'qas', 'new2old_map'])"
      ]
     },
     "execution_count": 4,
     "metadata": {},
     "output_type": "execute_result"
    }
   ],
   "source": [
    "all_data[0].keys()"
   ]
  },
  {
   "cell_type": "code",
   "execution_count": 5,
   "metadata": {
    "metadata": {}
   },
   "outputs": [],
   "source": [
    "doc_lens = [len(k['doc_text'].split()) for k in all_data]"
   ]
  },
  {
   "cell_type": "code",
   "execution_count": 10,
   "metadata": {
    "metadata": {}
   },
   "outputs": [
    {
     "name": "stdout",
     "output_type": "stream",
     "text": [
      "Average: 7861.1882352941175\n",
      "Max: 47733\n"
     ]
    },
    {
     "data": {
      "image/png": "[encoded data removed]",
      "text/plain": [
       "<Figure size 640x480 with 1 Axes>"
      ]
     },
     "metadata": {},
     "output_type": "display_data"
    }
   ],
   "source": [
    "print(f'Average: {np.mean(doc_lens)}')\n",
    "print(f'Max: {np.max(doc_lens)}')\n",
    "_ = plt.hist(doc_lens, bins = 20)"
   ]
  },
  {
   "cell_type": "markdown",
   "metadata": {
    "metadata": {}
   },
   "source": [
    "### After segmentation statistics to show clause spasity\n",
    "Get\n",
    "- ave number of paragrahs, ave token num of paragraph, \n",
    "- percent of paras w/o key clause\n",
    "- average of clause exist rate: for each clause, get how many cont it exists. then average"
   ]
  },
  {
   "cell_type": "code",
   "execution_count": 11,
   "metadata": {
    "metadata": {}
   },
   "outputs": [],
   "source": [
    "para_data = load_jsonl('data/cuad_clean/merge_split/paras_llama3_512.jsonl')"
   ]
  },
  {
   "cell_type": "code",
   "execution_count": 15,
   "metadata": {
    "metadata": {}
   },
   "outputs": [
    {
     "data": {
      "text/plain": [
       "dict_keys(['text', 'offset', 'qas', 'old_para_idx'])"
      ]
     },
     "execution_count": 15,
     "metadata": {},
     "output_type": "execute_result"
    }
   ],
   "source": [
    "para_data[0]['paras'][0].keys()"
   ]
  },
  {
   "cell_type": "code",
   "execution_count": 21,
   "metadata": {
    "metadata": {}
   },
   "outputs": [
    {
     "name": "stdout",
     "output_type": "stream",
     "text": [
      "Ave num para. per doc. 65.49215686274509\n",
      "Ave num words per para. 120.04643573545702\n",
      "Pct has clause: 19.33\n"
     ]
    }
   ],
   "source": [
    "ave_n_para = np.mean([len(k['paras']) for k in para_data])\n",
    "print(f'Ave num para. per doc. {ave_n_para}')\n",
    "ave_n_words = np.mean([len(para['text'].split()) for k in para_data for para in k['paras']])\n",
    "print(f'Ave num words per para. {ave_n_words}')\n",
    "\n",
    "has_clause = [len(para['qas']) > 0 for k in para_data for para in k['paras']]\n",
    "pct_has_c = np.sum(has_clause) / len(has_clause)\n",
    "print(f'Pct has clause: {pct_has_c * 100:.2f}')\n"
   ]
  },
  {
   "cell_type": "code",
   "execution_count": 18,
   "metadata": {
    "metadata": {}
   },
   "outputs": [
    {
     "data": {
      "text/plain": [
       "455"
      ]
     },
     "execution_count": 18,
     "metadata": {},
     "output_type": "execute_result"
    }
   ],
   "source": [
    "np.max([len(para['text'].split()) for k in para_data for para in k['paras']])"
   ]
  },
  {
   "cell_type": "code",
   "execution_count": 22,
   "metadata": {
    "metadata": {}
   },
   "outputs": [],
   "source": [
    "doc2clas = []\n",
    "for doc in para_data:\n",
    "    cla_ids = set()\n",
    "    for para in doc['paras']:\n",
    "        for qa in para['qas']:\n",
    "            cla_ids.add(qa['q_id'])\n",
    "    doc2clas.append(cla_ids)"
   ]
  },
  {
   "cell_type": "code",
   "execution_count": 26,
   "metadata": {
    "metadata": {}
   },
   "outputs": [
    {
     "name": "stdout",
     "output_type": "stream",
     "text": [
      "Ave num of cla types: 12.933333333333334\n",
      "Ave cla ratio: 31.54\n"
     ]
    }
   ],
   "source": [
    "ave_n_type = np.mean([len(k) for k in doc2clas])\n",
    "print(f'Ave num of cla types: {ave_n_type}')\n",
    "\n",
    "cla_count = Counter([c for k in doc2clas for c in k])\n",
    "ave_cla_ratio = np.mean([v / 510 for v in cla_count.values()])\n",
    "print(f'Ave cla ratio: {ave_cla_ratio*100:.2f}')\n",
    "    "
   ]
  },
  {
   "cell_type": "code",
   "execution_count": 27,
   "metadata": {
    "metadata": {}
   },
   "outputs": [
    {
     "data": {
      "text/plain": [
       "0.7073170731707317"
      ]
     },
     "execution_count": 27,
     "metadata": {},
     "output_type": "execute_result"
    }
   ],
   "source": [
    "29 / 41"
   ]
  },
  {
   "cell_type": "code",
   "execution_count": null,
   "metadata": {},
   "outputs": [],
   "source": []
  }
 ],
 "metadata": {
  "kernelspec": {
   "display_name": "llm",
   "language": "python",
   "name": "python3"
  },
  "language_info": {
   "codemirror_mode": {
    "name": "ipython",
    "version": 3
   },
   "file_extension": ".py",
   "mimetype": "text/x-python",
   "name": "python",
   "nbconvert_exporter": "python",
   "pygments_lexer": "ipython3",
   "version": "3.9.16"
  }
 },
 "nbformat": 4,
 "nbformat_minor": 2
}
